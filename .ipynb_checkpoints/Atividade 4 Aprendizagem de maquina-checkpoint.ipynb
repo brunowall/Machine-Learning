{
 "cells": [
  {
   "cell_type": "code",
   "execution_count": 1,
   "metadata": {
    "scrolled": false
   },
   "outputs": [],
   "source": [
    "%matplotlib inline\n",
    "import sklearn \n",
    "from sklearn import linear_model\n",
    "from sklearn import ensemble\n",
    "from mylibs import resample\n",
    "from mylibs import transform\n",
    "from mylibs import metrics\n",
    "import numpy as np\n",
    "from matplotlib import pyplot as plt"
   ]
  },
  {
   "cell_type": "markdown",
   "metadata": {},
   "source": [
    "### Questão 2"
   ]
  },
  {
   "cell_type": "code",
   "execution_count": 2,
   "metadata": {},
   "outputs": [
    {
     "name": "stdout",
     "output_type": "stream",
     "text": [
      "[5. 5. 5. ... 6. 5. 6.]\n",
      "(1599,)\n",
      "(1599, 11)\n"
     ]
    }
   ],
   "source": [
    "points = np.genfromtxt(\"winequality-red.csv\", delimiter=\";\")\n",
    "X = points[1:,:11]\n",
    "y = points[1:,11]\n",
    "\n",
    "print(y)\n",
    "\n",
    "print(y.shape)\n",
    "\n",
    "print(X.shape)"
   ]
  },
  {
   "cell_type": "code",
   "execution_count": 3,
   "metadata": {
    "scrolled": true
   },
   "outputs": [],
   "source": [
    "idx_train, idx_test = resample.split_k_fold(X.shape[0],5,True,0)\n",
    "evaluations = []"
   ]
  },
  {
   "cell_type": "code",
   "execution_count": 4,
   "metadata": {},
   "outputs": [],
   "source": [
    "def mostrar_mse(model):\n",
    "    mse = []\n",
    "    for i in range (5):\n",
    "        model.fit(X[idx_train[i]],y[idx_train[i]])\n",
    "        y_pred = model.predict(X[idx_test[i]])\n",
    "        mse.append(metrics.mse(y[idx_test[i]],y_pred))\n",
    "    return mse    "
   ]
  },
  {
   "cell_type": "markdown",
   "metadata": {},
   "source": [
    "#### SGDRegressor"
   ]
  },
  {
   "cell_type": "code",
   "execution_count": 5,
   "metadata": {
    "scrolled": false
   },
   "outputs": [
    {
     "name": "stderr",
     "output_type": "stream",
     "text": [
      "/home/null/anaconda3/lib/python3.6/site-packages/sklearn/linear_model/stochastic_gradient.py:128: FutureWarning: max_iter and tol parameters have been added in <class 'sklearn.linear_model.stochastic_gradient.SGDRegressor'> in 0.19. If both are left unset, they default to max_iter=5 and tol=None. If tol is not None, max_iter defaults to max_iter=1000. From 0.21, default max_iter will be 1000, and default tol will be 1e-3.\n",
      "  \"and default tol will be 1e-3.\" % type(self), FutureWarning)\n"
     ]
    }
   ],
   "source": [
    "modelo = sklearn.linear_model.SGDRegressor()\n",
    "mostrar_mse(modelo)\n",
    "evaluations.append(np.sum(mostrar_mse(modelo))/5)"
   ]
  },
  {
   "cell_type": "markdown",
   "metadata": {},
   "source": [
    "#### Regresaão linear"
   ]
  },
  {
   "cell_type": "code",
   "execution_count": 6,
   "metadata": {},
   "outputs": [
    {
     "name": "stdout",
     "output_type": "stream",
     "text": [
      "[0.49444623359830125, 0.45712906831314803, 0.4154581681477892, 0.3886126721648049, 0.36802643938535456]\n"
     ]
    }
   ],
   "source": [
    "modelo = linear_model.LinearRegression()\n",
    "print(mostrar_mse(modelo))\n",
    "evaluations.append(np.sum(mostrar_mse(modelo))/5)"
   ]
  },
  {
   "cell_type": "markdown",
   "metadata": {},
   "source": [
    "#### Linear SVR"
   ]
  },
  {
   "cell_type": "code",
   "execution_count": 7,
   "metadata": {
    "scrolled": false
   },
   "outputs": [
    {
     "name": "stdout",
     "output_type": "stream",
     "text": [
      "[1.5910385979463457, 0.47058315780879384, 0.6055511857417212, 0.9797662000600676, 0.40779837690610715]\n"
     ]
    }
   ],
   "source": [
    "modelo = sklearn.svm.LinearSVR()\n",
    "print(mostrar_mse(modelo))\n",
    "evaluations.append(np.sum(mostrar_mse(modelo))/5)"
   ]
  },
  {
   "cell_type": "markdown",
   "metadata": {},
   "source": [
    "#### Epsilon-Support Vector Regression"
   ]
  },
  {
   "cell_type": "code",
   "execution_count": 8,
   "metadata": {},
   "outputs": [
    {
     "name": "stdout",
     "output_type": "stream",
     "text": [
      "[0.5527750134516576, 0.5090934252210494, 0.47603897821392005, 0.445717933367161, 0.4024769086003111]\n"
     ]
    }
   ],
   "source": [
    "modelo = sklearn.svm.SVR()\n",
    "print(mostrar_mse(modelo))\n",
    "evaluations.append(np.sum(mostrar_mse(modelo))/5)"
   ]
  },
  {
   "cell_type": "markdown",
   "metadata": {},
   "source": [
    "#### Random Forest Regressor"
   ]
  },
  {
   "cell_type": "code",
   "execution_count": 9,
   "metadata": {
    "scrolled": true
   },
   "outputs": [
    {
     "name": "stdout",
     "output_type": "stream",
     "text": [
      "[0.40921630094043937, 0.4119435736677123, 0.3317554858934177, 0.35222570532915404, 0.3348297213622297]\n"
     ]
    }
   ],
   "source": [
    "modelo = ensemble.RandomForestRegressor()\n",
    "print(mostrar_mse(modelo))\n",
    "evaluations.append(np.sum(mostrar_mse(modelo))/5)\n",
    "saveModelo = modelo"
   ]
  },
  {
   "cell_type": "markdown",
   "metadata": {},
   "source": [
    "#### Gradient Boosting Regressor"
   ]
  },
  {
   "cell_type": "code",
   "execution_count": 10,
   "metadata": {
    "scrolled": true
   },
   "outputs": [
    {
     "name": "stdout",
     "output_type": "stream",
     "text": [
      "[0.41925716039398886, 0.42382702344084133, 0.3637879843657004, 0.38529050930032693, 0.3473169557699705]\n"
     ]
    }
   ],
   "source": [
    "modelo = ensemble.GradientBoostingRegressor()\n",
    "print(mostrar_mse(modelo))\n",
    "evaluations.append(np.sum(mostrar_mse(modelo))/5)"
   ]
  },
  {
   "cell_type": "markdown",
   "metadata": {},
   "source": [
    "### Questão 3"
   ]
  },
  {
   "cell_type": "code",
   "execution_count": 11,
   "metadata": {
    "scrolled": true
   },
   "outputs": [],
   "source": [
    "evaluations = np.array(evaluations[1:])\n",
    "class_names = np.array(['LR','LSVR','ESVR','RFR','GBR'])"
   ]
  },
  {
   "cell_type": "code",
   "execution_count": 12,
   "metadata": {
    "scrolled": true
   },
   "outputs": [
    {
     "data": {
      "text/plain": [
       "([<matplotlib.axis.XTick at 0x7fb52ae919e8>,\n",
       "  <matplotlib.axis.XTick at 0x7fb4f8a87fd0>,\n",
       "  <matplotlib.axis.XTick at 0x7fb4f8aed320>,\n",
       "  <matplotlib.axis.XTick at 0x7fb4f8a42cf8>,\n",
       "  <matplotlib.axis.XTick at 0x7fb4f8a54390>],\n",
       " <a list of 5 Text xticklabel objects>)"
      ]
     },
     "execution_count": 12,
     "metadata": {},
     "output_type": "execute_result"
    },
    {
     "data": {
      "image/png": "[encoded data removed]",
      "text/plain": [
       "<matplotlib.figure.Figure at 0x7fb4f897bba8>"
      ]
     },
     "metadata": {},
     "output_type": "display_data"
    }
   ],
   "source": [
    "plt.bar(range(evaluations.shape[0]),evaluations)\n",
    "plt.xticks(range(evaluations.shape[0]), class_names)"
   ]
  },
  {
   "cell_type": "markdown",
   "metadata": {},
   "source": [
    "### Questão 4"
   ]
  },
  {
   "cell_type": "code",
   "execution_count": 14,
   "metadata": {},
   "outputs": [],
   "source": [
    "saveModelo.fit(X,y)\n",
    "y_pred = saveModelo.predict(X)"
   ]
  },
  {
   "cell_type": "markdown",
   "metadata": {},
   "source": [
    "#### Questão 5"
   ]
  },
  {
   "cell_type": "markdown",
   "metadata": {},
   "source": [
    "A diferença é que o gradiente descendente usa toda o dado de treino para atualizar os parametros e o estocastico usa apenas uma amostra dos dados melhor para muitos dados."
   ]
  }
 ],
 "metadata": {
  "kernelspec": {
   "display_name": "Python 3",
   "language": "python",
   "name": "python3"
  },
  "language_info": {
   "codemirror_mode": {
    "name": "ipython",
    "version": 3
   },
   "file_extension": ".py",
   "mimetype": "text/x-python",
   "name": "python",
   "nbconvert_exporter": "python",
   "pygments_lexer": "ipython3",
   "version": "3.6.4"
  }
 },
 "nbformat": 4,
 "nbformat_minor": 2
}
