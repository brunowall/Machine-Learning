{
 "cells": [
  {
   "cell_type": "code",
   "execution_count": 38,
   "metadata": {},
   "outputs": [],
   "source": [
    "%matplotlib inline\n",
    "import sklearn\n",
    "from sklearn import datasets\n",
    "from sklearn import linear_model\n",
    "from sklearn import metrics\n",
    "import numpy as np\n",
    "from sklearn.model_selection import KFold\n",
    "from mylibs import transform\n",
    "from sklearn import neighbors\n",
    "from sklearn.naive_bayes import GaussianNB\n",
    "from sklearn import svm"
   ]
  },
  {
   "cell_type": "code",
   "execution_count": 11,
   "metadata": {},
   "outputs": [],
   "source": [
    "X,y = sklearn.datasets.load_boston(return_X_y=True)\n",
    "X = transform.standardize(X)\n",
    "kfold = KFold(n_splits=5)"
   ]
  },
  {
   "cell_type": "code",
   "execution_count": 54,
   "metadata": {
    "scrolled": false
   },
   "outputs": [
    {
     "name": "stdout",
     "output_type": "stream",
     "text": [
      "[3.53279637 5.10844425 5.75499399 8.99072043 5.79520109]\n",
      "[2.62469524 3.91244817 4.38945068 5.57366377 4.78261237]\n"
     ]
    }
   ],
   "source": [
    "erros_mse = np.empty((1,0),dtype = float)\n",
    "erros_mae = np.empty((1,0),dtype = float)\n",
    "\n",
    "\n",
    "for idx_train, idx_test in kfold.split(X):\n",
    "    Xtrain = X[idx_train]\n",
    "    Xtest = X[idx_test]\n",
    "    y_train = y[idx_train]\n",
    "    y_test = y[idx_test]\n",
    "    modelo = linear_model.LinearRegression()\n",
    "    modelo.fit(Xtrain,y_train)\n",
    "    y_pred = modelo.predict(Xtest)\n",
    "    erro_mse = np.sqrt(metrics.mean_squared_error(y_test,y_pred))\n",
    "    erro_mae = metrics.mean_absolute_error(y_test,y_pred)\n",
    "    erros_mse = np.append(erros_mse,erro_mse)\n",
    "    erros_mae = np.append(erros_mae,erro_mae)\n",
    "\n",
    "\n",
    "print(erros_mse)\n",
    "print(erros_mae)"
   ]
  },
  {
   "cell_type": "code",
   "execution_count": 55,
   "metadata": {
    "scrolled": true
   },
   "outputs": [
    {
     "name": "stdout",
     "output_type": "stream",
     "text": [
      "Aqui\n",
      "Aqui\n",
      "Aqui\n",
      "Aqui\n",
      "Aqui\n",
      "[3.12452194 6.30665659 6.04051335 8.88730184 7.86682765]\n",
      "[2.26375884 4.7224981  4.22911162 5.29430293 5.91075284]\n"
     ]
    },
    {
     "name": "stderr",
     "output_type": "stream",
     "text": [
      "/home/null/anaconda3/lib/python3.6/site-packages/sklearn/linear_model/stochastic_gradient.py:128: FutureWarning: max_iter and tol parameters have been added in <class 'sklearn.linear_model.stochastic_gradient.SGDRegressor'> in 0.19. If both are left unset, they default to max_iter=5 and tol=None. If tol is not None, max_iter defaults to max_iter=1000. From 0.21, default max_iter will be 1000, and default tol will be 1e-3.\n",
      "  \"and default tol will be 1e-3.\" % type(self), FutureWarning)\n"
     ]
    }
   ],
   "source": [
    "erros_mse = np.empty((1,0),dtype = float)\n",
    "erros_mae = np.empty((1,0),dtype = float)\n",
    "gradient = linear_model.SGDRegressor()\n",
    "\n",
    "for idx_train, idx_test in kfold.split(X):\n",
    "    print(\"Aqui\")\n",
    "    Xtrain = X[idx_train]\n",
    "    Xtest = X[idx_test]\n",
    "    y_train = y[idx_train]\n",
    "    y_test = y[idx_test]\n",
    "    gradient.fit(Xtrain,y_train)\n",
    "    y_pred = gradient.predict(Xtest)\n",
    "    erro_mse = np.sqrt(metrics.mean_squared_error(y_test,y_pred))\n",
    "    erro_mae = metrics.mean_absolute_error(y_test,y_pred)\n",
    "    erros_mse = np.append(erros_mse,erro_mse)\n",
    "    erros_mae = np.append(erros_mae,erro_mae)\n",
    "\n",
    "\n",
    "print(erros_mse)\n",
    "print(erros_mae)\n"
   ]
  },
  {
   "cell_type": "markdown",
   "metadata": {},
   "source": [
    "#### KNN"
   ]
  },
  {
   "cell_type": "code",
   "execution_count": 56,
   "metadata": {},
   "outputs": [
    {
     "name": "stdout",
     "output_type": "stream",
     "text": [
      "[3.76753937 5.80193925 5.61749953 6.80418508 4.7085286 ]\n",
      "[2.93764706 3.75623762 4.17465347 4.06851485 3.57425743]\n"
     ]
    }
   ],
   "source": [
    "erros_mse = np.empty((1,0),dtype = float)\n",
    "erros_mae = np.empty((1,0),dtype = float)\n",
    "knn = neighbors.KNeighborsRegressor()\n",
    "\n",
    "for idx_train, idx_test in kfold.split(X):\n",
    "    Xtrain = X[idx_train]\n",
    "    Xtest = X[idx_test]\n",
    "    y_train = y[idx_train]\n",
    "    y_test = y[idx_test]\n",
    "    knn.fit(Xtrain,y_train)\n",
    "    y_pred = knn.predict(Xtest)\n",
    "    erro_mse = np.sqrt(metrics.mean_squared_error(y_test,y_pred))\n",
    "    erro_mae = metrics.mean_absolute_error(y_test,y_pred)\n",
    "    erros_mse = np.append(erros_mse,erro_mse)\n",
    "    erros_mae = np.append(erros_mae,erro_mae)\n",
    "\n",
    "print(erros_mse)\n",
    "print(erros_mae)"
   ]
  },
  {
   "cell_type": "code",
   "execution_count": 57,
   "metadata": {
    "scrolled": true
   },
   "outputs": [
    {
     "name": "stdout",
     "output_type": "stream",
     "text": [
      "[ 5.23636418  6.1821205   9.96697517 10.4351083   6.19088279]\n",
      "[4.07156863 4.63564356 6.88118812 7.10891089 4.44455446]\n"
     ]
    }
   ],
   "source": [
    "erros_mse = np.empty((1,0),dtype = float)\n",
    "erros_mae = np.empty((1,0),dtype = float)\n",
    "naivebayes = GaussianNB()\n",
    "\n",
    "for idx_train, idx_test in kfold.split(X):\n",
    "    Xtrain = X[idx_train]\n",
    "    Xtest = X[idx_test]\n",
    "    y_train = y[idx_train]\n",
    "    y_test = y[idx_test]\n",
    "    naivebayes.fit(Xtrain.astype(float),y_train.astype(int))\n",
    "    y_pred = naivebayes.predict(Xtest.astype(float))\n",
    "    erro_mse = np.sqrt(metrics.mean_squared_error(y_test,y_pred))\n",
    "    erro_mae = metrics.mean_absolute_error(y_test,y_pred)\n",
    "    erros_mse = np.append(erros_mse,erro_mse)\n",
    "    erros_mae = np.append(erros_mae,erro_mae)\n",
    "\n",
    "print(erros_mse)\n",
    "print(erros_mae)\n",
    "\n",
    "print(np.mean(erro_mse))\n",
    "print(np.men(erro_mae))"
   ]
  },
  {
   "cell_type": "code",
   "execution_count": null,
   "metadata": {},
   "outputs": [],
   "source": []
  },
  {
   "cell_type": "code",
   "execution_count": null,
   "metadata": {},
   "outputs": [],
   "source": []
  }
 ],
 "metadata": {
  "kernelspec": {
   "display_name": "Python 3",
   "language": "python",
   "name": "python3"
  },
  "language_info": {
   "codemirror_mode": {
    "name": "ipython",
    "version": 3
   },
   "file_extension": ".py",
   "mimetype": "text/x-python",
   "name": "python",
   "nbconvert_exporter": "python",
   "pygments_lexer": "ipython3",
   "version": "3.6.4"
  }
 },
 "nbformat": 4,
 "nbformat_minor": 2
}
