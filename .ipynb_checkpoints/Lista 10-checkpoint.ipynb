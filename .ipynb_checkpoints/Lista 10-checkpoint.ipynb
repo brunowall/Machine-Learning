{
 "cells": [
  {
   "cell_type": "code",
   "execution_count": 1,
   "metadata": {},
   "outputs": [],
   "source": [
    "import numpy as np\n",
    "import sklearn\n",
    "import pandas as pd\n",
    "from sklearn.model_selection import train_test_split\n",
    "from sklearn.metrics import accuracy_score\n",
    "from sklearn import linear_model"
   ]
  },
  {
   "cell_type": "code",
   "execution_count": 2,
   "metadata": {},
   "outputs": [],
   "source": [
    "df = pd.read_csv('binary.csv',header = 0 )"
   ]
  },
  {
   "cell_type": "code",
   "execution_count": 3,
   "metadata": {
    "scrolled": false
   },
   "outputs": [],
   "source": [
    "X = df.values[:,1:]\n",
    "y = df.values[:,0]"
   ]
  },
  {
   "cell_type": "code",
   "execution_count": 4,
   "metadata": {},
   "outputs": [],
   "source": [
    "X_train, X_test, y_train, y_test = train_test_split(X, y, test_size=0.30, random_state=0,stratify=y)\n"
   ]
  },
  {
   "cell_type": "markdown",
   "metadata": {},
   "source": [
    "### Comparando os modelos"
   ]
  },
  {
   "cell_type": "code",
   "execution_count": 5,
   "metadata": {},
   "outputs": [
    {
     "name": "stderr",
     "output_type": "stream",
     "text": [
      "/home/null/anaconda/lib/python3.6/site-packages/sklearn/linear_model/stochastic_gradient.py:128: FutureWarning: max_iter and tol parameters have been added in <class 'sklearn.linear_model.stochastic_gradient.SGDClassifier'> in 0.19. If both are left unset, they default to max_iter=5 and tol=None. If tol is not None, max_iter defaults to max_iter=1000. From 0.21, default max_iter will be 1000, and default tol will be 1e-3.\n",
      "  \"and default tol will be 1e-3.\" % type(self), FutureWarning)\n"
     ]
    },
    {
     "name": "stdout",
     "output_type": "stream",
     "text": [
      "coef:  [[ -601.61892467   -79.7283644  -1035.33444592]]\n",
      "Intercept:  [-88.50119759]\n",
      "Sem regularizacao--------------------------------\n",
      "Acuracia =  0.6833333333333333\n"
     ]
    }
   ],
   "source": [
    "## Sem regularização\n",
    "modelo= linear_model.SGDClassifier(penalty='none')\n",
    "modelo.fit(X_train,y_train)\n",
    "y_pred = modelo.predict(X_test)\n",
    "accuracy = accuracy_score(y_test,y_pred)\n",
    "print (\"coef: \",modelo.coef_)\n",
    "print (\"Intercept: \", modelo.intercept_)\n",
    "\n",
    "print(\"Sem regularizacao--------------------------------\")\n",
    "print(\"Acuracia = \",accuracy)\n",
    "accuracy0 = 0"
   ]
  },
  {
   "cell_type": "code",
   "execution_count": 6,
   "metadata": {
    "scrolled": true
   },
   "outputs": [
    {
     "name": "stdout",
     "output_type": "stream",
     "text": [
      "coef:  [[ 1652.9035702   -243.26503876 -1151.60547802]]\n",
      "Intercept:  [-167.38772389]\n",
      "alfa = 0.0001 Acuracia =  0.31666666666666665\n",
      "\n",
      "coef:  [[ 28.00182912  -4.82544112 -28.05194439]]\n",
      "Intercept:  [-6.01127144]\n",
      "alfa = 0.01 Acuracia =  0.31666666666666665\n",
      "\n",
      "coef:  [[0. 0. 0.]]\n",
      "Intercept:  [-0.09663855]\n",
      "alfa = 1 Acuracia =  0.6833333333333333\n",
      "\n",
      "coef:  [[-190.96832393    0.            0.        ]]\n",
      "Intercept:  [-0.35936123]\n",
      "alfa = 10 Acuracia =  0.6833333333333333\n",
      "\n",
      "coef:  [[-131.70280267    0.            0.        ]]\n",
      "Intercept:  [-0.29571609]\n",
      "alfa = 100 Acuracia =  0.6833333333333333\n"
     ]
    },
    {
     "name": "stderr",
     "output_type": "stream",
     "text": [
      "/home/null/anaconda/lib/python3.6/site-packages/sklearn/linear_model/stochastic_gradient.py:128: FutureWarning: max_iter and tol parameters have been added in <class 'sklearn.linear_model.stochastic_gradient.SGDClassifier'> in 0.19. If both are left unset, they default to max_iter=5 and tol=None. If tol is not None, max_iter defaults to max_iter=1000. From 0.21, default max_iter will be 1000, and default tol will be 1e-3.\n",
      "  \"and default tol will be 1e-3.\" % type(self), FutureWarning)\n"
     ]
    }
   ],
   "source": [
    "## regulariação elasticnet\n",
    "modelo1 = linear_model.SGDClassifier(penalty='l1',alpha=0.0001, random_state = 0)\n",
    "modelo1.fit(X_train,y_train)\n",
    "y_pred = modelo1.predict(X_test)\n",
    "accuracy1 = accuracy_score(y_test,y_pred)\n",
    "print (\"coef: \",modelo1.coef_)\n",
    "print (\"Intercept: \", modelo1.intercept_)\n",
    "\n",
    "print(\"alfa = 0.0001 Acuracia = \", accuracy1)\n",
    "\n",
    "print(\"\")\n",
    "modelo2 = linear_model.SGDClassifier(penalty='l1',alpha=0.01, random_state = 0)\n",
    "modelo2.fit(X_train,y_train)\n",
    "y_pred = modelo2.predict(X_test)\n",
    "accuracy2 = accuracy_score(y_test,y_pred)\n",
    "print (\"coef: \",modelo2.coef_)\n",
    "print (\"Intercept: \", modelo2.intercept_)\n",
    "\n",
    "print(\"alfa = 0.01 Acuracia = \", accuracy2)\n",
    "\n",
    "print(\"\")\n",
    "\n",
    "modelo3 = linear_model.SGDClassifier(penalty='l1',alpha=1, random_state = 0)\n",
    "modelo3.fit(X_train,y_train)\n",
    "y_pred = modelo3.predict(X_test)\n",
    "accuracy3 = accuracy_score(y_test,y_pred)\n",
    "print (\"coef: \",modelo3.coef_)\n",
    "print (\"Intercept: \", modelo3.intercept_)\n",
    "\n",
    "print(\"alfa = 1 Acuracia = \", accuracy3)\n",
    "\n",
    "print(\"\")\n",
    "\n",
    "modelo4 = linear_model.SGDClassifier(penalty='l1',alpha=10, random_state = 0)\n",
    "modelo4.fit(X_train,y_train)\n",
    "print (\"coef: \",modelo4.coef_)\n",
    "print (\"Intercept: \", modelo4.intercept_)\n",
    "y_pred = modelo4.predict(X_test)\n",
    "accuracy4 = accuracy_score(y_test,y_pred)\n",
    "print(\"alfa = 10 Acuracia = \", accuracy4)\n",
    "\n",
    "print(\"\")\n",
    "modelo5 = linear_model.SGDClassifier(penalty='l1',alpha=100, random_state = 0)\n",
    "modelo5.fit(X_train,y_train)\n",
    "y_pred = modelo5.predict(X_test)\n",
    "\n",
    "print (\"coef: \",modelo5.coef_)\n",
    "print (\"Intercept: \", modelo5.intercept_)\n",
    "\n",
    "accuracy5 = accuracy_score(y_test,y_pred)\n",
    "print(\"alfa = 100 Acuracia = \", accuracy5)"
   ]
  },
  {
   "cell_type": "code",
   "execution_count": 7,
   "metadata": {},
   "outputs": [
    {
     "name": "stdout",
     "output_type": "stream",
     "text": [
      "coef:  [[1750.72947061 -139.26636098 -762.81784077]]\n",
      "Intercept:  [-158.32155375]\n",
      "alfa = 0.0001 Acuracia =  0.31666666666666665\n",
      "\n",
      "coef:  [[ 29.35784379  -2.33534657 -12.79163194]]\n",
      "Intercept:  [-6.63718539]\n",
      "alfa = 0.01 Acuracia =  0.31666666666666665\n",
      "\n",
      "coef:  [[ 0.3        -0.02507143 -0.12928571]]\n",
      "Intercept:  [-0.82624326]\n",
      "alfa = 1 Acuracia =  0.31666666666666665\n",
      "\n",
      "coef:  [[ 0.0400235  -0.00227276 -0.01272176]]\n",
      "Intercept:  [-0.53774208]\n",
      "alfa = 10 Acuracia =  0.31666666666666665\n",
      "\n",
      "coef:  [[ 0.00300208 -0.00025811 -0.00143671]]\n",
      "Intercept:  [-0.31364807]\n",
      "alfa = 100 Acuracia =  0.31666666666666665\n"
     ]
    },
    {
     "name": "stderr",
     "output_type": "stream",
     "text": [
      "/home/null/anaconda/lib/python3.6/site-packages/sklearn/linear_model/stochastic_gradient.py:128: FutureWarning: max_iter and tol parameters have been added in <class 'sklearn.linear_model.stochastic_gradient.SGDClassifier'> in 0.19. If both are left unset, they default to max_iter=5 and tol=None. If tol is not None, max_iter defaults to max_iter=1000. From 0.21, default max_iter will be 1000, and default tol will be 1e-3.\n",
      "  \"and default tol will be 1e-3.\" % type(self), FutureWarning)\n"
     ]
    }
   ],
   "source": [
    "## regulariação L2\n",
    "modelo1 = linear_model.SGDClassifier(penalty='l2',alpha=0.0001, random_state = 0)\n",
    "modelo1.fit(X_train,y_train)\n",
    "y_pred = modelo1.predict(X_test)\n",
    "accuracy1 = accuracy_score(y_test,y_pred)\n",
    "print (\"coef: \",modelo1.coef_)\n",
    "print (\"Intercept: \", modelo1.intercept_)\n",
    "\n",
    "print(\"alfa = 0.0001 Acuracia = \", accuracy1)\n",
    "\n",
    "print(\"\")\n",
    "modelo2 = linear_model.SGDClassifier(penalty='l2',alpha=0.01, random_state = 0)\n",
    "modelo2.fit(X_train,y_train)\n",
    "y_pred = modelo2.predict(X_test)\n",
    "accuracy2 = accuracy_score(y_test,y_pred)\n",
    "print (\"coef: \",modelo2.coef_)\n",
    "print (\"Intercept: \", modelo2.intercept_)\n",
    "\n",
    "print(\"alfa = 0.01 Acuracia = \", accuracy2)\n",
    "\n",
    "print(\"\")\n",
    "\n",
    "modelo3 = linear_model.SGDClassifier(penalty='l2',alpha=1, random_state = 0)\n",
    "modelo3.fit(X_train,y_train)\n",
    "y_pred = modelo3.predict(X_test)\n",
    "accuracy3 = accuracy_score(y_test,y_pred)\n",
    "print (\"coef: \",modelo3.coef_)\n",
    "print (\"Intercept: \", modelo3.intercept_)\n",
    "\n",
    "print(\"alfa = 1 Acuracia = \", accuracy3)\n",
    "\n",
    "print(\"\")\n",
    "\n",
    "modelo4 = linear_model.SGDClassifier(penalty='l2',alpha=10, random_state = 0)\n",
    "modelo4.fit(X_train,y_train)\n",
    "print (\"coef: \",modelo4.coef_)\n",
    "print (\"Intercept: \", modelo4.intercept_)\n",
    "y_pred = modelo4.predict(X_test)\n",
    "accuracy4 = accuracy_score(y_test,y_pred)\n",
    "print(\"alfa = 10 Acuracia = \", accuracy4)\n",
    "\n",
    "print(\"\")\n",
    "modelo5 = linear_model.SGDClassifier(penalty='l2',alpha=100, random_state = 0)\n",
    "modelo5.fit(X_train,y_train)\n",
    "y_pred = modelo5.predict(X_test)\n",
    "\n",
    "print (\"coef: \",modelo5.coef_)\n",
    "print (\"Intercept: \", modelo5.intercept_)\n",
    "\n",
    "accuracy5 = accuracy_score(y_test,y_pred)\n",
    "print(\"alfa = 100 Acuracia = \", accuracy5)"
   ]
  },
  {
   "cell_type": "code",
   "execution_count": 8,
   "metadata": {},
   "outputs": [
    {
     "name": "stdout",
     "output_type": "stream",
     "text": [
      "coef:  [[1715.13181739 -158.10400363 -801.33936564]]\n",
      "Intercept:  [-167.54413304]\n",
      "alfa = 0.0001 Acuracia =  0.31666666666666665\n",
      "\n",
      "coef:  [[ 28.68091011  -2.76250939 -14.39641385]]\n",
      "Intercept:  [-7.55893219]\n",
      "alfa = 0.01 Acuracia =  0.31666666666666665\n",
      "\n",
      "coef:  [[0. 0. 0.]]\n",
      "Intercept:  [-0.80402655]\n",
      "alfa = 1 Acuracia =  0.6833333333333333\n",
      "\n",
      "coef:  [[0. 0. 0.]]\n",
      "Intercept:  [-0.52898849]\n",
      "alfa = 10 Acuracia =  0.6833333333333333\n",
      "\n",
      "coef:  [[0. 0. 0.]]\n",
      "Intercept:  [-0.3109936]\n",
      "alfa = 100 Acuracia =  0.6833333333333333\n"
     ]
    },
    {
     "name": "stderr",
     "output_type": "stream",
     "text": [
      "/home/null/anaconda/lib/python3.6/site-packages/sklearn/linear_model/stochastic_gradient.py:128: FutureWarning: max_iter and tol parameters have been added in <class 'sklearn.linear_model.stochastic_gradient.SGDClassifier'> in 0.19. If both are left unset, they default to max_iter=5 and tol=None. If tol is not None, max_iter defaults to max_iter=1000. From 0.21, default max_iter will be 1000, and default tol will be 1e-3.\n",
      "  \"and default tol will be 1e-3.\" % type(self), FutureWarning)\n"
     ]
    }
   ],
   "source": [
    "## regulariação elasticnet\n",
    "modelo1 = linear_model.SGDClassifier(penalty='elasticnet',alpha=0.0001, random_state = 0)\n",
    "modelo1.fit(X_train,y_train)\n",
    "y_pred = modelo1.predict(X_test)\n",
    "accuracy1 = accuracy_score(y_test,y_pred)\n",
    "print (\"coef: \",modelo1.coef_)\n",
    "print (\"Intercept: \", modelo1.intercept_)\n",
    "\n",
    "print(\"alfa = 0.0001 Acuracia = \", accuracy1)\n",
    "\n",
    "print(\"\")\n",
    "modelo2 = linear_model.SGDClassifier(penalty='elasticnet',alpha=0.01, random_state = 0)\n",
    "modelo2.fit(X_train,y_train)\n",
    "y_pred = modelo2.predict(X_test)\n",
    "accuracy2 = accuracy_score(y_test,y_pred)\n",
    "print (\"coef: \",modelo2.coef_)\n",
    "print (\"Intercept: \", modelo2.intercept_)\n",
    "\n",
    "print(\"alfa = 0.01 Acuracia = \", accuracy2)\n",
    "\n",
    "print(\"\")\n",
    "\n",
    "modelo3 = linear_model.SGDClassifier(penalty='elasticnet',alpha=1, random_state = 0)\n",
    "modelo3.fit(X_train,y_train)\n",
    "y_pred = modelo3.predict(X_test)\n",
    "accuracy3 = accuracy_score(y_test,y_pred)\n",
    "print (\"coef: \",modelo3.coef_)\n",
    "print (\"Intercept: \", modelo3.intercept_)\n",
    "\n",
    "print(\"alfa = 1 Acuracia = \", accuracy3)\n",
    "\n",
    "print(\"\")\n",
    "\n",
    "modelo4 = linear_model.SGDClassifier(penalty='elasticnet',alpha=10, random_state = 0)\n",
    "modelo4.fit(X_train,y_train)\n",
    "print (\"coef: \",modelo4.coef_)\n",
    "print (\"Intercept: \", modelo4.intercept_)\n",
    "y_pred = modelo4.predict(X_test)\n",
    "accuracy4 = accuracy_score(y_test,y_pred)\n",
    "print(\"alfa = 10 Acuracia = \", accuracy4)\n",
    "\n",
    "print(\"\")\n",
    "modelo5 = linear_model.SGDClassifier(penalty='elasticnet',alpha=100, random_state = 0)\n",
    "modelo5.fit(X_train,y_train)\n",
    "y_pred = modelo5.predict(X_test)\n",
    "\n",
    "print (\"coef: \",modelo5.coef_)\n",
    "print (\"Intercept: \", modelo5.intercept_)\n",
    "\n",
    "accuracy5 = accuracy_score(y_test,y_pred)\n",
    "print(\"alfa = 100 Acuracia = \", accuracy5)"
   ]
  },
  {
   "cell_type": "code",
   "execution_count": null,
   "metadata": {},
   "outputs": [],
   "source": []
  }
 ],
 "metadata": {
  "kernelspec": {
   "display_name": "Python 3",
   "language": "python",
   "name": "python3"
  },
  "language_info": {
   "codemirror_mode": {
    "name": "ipython",
    "version": 3
   },
   "file_extension": ".py",
   "mimetype": "text/x-python",
   "name": "python",
   "nbconvert_exporter": "python",
   "pygments_lexer": "ipython3",
   "version": "3.6.4"
  }
 },
 "nbformat": 4,
 "nbformat_minor": 2
}
