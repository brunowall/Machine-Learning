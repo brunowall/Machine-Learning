{
 "cells": [
  {
   "cell_type": "code",
   "execution_count": 1,
   "metadata": {},
   "outputs": [],
   "source": [
    "import numpy as np\n",
    "import sklearn\n",
    "import pandas as pd\n",
    "from sklearn.model_selection import train_test_split\n",
    "from sklearn.metrics import accuracy_score\n",
    "from sklearn import linear_model"
   ]
  },
  {
   "cell_type": "code",
   "execution_count": 2,
   "metadata": {},
   "outputs": [],
   "source": [
    "df = pd.read_csv('binary.csv',header = 0 )"
   ]
  },
  {
   "cell_type": "code",
   "execution_count": 3,
   "metadata": {
    "scrolled": false
   },
   "outputs": [],
   "source": [
    "X = df.values[:,1:]\n",
    "y = df.values[:,0]"
   ]
  },
  {
   "cell_type": "code",
   "execution_count": 4,
   "metadata": {},
   "outputs": [],
   "source": [
    "X_train, X_test, y_train, y_test = train_test_split(X, y, test_size=0.30, random_state=0,stratify=y)\n"
   ]
  },
  {
   "cell_type": "markdown",
   "metadata": {},
   "source": [
    "### Comparando os modelos"
   ]
  },
  {
   "cell_type": "code",
   "execution_count": 5,
   "metadata": {},
   "outputs": [
    {
     "name": "stdout",
     "output_type": "stream",
     "text": [
      "coef:  [[-1214.94379627    36.4002037  -1170.26987992]]\n",
      "Intercept:  [-100.91053858]\n",
      "Sem regularizacao--------------------------------\n",
      "Acuracia =  0.6833333333333333\n"
     ]
    },
    {
     "name": "stderr",
     "output_type": "stream",
     "text": [
      "/home/null/anaconda/lib/python3.6/site-packages/sklearn/linear_model/stochastic_gradient.py:128: FutureWarning: max_iter and tol parameters have been added in <class 'sklearn.linear_model.stochastic_gradient.SGDClassifier'> in 0.19. If both are left unset, they default to max_iter=5 and tol=None. If tol is not None, max_iter defaults to max_iter=1000. From 0.21, default max_iter will be 1000, and default tol will be 1e-3.\n",
      "  \"and default tol will be 1e-3.\" % type(self), FutureWarning)\n"
     ]
    }
   ],
   "source": [
    "## Sem regularização\n",
    "modelo= linear_model.SGDClassifier(penalty='none')\n",
    "modelo.fit(X_train,y_train)\n",
    "y_pred = modelo.predict(X_test)\n",
    "accuracy = accuracy_score(y_test,y_pred)\n",
    "print (\"coef: \",modelo.coef_)\n",
    "print (\"Intercept: \", modelo.intercept_)\n",
    "\n",
    "print(\"Sem regularizacao--------------------------------\")\n",
    "print(\"Acuracia = \",accuracy)\n",
    "accuracy0 = 0"
   ]
  },
  {
   "cell_type": "code",
   "execution_count": 6,
   "metadata": {
    "scrolled": true
   },
   "outputs": [
    {
     "name": "stdout",
     "output_type": "stream",
     "text": [
      "coef:  [[-1450.79597776   -77.26504997 -1114.15381859]]\n",
      "Intercept:  [-134.32732549]\n",
      "alfa = 0.0001 Acuracia =  0.6833333333333333\n",
      "\n",
      "coef:  [[-21.30973229   0.         -37.27943954]]\n",
      "Intercept:  [-3.95623582]\n",
      "alfa = 0.01 Acuracia =  0.6833333333333333\n",
      "\n",
      "coef:  [[-0.27501739  0.          0.        ]]\n",
      "Intercept:  [-0.36191896]\n",
      "alfa = 1 Acuracia =  0.6833333333333333\n",
      "\n",
      "coef:  [[-111.42702983    0.            0.        ]]\n",
      "Intercept:  [-0.37744003]\n",
      "alfa = 10 Acuracia =  0.6833333333333333\n",
      "\n",
      "coef:  [[-82.19093654   0.           0.        ]]\n",
      "Intercept:  [-0.29760467]\n",
      "alfa = 100 Acuracia =  0.6833333333333333\n"
     ]
    },
    {
     "name": "stderr",
     "output_type": "stream",
     "text": [
      "/home/null/anaconda/lib/python3.6/site-packages/sklearn/linear_model/stochastic_gradient.py:128: FutureWarning: max_iter and tol parameters have been added in <class 'sklearn.linear_model.stochastic_gradient.SGDClassifier'> in 0.19. If both are left unset, they default to max_iter=5 and tol=None. If tol is not None, max_iter defaults to max_iter=1000. From 0.21, default max_iter will be 1000, and default tol will be 1e-3.\n",
      "  \"and default tol will be 1e-3.\" % type(self), FutureWarning)\n"
     ]
    }
   ],
   "source": [
    "## regulariação elasticnet\n",
    "modelo1 = linear_model.SGDClassifier(penalty='l1',alpha=0.0001, random_state = 0)\n",
    "modelo1.fit(X_train,y_train)\n",
    "y_pred = modelo1.predict(X_test)\n",
    "accuracy1 = accuracy_score(y_test,y_pred)\n",
    "print (\"coef: \",modelo1.coef_)\n",
    "print (\"Intercept: \", modelo1.intercept_)\n",
    "\n",
    "print(\"alfa = 0.0001 Acuracia = \", accuracy1)\n",
    "\n",
    "print(\"\")\n",
    "modelo2 = linear_model.SGDClassifier(penalty='l1',alpha=0.01, random_state = 0)\n",
    "modelo2.fit(X_train,y_train)\n",
    "y_pred = modelo2.predict(X_test)\n",
    "accuracy2 = accuracy_score(y_test,y_pred)\n",
    "print (\"coef: \",modelo2.coef_)\n",
    "print (\"Intercept: \", modelo2.intercept_)\n",
    "\n",
    "print(\"alfa = 0.01 Acuracia = \", accuracy2)\n",
    "\n",
    "print(\"\")\n",
    "\n",
    "modelo3 = linear_model.SGDClassifier(penalty='l1',alpha=1, random_state = 0)\n",
    "modelo3.fit(X_train,y_train)\n",
    "y_pred = modelo3.predict(X_test)\n",
    "accuracy3 = accuracy_score(y_test,y_pred)\n",
    "print (\"coef: \",modelo3.coef_)\n",
    "print (\"Intercept: \", modelo3.intercept_)\n",
    "\n",
    "print(\"alfa = 1 Acuracia = \", accuracy3)\n",
    "\n",
    "print(\"\")\n",
    "\n",
    "modelo4 = linear_model.SGDClassifier(penalty='l1',alpha=10, random_state = 0)\n",
    "modelo4.fit(X_train,y_train)\n",
    "print (\"coef: \",modelo4.coef_)\n",
    "print (\"Intercept: \", modelo4.intercept_)\n",
    "y_pred = modelo4.predict(X_test)\n",
    "accuracy4 = accuracy_score(y_test,y_pred)\n",
    "print(\"alfa = 10 Acuracia = \", accuracy4)\n",
    "\n",
    "print(\"\")\n",
    "modelo5 = linear_model.SGDClassifier(penalty='l1',alpha=100, random_state = 0)\n",
    "modelo5.fit(X_train,y_train)\n",
    "y_pred = modelo5.predict(X_test)\n",
    "\n",
    "print (\"coef: \",modelo5.coef_)\n",
    "print (\"Intercept: \", modelo5.intercept_)\n",
    "\n",
    "accuracy5 = accuracy_score(y_test,y_pred)\n",
    "print(\"alfa = 100 Acuracia = \", accuracy5)"
   ]
  },
  {
   "cell_type": "code",
   "execution_count": 7,
   "metadata": {},
   "outputs": [
    {
     "name": "stdout",
     "output_type": "stream",
     "text": [
      "coef:  [[-1167.15298041   -18.38265944  -696.12338474]]\n",
      "Intercept:  [-129.33342876]\n",
      "alfa = 0.0001 Acuracia =  0.6833333333333333\n",
      "\n",
      "coef:  [[-19.57189586  -0.30825736 -11.67323789]]\n",
      "Intercept:  [-4.68050101]\n",
      "alfa = 0.01 Acuracia =  0.6833333333333333\n",
      "\n",
      "coef:  [[-0.2        -0.00513571 -0.12285714]]\n",
      "Intercept:  [-0.87391493]\n",
      "alfa = 1 Acuracia =  0.6833333333333333\n",
      "\n",
      "coef:  [[-0.02001175 -0.00039881 -0.01265029]]\n",
      "Intercept:  [-0.54714406]\n",
      "alfa = 10 Acuracia =  0.6833333333333333\n",
      "\n",
      "coef:  [[-7.14780126e-04 -7.24072268e-05 -1.35808224e-03]]\n",
      "Intercept:  [-0.31482603]\n",
      "alfa = 100 Acuracia =  0.6833333333333333\n"
     ]
    },
    {
     "name": "stderr",
     "output_type": "stream",
     "text": [
      "/home/null/anaconda/lib/python3.6/site-packages/sklearn/linear_model/stochastic_gradient.py:128: FutureWarning: max_iter and tol parameters have been added in <class 'sklearn.linear_model.stochastic_gradient.SGDClassifier'> in 0.19. If both are left unset, they default to max_iter=5 and tol=None. If tol is not None, max_iter defaults to max_iter=1000. From 0.21, default max_iter will be 1000, and default tol will be 1e-3.\n",
      "  \"and default tol will be 1e-3.\" % type(self), FutureWarning)\n"
     ]
    }
   ],
   "source": [
    "## regulariação L2\n",
    "modelo1 = linear_model.SGDClassifier(penalty='l2',alpha=0.0001, random_state = 0)\n",
    "modelo1.fit(X_train,y_train)\n",
    "y_pred = modelo1.predict(X_test)\n",
    "accuracy1 = accuracy_score(y_test,y_pred)\n",
    "print (\"coef: \",modelo1.coef_)\n",
    "print (\"Intercept: \", modelo1.intercept_)\n",
    "\n",
    "print(\"alfa = 0.0001 Acuracia = \", accuracy1)\n",
    "\n",
    "print(\"\")\n",
    "modelo2 = linear_model.SGDClassifier(penalty='l2',alpha=0.01, random_state = 0)\n",
    "modelo2.fit(X_train,y_train)\n",
    "y_pred = modelo2.predict(X_test)\n",
    "accuracy2 = accuracy_score(y_test,y_pred)\n",
    "print (\"coef: \",modelo2.coef_)\n",
    "print (\"Intercept: \", modelo2.intercept_)\n",
    "\n",
    "print(\"alfa = 0.01 Acuracia = \", accuracy2)\n",
    "\n",
    "print(\"\")\n",
    "\n",
    "modelo3 = linear_model.SGDClassifier(penalty='l2',alpha=1, random_state = 0)\n",
    "modelo3.fit(X_train,y_train)\n",
    "y_pred = modelo3.predict(X_test)\n",
    "accuracy3 = accuracy_score(y_test,y_pred)\n",
    "print (\"coef: \",modelo3.coef_)\n",
    "print (\"Intercept: \", modelo3.intercept_)\n",
    "\n",
    "print(\"alfa = 1 Acuracia = \", accuracy3)\n",
    "\n",
    "print(\"\")\n",
    "\n",
    "modelo4 = linear_model.SGDClassifier(penalty='l2',alpha=10, random_state = 0)\n",
    "modelo4.fit(X_train,y_train)\n",
    "print (\"coef: \",modelo4.coef_)\n",
    "print (\"Intercept: \", modelo4.intercept_)\n",
    "y_pred = modelo4.predict(X_test)\n",
    "accuracy4 = accuracy_score(y_test,y_pred)\n",
    "print(\"alfa = 10 Acuracia = \", accuracy4)\n",
    "\n",
    "print(\"\")\n",
    "modelo5 = linear_model.SGDClassifier(penalty='l2',alpha=100, random_state = 0)\n",
    "modelo5.fit(X_train,y_train)\n",
    "y_pred = modelo5.predict(X_test)\n",
    "\n",
    "print (\"coef: \",modelo5.coef_)\n",
    "print (\"Intercept: \", modelo5.intercept_)\n",
    "\n",
    "accuracy5 = accuracy_score(y_test,y_pred)\n",
    "print(\"alfa = 100 Acuracia = \", accuracy5)"
   ]
  },
  {
   "cell_type": "code",
   "execution_count": 8,
   "metadata": {},
   "outputs": [
    {
     "name": "stdout",
     "output_type": "stream",
     "text": [
      "coef:  [[-1208.65708869   -21.0145582   -737.9810785 ]]\n",
      "Intercept:  [-129.33342876]\n",
      "alfa = 0.0001 Acuracia =  0.6833333333333333\n",
      "\n",
      "coef:  [[ -7.28863392  -0.20039619 -13.81413965]]\n",
      "Intercept:  [-4.74961164]\n",
      "alfa = 0.01 Acuracia =  0.6833333333333333\n",
      "\n",
      "coef:  [[0. 0. 0.]]\n",
      "Intercept:  [-0.84642287]\n",
      "alfa = 1 Acuracia =  0.6833333333333333\n",
      "\n",
      "coef:  [[-0.01875404  0.          0.        ]]\n",
      "Intercept:  [-0.5403354]\n",
      "alfa = 10 Acuracia =  0.6833333333333333\n",
      "\n",
      "coef:  [[-0.00127551  0.          0.        ]]\n",
      "Intercept:  [-0.31226781]\n",
      "alfa = 100 Acuracia =  0.6833333333333333\n"
     ]
    },
    {
     "name": "stderr",
     "output_type": "stream",
     "text": [
      "/home/null/anaconda/lib/python3.6/site-packages/sklearn/linear_model/stochastic_gradient.py:128: FutureWarning: max_iter and tol parameters have been added in <class 'sklearn.linear_model.stochastic_gradient.SGDClassifier'> in 0.19. If both are left unset, they default to max_iter=5 and tol=None. If tol is not None, max_iter defaults to max_iter=1000. From 0.21, default max_iter will be 1000, and default tol will be 1e-3.\n",
      "  \"and default tol will be 1e-3.\" % type(self), FutureWarning)\n"
     ]
    }
   ],
   "source": [
    "## regulariação elasticnet\n",
    "modelo1 = linear_model.SGDClassifier(penalty='elasticnet',alpha=0.0001, random_state = 0)\n",
    "modelo1.fit(X_train,y_train)\n",
    "y_pred = modelo1.predict(X_test)\n",
    "accuracy1 = accuracy_score(y_test,y_pred)\n",
    "print (\"coef: \",modelo1.coef_)\n",
    "print (\"Intercept: \", modelo1.intercept_)\n",
    "\n",
    "print(\"alfa = 0.0001 Acuracia = \", accuracy1)\n",
    "\n",
    "print(\"\")\n",
    "modelo2 = linear_model.SGDClassifier(penalty='elasticnet',alpha=0.01, random_state = 0)\n",
    "modelo2.fit(X_train,y_train)\n",
    "y_pred = modelo2.predict(X_test)\n",
    "accuracy2 = accuracy_score(y_test,y_pred)\n",
    "print (\"coef: \",modelo2.coef_)\n",
    "print (\"Intercept: \", modelo2.intercept_)\n",
    "\n",
    "print(\"alfa = 0.01 Acuracia = \", accuracy2)\n",
    "\n",
    "print(\"\")\n",
    "\n",
    "modelo3 = linear_model.SGDClassifier(penalty='elasticnet',alpha=1, random_state = 0)\n",
    "modelo3.fit(X_train,y_train)\n",
    "y_pred = modelo3.predict(X_test)\n",
    "accuracy3 = accuracy_score(y_test,y_pred)\n",
    "print (\"coef: \",modelo3.coef_)\n",
    "print (\"Intercept: \", modelo3.intercept_)\n",
    "\n",
    "print(\"alfa = 1 Acuracia = \", accuracy3)\n",
    "\n",
    "print(\"\")\n",
    "\n",
    "modelo4 = linear_model.SGDClassifier(penalty='elasticnet',alpha=10, random_state = 0)\n",
    "modelo4.fit(X_train,y_train)\n",
    "print (\"coef: \",modelo4.coef_)\n",
    "print (\"Intercept: \", modelo4.intercept_)\n",
    "y_pred = modelo4.predict(X_test)\n",
    "accuracy4 = accuracy_score(y_test,y_pred)\n",
    "print(\"alfa = 10 Acuracia = \", accuracy4)\n",
    "\n",
    "print(\"\")\n",
    "modelo5 = linear_model.SGDClassifier(penalty='elasticnet',alpha=100, random_state = 0)\n",
    "modelo5.fit(X_train,y_train)\n",
    "y_pred = modelo5.predict(X_test)\n",
    "\n",
    "print (\"coef: \",modelo5.coef_)\n",
    "print (\"Intercept: \", modelo5.intercept_)\n",
    "\n",
    "accuracy5 = accuracy_score(y_test,y_pred)\n",
    "print(\"alfa = 100 Acuracia = \", accuracy5)"
   ]
  },
  {
   "cell_type": "code",
   "execution_count": null,
   "metadata": {},
   "outputs": [],
   "source": []
  }
 ],
 "metadata": {
  "kernelspec": {
   "display_name": "Python 3",
   "language": "python",
   "name": "python3"
  },
  "language_info": {
   "codemirror_mode": {
    "name": "ipython",
    "version": 3
   },
   "file_extension": ".py",
   "mimetype": "text/x-python",
   "name": "python",
   "nbconvert_exporter": "python",
   "pygments_lexer": "ipython3",
   "version": "3.6.4"
  }
 },
 "nbformat": 4,
 "nbformat_minor": 2
}
