{
 "cells": [
  {
   "cell_type": "code",
   "execution_count": 1,
   "metadata": {},
   "outputs": [],
   "source": [
    "import numpy as np\n",
    "import sklearn\n",
    "import pandas as pd\n",
    "from sklearn.model_selection import train_test_split\n",
    "from sklearn.metrics import accuracy_score\n",
    "from sklearn import linear_model"
   ]
  },
  {
   "cell_type": "code",
   "execution_count": 2,
   "metadata": {},
   "outputs": [],
   "source": [
    "df = pd.read_csv('binary.csv',header = 0 )"
   ]
  },
  {
   "cell_type": "code",
   "execution_count": 3,
   "metadata": {
    "scrolled": false
   },
   "outputs": [],
   "source": [
    "X = df.values[:,1:]\n",
    "y = df.values[:,0]"
   ]
  },
  {
   "cell_type": "code",
   "execution_count": 4,
   "metadata": {},
   "outputs": [],
   "source": [
    "X_train, X_test, y_train, y_test = train_test_split(X, y, test_size=0.30, random_state=42,stratify=y)\n"
   ]
  },
  {
   "cell_type": "markdown",
   "metadata": {},
   "source": [
    "### Comparando os modelos"
   ]
  },
  {
   "cell_type": "code",
   "execution_count": 16,
   "metadata": {},
   "outputs": [
    {
     "name": "stdout",
     "output_type": "stream",
     "text": [
      "coef:  [[  483.48489573  -442.18939586 -1267.55714619]]\n",
      "Intercept:  [-184.29912676]\n",
      "Sem regularizacao--------------------------------\n",
      "Acuracia =  0.31666666666666665\n"
     ]
    },
    {
     "name": "stderr",
     "output_type": "stream",
     "text": [
      "/home/null/anaconda/lib/python3.6/site-packages/sklearn/linear_model/stochastic_gradient.py:128: FutureWarning: max_iter and tol parameters have been added in <class 'sklearn.linear_model.stochastic_gradient.SGDClassifier'> in 0.19. If both are left unset, they default to max_iter=5 and tol=None. If tol is not None, max_iter defaults to max_iter=1000. From 0.21, default max_iter will be 1000, and default tol will be 1e-3.\n",
      "  \"and default tol will be 1e-3.\" % type(self), FutureWarning)\n"
     ]
    }
   ],
   "source": [
    "## Sem regularização\n",
    "modelo= linear_model.SGDClassifier(penalty='none')\n",
    "modelo.fit(X_train,y_train)\n",
    "y_pred = modelo.predict(X_test)\n",
    "accuracy = accuracy_score(y_test,y_pred)\n",
    "print (\"coef: \",modelo.coef_)\n",
    "print (\"Intercept: \", modelo.intercept_)\n",
    "\n",
    "print(\"Sem regularizacao--------------------------------\")\n",
    "print(\"Acuracia = \",accuracy)\n",
    "accuracy0 = 0"
   ]
  },
  {
   "cell_type": "code",
   "execution_count": 15,
   "metadata": {
    "scrolled": true
   },
   "outputs": [
    {
     "name": "stdout",
     "output_type": "stream",
     "text": [
      "coef:  [[-2089.51521702  -132.30208222 -1049.11384652]]\n",
      "Intercept:  [-100.61177386]\n",
      "alfa = 0.0001 Acuracia =  0.6833333333333333\n",
      "\n",
      "coef:  [[ 24.94366669  -5.33799359 -74.52580072]]\n",
      "Intercept:  [-8.08975205]\n",
      "alfa = 0.01 Acuracia =  0.31666666666666665\n",
      "\n",
      "coef:  [[-0.35172677  0.          0.        ]]\n",
      "Intercept:  [-0.31753456]\n",
      "alfa = 1 Acuracia =  0.6833333333333333\n",
      "\n",
      "coef:  [[36.68071163  0.          0.        ]]\n",
      "Intercept:  [0.01064746]\n",
      "alfa = 10 Acuracia =  0.31666666666666665\n",
      "\n",
      "coef:  [[-127.28634766    0.            0.        ]]\n",
      "Intercept:  [-0.28996339]\n",
      "alfa = 100 Acuracia =  0.6833333333333333\n"
     ]
    },
    {
     "name": "stderr",
     "output_type": "stream",
     "text": [
      "/home/null/anaconda/lib/python3.6/site-packages/sklearn/linear_model/stochastic_gradient.py:128: FutureWarning: max_iter and tol parameters have been added in <class 'sklearn.linear_model.stochastic_gradient.SGDClassifier'> in 0.19. If both are left unset, they default to max_iter=5 and tol=None. If tol is not None, max_iter defaults to max_iter=1000. From 0.21, default max_iter will be 1000, and default tol will be 1e-3.\n",
      "  \"and default tol will be 1e-3.\" % type(self), FutureWarning)\n"
     ]
    }
   ],
   "source": [
    "## regulariação elasticnet\n",
    "modelo1 = linear_model.SGDClassifier(penalty='l1',alpha=0.0001)\n",
    "modelo1.fit(X_train,y_train)\n",
    "y_pred = modelo1.predict(X_test)\n",
    "accuracy1 = accuracy_score(y_test,y_pred)\n",
    "print (\"coef: \",modelo1.coef_)\n",
    "print (\"Intercept: \", modelo1.intercept_)\n",
    "\n",
    "print(\"alfa = 0.0001 Acuracia = \", accuracy1)\n",
    "\n",
    "print(\"\")\n",
    "modelo2 = linear_model.SGDClassifier(penalty='l1',alpha=0.01)\n",
    "modelo2.fit(X_train,y_train)\n",
    "y_pred = modelo2.predict(X_test)\n",
    "accuracy2 = accuracy_score(y_test,y_pred)\n",
    "print (\"coef: \",modelo2.coef_)\n",
    "print (\"Intercept: \", modelo2.intercept_)\n",
    "\n",
    "print(\"alfa = 0.01 Acuracia = \", accuracy2)\n",
    "\n",
    "print(\"\")\n",
    "\n",
    "modelo3 = linear_model.SGDClassifier(penalty='l1',alpha=1)\n",
    "modelo3.fit(X_train,y_train)\n",
    "y_pred = modelo3.predict(X_test)\n",
    "accuracy3 = accuracy_score(y_test,y_pred)\n",
    "print (\"coef: \",modelo3.coef_)\n",
    "print (\"Intercept: \", modelo3.intercept_)\n",
    "\n",
    "print(\"alfa = 1 Acuracia = \", accuracy3)\n",
    "\n",
    "print(\"\")\n",
    "\n",
    "modelo4 = linear_model.SGDClassifier(penalty='l1',alpha=10)\n",
    "modelo4.fit(X_train,y_train)\n",
    "print (\"coef: \",modelo4.coef_)\n",
    "print (\"Intercept: \", modelo4.intercept_)\n",
    "y_pred = modelo4.predict(X_test)\n",
    "accuracy4 = accuracy_score(y_test,y_pred)\n",
    "print(\"alfa = 10 Acuracia = \", accuracy4)\n",
    "\n",
    "print(\"\")\n",
    "modelo5 = linear_model.SGDClassifier(penalty='l1',alpha=100)\n",
    "modelo5.fit(X_train,y_train)\n",
    "y_pred = modelo5.predict(X_test)\n",
    "\n",
    "print (\"coef: \",modelo5.coef_)\n",
    "print (\"Intercept: \", modelo5.intercept_)\n",
    "\n",
    "accuracy5 = accuracy_score(y_test,y_pred)\n",
    "print(\"alfa = 100 Acuracia = \", accuracy5)"
   ]
  },
  {
   "cell_type": "code",
   "execution_count": 14,
   "metadata": {},
   "outputs": [
    {
     "name": "stdout",
     "output_type": "stream",
     "text": [
      "coef:  [[ 250.10421009 -180.2417674  -954.56440183]]\n",
      "Intercept:  [-172.54444932]\n",
      "alfa = 0.0001 Acuracia =  0.31666666666666665\n",
      "\n",
      "coef:  [[-20.96988842  -4.23451947 -14.04982524]]\n",
      "Intercept:  [-9.16802138]\n",
      "alfa = 0.01 Acuracia =  0.6833333333333333\n",
      "\n",
      "coef:  [[-0.31428571 -0.04988571 -0.14714286]]\n",
      "Intercept:  [0.18791461]\n",
      "alfa = 1 Acuracia =  0.6833333333333333\n",
      "\n",
      "coef:  [[-0.03430586 -0.00260939 -0.01550911]]\n",
      "Intercept:  [-0.56241441]\n",
      "alfa = 10 Acuracia =  0.6833333333333333\n",
      "\n",
      "coef:  [[ 0.00014296 -0.00035131 -0.00170832]]\n",
      "Intercept:  [-0.31557357]\n",
      "alfa = 100 Acuracia =  0.6833333333333333\n"
     ]
    },
    {
     "name": "stderr",
     "output_type": "stream",
     "text": [
      "/home/null/anaconda/lib/python3.6/site-packages/sklearn/linear_model/stochastic_gradient.py:128: FutureWarning: max_iter and tol parameters have been added in <class 'sklearn.linear_model.stochastic_gradient.SGDClassifier'> in 0.19. If both are left unset, they default to max_iter=5 and tol=None. If tol is not None, max_iter defaults to max_iter=1000. From 0.21, default max_iter will be 1000, and default tol will be 1e-3.\n",
      "  \"and default tol will be 1e-3.\" % type(self), FutureWarning)\n"
     ]
    }
   ],
   "source": [
    "## regulariação L2\n",
    "modelo1 = linear_model.SGDClassifier(penalty='l2',alpha=0.0001)\n",
    "modelo1.fit(X_train,y_train)\n",
    "y_pred = modelo1.predict(X_test)\n",
    "accuracy1 = accuracy_score(y_test,y_pred)\n",
    "print (\"coef: \",modelo1.coef_)\n",
    "print (\"Intercept: \", modelo1.intercept_)\n",
    "\n",
    "print(\"alfa = 0.0001 Acuracia = \", accuracy1)\n",
    "\n",
    "print(\"\")\n",
    "modelo2 = linear_model.SGDClassifier(penalty='l2',alpha=0.01)\n",
    "modelo2.fit(X_train,y_train)\n",
    "y_pred = modelo2.predict(X_test)\n",
    "accuracy2 = accuracy_score(y_test,y_pred)\n",
    "print (\"coef: \",modelo2.coef_)\n",
    "print (\"Intercept: \", modelo2.intercept_)\n",
    "\n",
    "print(\"alfa = 0.01 Acuracia = \", accuracy2)\n",
    "\n",
    "print(\"\")\n",
    "\n",
    "modelo3 = linear_model.SGDClassifier(penalty='l2',alpha=1)\n",
    "modelo3.fit(X_train,y_train)\n",
    "y_pred = modelo3.predict(X_test)\n",
    "accuracy3 = accuracy_score(y_test,y_pred)\n",
    "print (\"coef: \",modelo3.coef_)\n",
    "print (\"Intercept: \", modelo3.intercept_)\n",
    "\n",
    "print(\"alfa = 1 Acuracia = \", accuracy3)\n",
    "\n",
    "print(\"\")\n",
    "\n",
    "modelo4 = linear_model.SGDClassifier(penalty='l2',alpha=10)\n",
    "modelo4.fit(X_train,y_train)\n",
    "print (\"coef: \",modelo4.coef_)\n",
    "print (\"Intercept: \", modelo4.intercept_)\n",
    "y_pred = modelo4.predict(X_test)\n",
    "accuracy4 = accuracy_score(y_test,y_pred)\n",
    "print(\"alfa = 10 Acuracia = \", accuracy4)\n",
    "\n",
    "print(\"\")\n",
    "modelo5 = linear_model.SGDClassifier(penalty='l2',alpha=100)\n",
    "modelo5.fit(X_train,y_train)\n",
    "y_pred = modelo5.predict(X_test)\n",
    "\n",
    "print (\"coef: \",modelo5.coef_)\n",
    "print (\"Intercept: \", modelo5.intercept_)\n",
    "\n",
    "accuracy5 = accuracy_score(y_test,y_pred)\n",
    "print(\"alfa = 100 Acuracia = \", accuracy5)"
   ]
  },
  {
   "cell_type": "code",
   "execution_count": 13,
   "metadata": {},
   "outputs": [
    {
     "name": "stdout",
     "output_type": "stream",
     "text": [
      "coef:  [[-1467.31478381  -201.00985463  -878.01451439]]\n",
      "Intercept:  [-155.08422956]\n",
      "alfa = 0.0001 Acuracia =  0.6833333333333333\n",
      "\n",
      "coef:  [[-17.40789537  -3.34702064 -19.31675569]]\n",
      "Intercept:  [-10.03210253]\n",
      "alfa = 0.01 Acuracia =  0.6833333333333333\n",
      "\n",
      "coef:  [[ 0.          0.         -0.07223419]]\n",
      "Intercept:  [0.20651049]\n",
      "alfa = 1 Acuracia =  0.5666666666666667\n",
      "\n",
      "coef:  [[-0.02584436  0.          0.        ]]\n",
      "Intercept:  [0.40366948]\n",
      "alfa = 10 Acuracia =  0.6833333333333333\n",
      "\n",
      "coef:  [[0. 0. 0.]]\n",
      "Intercept:  [-0.30420996]\n",
      "alfa = 100 Acuracia =  0.6833333333333333\n"
     ]
    },
    {
     "name": "stderr",
     "output_type": "stream",
     "text": [
      "/home/null/anaconda/lib/python3.6/site-packages/sklearn/linear_model/stochastic_gradient.py:128: FutureWarning: max_iter and tol parameters have been added in <class 'sklearn.linear_model.stochastic_gradient.SGDClassifier'> in 0.19. If both are left unset, they default to max_iter=5 and tol=None. If tol is not None, max_iter defaults to max_iter=1000. From 0.21, default max_iter will be 1000, and default tol will be 1e-3.\n",
      "  \"and default tol will be 1e-3.\" % type(self), FutureWarning)\n"
     ]
    }
   ],
   "source": [
    "## regulariação elasticnet\n",
    "modelo1 = linear_model.SGDClassifier(penalty='elasticnet',alpha=0.0001)\n",
    "modelo1.fit(X_train,y_train)\n",
    "y_pred = modelo1.predict(X_test)\n",
    "accuracy1 = accuracy_score(y_test,y_pred)\n",
    "print (\"coef: \",modelo1.coef_)\n",
    "print (\"Intercept: \", modelo1.intercept_)\n",
    "\n",
    "print(\"alfa = 0.0001 Acuracia = \", accuracy1)\n",
    "\n",
    "print(\"\")\n",
    "modelo2 = linear_model.SGDClassifier(penalty='elasticnet',alpha=0.01)\n",
    "modelo2.fit(X_train,y_train)\n",
    "y_pred = modelo2.predict(X_test)\n",
    "accuracy2 = accuracy_score(y_test,y_pred)\n",
    "print (\"coef: \",modelo2.coef_)\n",
    "print (\"Intercept: \", modelo2.intercept_)\n",
    "\n",
    "print(\"alfa = 0.01 Acuracia = \", accuracy2)\n",
    "\n",
    "print(\"\")\n",
    "\n",
    "modelo3 = linear_model.SGDClassifier(penalty='elasticnet',alpha=1)\n",
    "modelo3.fit(X_train,y_train)\n",
    "y_pred = modelo3.predict(X_test)\n",
    "accuracy3 = accuracy_score(y_test,y_pred)\n",
    "print (\"coef: \",modelo3.coef_)\n",
    "print (\"Intercept: \", modelo3.intercept_)\n",
    "\n",
    "print(\"alfa = 1 Acuracia = \", accuracy3)\n",
    "\n",
    "print(\"\")\n",
    "\n",
    "modelo4 = linear_model.SGDClassifier(penalty='elasticnet',alpha=10)\n",
    "modelo4.fit(X_train,y_train)\n",
    "print (\"coef: \",modelo4.coef_)\n",
    "print (\"Intercept: \", modelo4.intercept_)\n",
    "y_pred = modelo4.predict(X_test)\n",
    "accuracy4 = accuracy_score(y_test,y_pred)\n",
    "print(\"alfa = 10 Acuracia = \", accuracy4)\n",
    "\n",
    "print(\"\")\n",
    "modelo5 = linear_model.SGDClassifier(penalty='elasticnet',alpha=100)\n",
    "modelo5.fit(X_train,y_train)\n",
    "y_pred = modelo5.predict(X_test)\n",
    "\n",
    "print (\"coef: \",modelo5.coef_)\n",
    "print (\"Intercept: \", modelo5.intercept_)\n",
    "\n",
    "accuracy5 = accuracy_score(y_test,y_pred)\n",
    "print(\"alfa = 100 Acuracia = \", accuracy5)"
   ]
  },
  {
   "cell_type": "code",
   "execution_count": null,
   "metadata": {},
   "outputs": [],
   "source": []
  }
 ],
 "metadata": {
  "kernelspec": {
   "display_name": "Python 3",
   "language": "python",
   "name": "python3"
  },
  "language_info": {
   "codemirror_mode": {
    "name": "ipython",
    "version": 3
   },
   "file_extension": ".py",
   "mimetype": "text/x-python",
   "name": "python",
   "nbconvert_exporter": "python",
   "pygments_lexer": "ipython3",
   "version": "3.6.4"
  }
 },
 "nbformat": 4,
 "nbformat_minor": 2
}
