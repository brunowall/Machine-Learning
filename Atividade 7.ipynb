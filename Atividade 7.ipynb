{
 "cells": [
  {
   "cell_type": "code",
   "execution_count": 38,
   "metadata": {},
   "outputs": [],
   "source": [
    "%matplotlib inline\n",
    "import sklearn\n",
    "from sklearn import datasets\n",
    "from sklearn import linear_model\n",
    "from sklearn import metrics\n",
    "import numpy as np\n",
    "from sklearn.model_selection import KFold\n",
    "from mylibs import transform\n",
    "from sklearn import neighbors\n",
    "from sklearn.naive_bayes import GaussianNB"
   ]
  },
  {
   "cell_type": "code",
   "execution_count": 11,
   "metadata": {},
   "outputs": [],
   "source": [
    "X,y = sklearn.datasets.load_boston(return_X_y=True)\n",
    "X = transform.standardize(X)\n",
    "kfold = KFold(n_splits=5)"
   ]
  },
  {
   "cell_type": "code",
   "execution_count": 50,
   "metadata": {
    "scrolled": false
   },
   "outputs": [
    {
     "name": "stdout",
     "output_type": "stream",
     "text": [
      "[12.48065021 26.09620267 33.11995587 80.83305378 33.58435565]\n",
      "[2.62469524 3.91244817 4.38945068 5.57366377 4.78261237]\n"
     ]
    }
   ],
   "source": [
    "erros_mse = np.empty((1,0),dtype = float)\n",
    "erros_mae = np.empty((1,0),dtype = float)\n",
    "\n",
    "\n",
    "for idx_train, idx_test in kfold.split(X):\n",
    "    Xtrain = X[idx_train]\n",
    "    Xtest = X[idx_test]\n",
    "    y_train = y[idx_train]\n",
    "    y_test = y[idx_test]\n",
    "    modelo = linear_model.LinearRegression()\n",
    "    modelo.fit(Xtrain,y_train)\n",
    "    y_pred = modelo.predict(Xtest)\n",
    "    erro_mse = metrics.mean_squared_error(y_test,y_pred)\n",
    "    erro_mae = metrics.mean_absolute_error(y_test,y_pred)\n",
    "    erros_mse = np.append(erros_mse,erro_mse)\n",
    "    erros_mae = np.append(erros_mae,erro_mae)\n",
    "\n",
    "\n",
    "print(erros_mse)\n",
    "print(erros_mae)"
   ]
  },
  {
   "cell_type": "code",
   "execution_count": 51,
   "metadata": {
    "scrolled": true
   },
   "outputs": [
    {
     "name": "stdout",
     "output_type": "stream",
     "text": [
      "Aqui\n",
      "Aqui\n",
      "Aqui\n",
      "Aqui\n",
      "Aqui\n",
      "[10.04324725 39.77094341 36.26996833 78.71669066 57.58537649]\n",
      "[2.28156345 4.7426195  4.22107209 5.28643311 5.72388061]\n"
     ]
    },
    {
     "name": "stderr",
     "output_type": "stream",
     "text": [
      "/home/null/anaconda3/lib/python3.6/site-packages/sklearn/linear_model/stochastic_gradient.py:128: FutureWarning: max_iter and tol parameters have been added in <class 'sklearn.linear_model.stochastic_gradient.SGDRegressor'> in 0.19. If both are left unset, they default to max_iter=5 and tol=None. If tol is not None, max_iter defaults to max_iter=1000. From 0.21, default max_iter will be 1000, and default tol will be 1e-3.\n",
      "  \"and default tol will be 1e-3.\" % type(self), FutureWarning)\n"
     ]
    }
   ],
   "source": [
    "erros_mse = np.empty((1,0),dtype = float)\n",
    "erros_mae = np.empty((1,0),dtype = float)\n",
    "gradient = linear_model.SGDRegressor()\n",
    "\n",
    "for idx_train, idx_test in kfold.split(X):\n",
    "    print(\"Aqui\")\n",
    "    Xtrain = X[idx_train]\n",
    "    Xtest = X[idx_test]\n",
    "    y_train = y[idx_train]\n",
    "    y_test = y[idx_test]\n",
    "    gradient.fit(Xtrain,y_train)\n",
    "    y_pred = gradient.predict(Xtest)\n",
    "    erro_mse = metrics.mean_squared_error(y_test,y_pred)\n",
    "    erro_mae = metrics.mean_absolute_error(y_test,y_pred)\n",
    "    erros_mse = np.append(erros_mse,erro_mse)\n",
    "    erros_mae = np.append(erros_mae,erro_mae)\n",
    "\n",
    "\n",
    "print(erros_mse)\n",
    "print(erros_mae)\n"
   ]
  },
  {
   "cell_type": "markdown",
   "metadata": {},
   "source": [
    "#### KNN"
   ]
  },
  {
   "cell_type": "code",
   "execution_count": 52,
   "metadata": {},
   "outputs": [
    {
     "name": "stdout",
     "output_type": "stream",
     "text": [
      "[14.19435294 33.66249901 31.55630099 46.29693465 22.17024158]\n",
      "[2.93764706 3.75623762 4.17465347 4.06851485 3.57425743]\n"
     ]
    }
   ],
   "source": [
    "erros_mse = np.empty((1,0),dtype = float)\n",
    "erros_mae = np.empty((1,0),dtype = float)\n",
    "knn = neighbors.KNeighborsRegressor()\n",
    "\n",
    "for idx_train, idx_test in kfold.split(X):\n",
    "    Xtrain = X[idx_train]\n",
    "    Xtest = X[idx_test]\n",
    "    y_train = y[idx_train]\n",
    "    y_test = y[idx_test]\n",
    "    knn.fit(Xtrain,y_train)\n",
    "    y_pred = knn.predict(Xtest)\n",
    "    erro_mse = metrics.mean_squared_error(y_test,y_pred)\n",
    "    erro_mae = metrics.mean_absolute_error(y_test,y_pred)\n",
    "    erros_mse = np.append(erros_mse,erro_mse)\n",
    "    erros_mae = np.append(erros_mae,erro_mae)\n",
    "\n",
    "print(erros_mse)\n",
    "print(erros_mae)"
   ]
  },
  {
   "cell_type": "code",
   "execution_count": 53,
   "metadata": {
    "scrolled": true
   },
   "outputs": [
    {
     "name": "stdout",
     "output_type": "stream",
     "text": [
      "[ 27.4195098   38.21861386  99.34059406 108.89148515  38.3270297 ]\n",
      "[4.07156863 4.63564356 6.88118812 7.10891089 4.44455446]\n"
     ]
    }
   ],
   "source": [
    "erros_mse = np.empty((1,0),dtype = float)\n",
    "erros_mae = np.empty((1,0),dtype = float)\n",
    "naivebayes = GaussianNB()\n",
    "\n",
    "for idx_train, idx_test in kfold.split(X):\n",
    "    Xtrain = X[idx_train]\n",
    "    Xtest = X[idx_test]\n",
    "    y_train = y[idx_train]\n",
    "    y_test = y[idx_test]\n",
    "    naivebayes.fit(Xtrain.astype(float),y_train.astype(int))\n",
    "    y_pred = naivebayes.predict(Xtest.astype(float))\n",
    "    erro_mse = metrics.mean_squared_error(y_test,y_pred)\n",
    "    erro_mae = metrics.mean_absolute_error(y_test,y_pred)\n",
    "    erros_mse = np.append(erros_mse,erro_mse)\n",
    "    erros_mae = np.append(erros_mae,erro_mae)\n",
    "\n",
    "print(erros_mse)\n",
    "print(erros_mae)"
   ]
  },
  {
   "cell_type": "code",
   "execution_count": null,
   "metadata": {},
   "outputs": [],
   "source": []
  },
  {
   "cell_type": "code",
   "execution_count": null,
   "metadata": {},
   "outputs": [],
   "source": []
  }
 ],
 "metadata": {
  "kernelspec": {
   "display_name": "Python 3",
   "language": "python",
   "name": "python3"
  },
  "language_info": {
   "codemirror_mode": {
    "name": "ipython",
    "version": 3
   },
   "file_extension": ".py",
   "mimetype": "text/x-python",
   "name": "python",
   "nbconvert_exporter": "python",
   "pygments_lexer": "ipython3",
   "version": "3.6.4"
  }
 },
 "nbformat": 4,
 "nbformat_minor": 2
}
