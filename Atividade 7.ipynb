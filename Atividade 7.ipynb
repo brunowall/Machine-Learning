{
 "cells": [
  {
   "cell_type": "code",
   "execution_count": 1,
   "metadata": {},
   "outputs": [],
   "source": [
    "%matplotlib inline\n",
    "import sklearn\n",
    "from sklearn import datasets\n",
    "from sklearn import linear_model\n",
    "from sklearn import metrics\n",
    "import numpy as np\n",
    "from sklearn.model_selection import KFold\n",
    "from mylibs import transform\n",
    "from sklearn import neighbors\n",
    "from sklearn.naive_bayes import GaussianNB\n",
    "from sklearn import svm"
   ]
  },
  {
   "cell_type": "code",
   "execution_count": 2,
   "metadata": {},
   "outputs": [],
   "source": [
    "X,y = sklearn.datasets.load_boston(return_X_y=True)\n",
    "X = transform.standardize(X)\n",
    "kfold = KFold(n_splits=5)"
   ]
  },
  {
   "cell_type": "code",
   "execution_count": 3,
   "metadata": {
    "scrolled": true
   },
   "outputs": [
    {
     "name": "stdout",
     "output_type": "stream",
     "text": [
      "[3.53279637 5.10844425 5.75499399 8.99072043 5.79520109]\n",
      "[2.62469524 3.91244817 4.38945068 5.57366377 4.78261237]\n",
      "5.795201088167998\n",
      "4.782612366965594\n"
     ]
    }
   ],
   "source": [
    "erros_mse = np.empty((1,0),dtype = float)\n",
    "erros_mae = np.empty((1,0),dtype = float)\n",
    "\n",
    "\n",
    "for idx_train, idx_test in kfold.split(X):\n",
    "    Xtrain = X[idx_train]\n",
    "    Xtest = X[idx_test]\n",
    "    y_train = y[idx_train]\n",
    "    y_test = y[idx_test]\n",
    "    modelo = linear_model.LinearRegression()\n",
    "    modelo.fit(Xtrain,y_train)\n",
    "    y_pred = modelo.predict(Xtest)\n",
    "    erro_mse = np.sqrt(metrics.mean_squared_error(y_test,y_pred))\n",
    "    erro_mae = metrics.mean_absolute_error(y_test,y_pred)\n",
    "    erros_mse = np.append(erros_mse,erro_mse)\n",
    "    erros_mae = np.append(erros_mae,erro_mae)\n",
    "\n",
    "\n",
    "print(erros_mse)\n",
    "print(erros_mae)\n",
    "\n",
    "print(np.mean(erro_mse))\n",
    "print(np.mean(erro_mae))"
   ]
  },
  {
   "cell_type": "code",
   "execution_count": 4,
   "metadata": {
    "scrolled": true
   },
   "outputs": [
    {
     "name": "stdout",
     "output_type": "stream",
     "text": [
      "Aqui\n",
      "Aqui\n",
      "Aqui\n",
      "Aqui\n",
      "Aqui\n",
      "[3.11311838 6.32280183 5.91300661 8.96338742 7.91668982]\n",
      "[2.25375786 4.72564065 4.14837281 5.36214956 5.92537272]\n",
      "7.916689824576685\n",
      "5.925372721611\n"
     ]
    },
    {
     "name": "stderr",
     "output_type": "stream",
     "text": [
      "/home/darkbyte/anaconda3/lib/python3.6/site-packages/sklearn/linear_model/stochastic_gradient.py:128: FutureWarning: max_iter and tol parameters have been added in <class 'sklearn.linear_model.stochastic_gradient.SGDRegressor'> in 0.19. If both are left unset, they default to max_iter=5 and tol=None. If tol is not None, max_iter defaults to max_iter=1000. From 0.21, default max_iter will be 1000, and default tol will be 1e-3.\n",
      "  \"and default tol will be 1e-3.\" % type(self), FutureWarning)\n"
     ]
    }
   ],
   "source": [
    "erros_mse = np.empty((1,0),dtype = float)\n",
    "erros_mae = np.empty((1,0),dtype = float)\n",
    "gradient = linear_model.SGDRegressor()\n",
    "\n",
    "for idx_train, idx_test in kfold.split(X):\n",
    "    print(\"Aqui\")\n",
    "    Xtrain = X[idx_train]\n",
    "    Xtest = X[idx_test]\n",
    "    y_train = y[idx_train]\n",
    "    y_test = y[idx_test]\n",
    "    gradient.fit(Xtrain,y_train)\n",
    "    y_pred = gradient.predict(Xtest)\n",
    "    erro_mse = np.sqrt(metrics.mean_squared_error(y_test,y_pred))\n",
    "    erro_mae = metrics.mean_absolute_error(y_test,y_pred)\n",
    "    erros_mse = np.append(erros_mse,erro_mse)\n",
    "    erros_mae = np.append(erros_mae,erro_mae)\n",
    "\n",
    "\n",
    "print(erros_mse)\n",
    "print(erros_mae)\n",
    "\n",
    "print(np.mean(erro_mse))\n",
    "print(np.mean(erro_mae))\n"
   ]
  },
  {
   "cell_type": "markdown",
   "metadata": {},
   "source": [
    "#### KNN"
   ]
  },
  {
   "cell_type": "code",
   "execution_count": 5,
   "metadata": {},
   "outputs": [
    {
     "name": "stdout",
     "output_type": "stream",
     "text": [
      "[3.76753937 5.80193925 5.61749953 6.80418508 4.7085286 ]\n",
      "[2.93764706 3.75623762 4.17465347 4.06851485 3.57425743]\n",
      "4.708528600758247\n",
      "3.574257425742574\n"
     ]
    }
   ],
   "source": [
    "erros_mse = np.empty((1,0),dtype = float)\n",
    "erros_mae = np.empty((1,0),dtype = float)\n",
    "knn = neighbors.KNeighborsRegressor()\n",
    "\n",
    "for idx_train, idx_test in kfold.split(X):\n",
    "    Xtrain = X[idx_train]\n",
    "    Xtest = X[idx_test]\n",
    "    y_train = y[idx_train]\n",
    "    y_test = y[idx_test]\n",
    "    knn.fit(Xtrain,y_train)\n",
    "    y_pred = knn.predict(Xtest)\n",
    "    erro_mse = np.sqrt(metrics.mean_squared_error(y_test,y_pred))\n",
    "    erro_mae = metrics.mean_absolute_error(y_test,y_pred)\n",
    "    erros_mse = np.append(erros_mse,erro_mse)\n",
    "    erros_mae = np.append(erros_mae,erro_mae)\n",
    "\n",
    "print(erros_mse)\n",
    "print(erros_mae)\n",
    "\n",
    "print(np.mean(erro_mse))\n",
    "print(np.mean(erro_mae))"
   ]
  },
  {
   "cell_type": "code",
   "execution_count": 6,
   "metadata": {
    "scrolled": true
   },
   "outputs": [
    {
     "name": "stdout",
     "output_type": "stream",
     "text": [
      "[ 5.23636418  6.1821205   9.96697517 10.4351083   6.19088279]\n",
      "[4.07156863 4.63564356 6.88118812 7.10891089 4.44455446]\n",
      "6.190882788663528\n",
      "4.444554455445545\n"
     ]
    }
   ],
   "source": [
    "erros_mse = np.empty((1,0),dtype = float)\n",
    "erros_mae = np.empty((1,0),dtype = float)\n",
    "naivebayes = GaussianNB()\n",
    "\n",
    "for idx_train, idx_test in kfold.split(X):\n",
    "    Xtrain = X[idx_train]\n",
    "    Xtest = X[idx_test]\n",
    "    y_train = y[idx_train]\n",
    "    y_test = y[idx_test]\n",
    "    naivebayes.fit(Xtrain.astype(float),y_train.astype(int))\n",
    "    y_pred = naivebayes.predict(Xtest.astype(float))\n",
    "    erro_mse = np.sqrt(metrics.mean_squared_error(y_test,y_pred))\n",
    "    erro_mae = metrics.mean_absolute_error(y_test,y_pred)\n",
    "    erros_mse = np.append(erros_mse,erro_mse)\n",
    "    erros_mae = np.append(erros_mae,erro_mae)\n",
    "\n",
    "print(erros_mse)\n",
    "print(erros_mae)\n",
    "\n",
    "print(np.mean(erro_mse))\n",
    "print(np.mean(erro_mae))"
   ]
  },
  {
   "cell_type": "code",
   "execution_count": 7,
   "metadata": {},
   "outputs": [
    {
     "name": "stdout",
     "output_type": "stream",
     "text": [
      "[2.89634311 6.85284779 8.85535558 7.57552989 5.70077567]\n",
      "[2.09855906 4.32743364 6.14518067 4.40433799 4.31927614]\n",
      "5.7007756662171065\n",
      "4.319276138322922\n"
     ]
    }
   ],
   "source": [
    "erros_mse = np.empty((1,0),dtype = float)\n",
    "erros_mae = np.empty((1,0),dtype = float)\n",
    "svm = svm.SVR()\n",
    "\n",
    "for idx_train, idx_test in kfold.split(X):\n",
    "    Xtrain = X[idx_train]\n",
    "    Xtest = X[idx_test]\n",
    "    y_train = y[idx_train]\n",
    "    y_test = y[idx_test]\n",
    "    svm.fit(Xtrain.astype(float),y_train.astype(int))\n",
    "    y_pred = svm.predict(Xtest.astype(float))\n",
    "    erro_mse = np.sqrt(metrics.mean_squared_error(y_test,y_pred))\n",
    "    erro_mae = metrics.mean_absolute_error(y_test,y_pred)\n",
    "    erros_mse = np.append(erros_mse,erro_mse)\n",
    "    erros_mae = np.append(erros_mae,erro_mae)\n",
    "\n",
    "print(erros_mse)\n",
    "print(erros_mae)\n",
    "\n",
    "print(np.mean(erro_mse))\n",
    "print(np.mean(erro_mae))"
   ]
  },
  {
   "cell_type": "markdown",
   "metadata": {},
   "source": [
    "### Classificação"
   ]
  },
  {
   "cell_type": "code",
   "execution_count": 8,
   "metadata": {},
   "outputs": [],
   "source": [
    "X,y = sklearn.datasets.load_breast_cancer(return_X_y=True)\n",
    "X = transform.normalize(X)\n",
    "kfold = KFold(n_splits=5)"
   ]
  },
  {
   "cell_type": "markdown",
   "metadata": {},
   "source": [
    "#### Logistic regression"
   ]
  },
  {
   "cell_type": "code",
   "execution_count": 9,
   "metadata": {},
   "outputs": [
    {
     "name": "stdout",
     "output_type": "stream",
     "text": [
      "0.9910003821618603\n",
      "0.9543704393727681\n",
      "0.9291092039843047\n",
      "0.9578514504482583\n",
      "0.951019502253675\n"
     ]
    }
   ],
   "source": [
    "model = linear_model.LogisticRegression()\n",
    "recalls = np.empty((1,0),dtype = float)\n",
    "acuracias = np.empty((1,0),dtype = float)\n",
    "precisions = np.empty((1,0),dtype = float)\n",
    "f1s = np.empty((1,0),dtype = float)\n",
    "aucs = np.empty((1,0),dtype = float)\n",
    "\n",
    "for idx_train, idx_test in kfold.split(X):\n",
    "    Xtrain = X[idx_train]\n",
    "    Xtest = X[idx_test]\n",
    "    y_train = y[idx_train]\n",
    "    y_test = y[idx_test]\n",
    "    model.fit(Xtrain,y_train)\n",
    "    y_pred = model.predict(Xtest)\n",
    "    acuracia = metrics.accuracy_score(y_test,y_pred)\n",
    "    precision = metrics.precision_score(y_test,y_pred)\n",
    "    recall = metrics.recall_score(y_test, y_pred)\n",
    "    f1 = metrics.f1_score(y_test, y_pred)\n",
    "    recalls = np.append(recalls,recall)\n",
    "    acuracias = np.append(acuracias,acuracia)\n",
    "    precisions = np.append(precisions,precision)\n",
    "    f1s = np.append(f1s,f1)\n",
    "    auc = metrics.roc_auc_score(y_test,y_pred)\n",
    "    aucs = np.append(aucs,auc)\n",
    "\n",
    "print(np.mean(recalls))\n",
    "print(np.mean(acuracias))\n",
    "print(np.mean(precisions))\n",
    "print(np.mean(f1s))\n",
    "print(np.mean(aucs))\n",
    "\n"
   ]
  },
  {
   "cell_type": "markdown",
   "metadata": {},
   "source": [
    "### KNN"
   ]
  },
  {
   "cell_type": "code",
   "execution_count": 10,
   "metadata": {},
   "outputs": [
    {
     "name": "stdout",
     "output_type": "stream",
     "text": [
      "0.9844077961019491\n",
      "0.9631113181183046\n",
      "0.9488713787902429\n",
      "0.9658345095536731\n",
      "0.9588907797001859\n"
     ]
    }
   ],
   "source": [
    "model = neighbors.KNeighborsClassifier()\n",
    "\n",
    "recalls = np.empty((1,0),dtype = float)\n",
    "acuracias = np.empty((1,0),dtype = float)\n",
    "precisions = np.empty((1,0),dtype = float)\n",
    "f1s = np.empty((1,0),dtype = float)\n",
    "aucs = np.empty((1,0),dtype = float)\n",
    "\n",
    "for idx_train, idx_test in kfold.split(X):\n",
    "    Xtrain = X[idx_train]\n",
    "    Xtest = X[idx_test]\n",
    "    y_train = y[idx_train]\n",
    "    y_test = y[idx_test]\n",
    "    model.fit(Xtrain,y_train)\n",
    "    y_pred = model.predict(Xtest)\n",
    "    acuracia = metrics.accuracy_score(y_test,y_pred)\n",
    "    precision = metrics.precision_score(y_test,y_pred)\n",
    "    recall = metrics.recall_score(y_test, y_pred)\n",
    "    f1 = metrics.f1_score(y_test, y_pred)\n",
    "    #Preenchimento de vetores\n",
    "    recalls = np.append(recalls,recall)\n",
    "    acuracias = np.append(acuracias,acuracia)\n",
    "    precisions = np.append(precisions,precision)\n",
    "    f1s = np.append(f1s,f1)\n",
    "    auc = metrics.roc_auc_score(y_test,y_pred)\n",
    "    aucs = np.append(aucs,auc)\n",
    "\n",
    "print(np.mean(recalls))\n",
    "print(np.mean(acuracias))\n",
    "print(np.mean(precisions))\n",
    "print(np.mean(f1s))\n",
    "print(np.mean(aucs))\n"
   ]
  },
  {
   "cell_type": "markdown",
   "metadata": {},
   "source": [
    "### Naive bayes"
   ]
  },
  {
   "cell_type": "code",
   "execution_count": 11,
   "metadata": {},
   "outputs": [
    {
     "name": "stdout",
     "output_type": "stream",
     "text": [
      "0.9499018461907605\n",
      "0.9296848315478963\n",
      "0.9265098375113417\n",
      "0.9372205053092115\n",
      "0.9259112833668098\n"
     ]
    }
   ],
   "source": [
    "model = GaussianNB()\n",
    "recalls = np.empty((1,0),dtype = float)\n",
    "acuracias = np.empty((1,0),dtype = float)\n",
    "precisions = np.empty((1,0),dtype = float)\n",
    "f1s = np.empty((1,0),dtype = float)\n",
    "aucs = np.empty((1,0),dtype = float)\n",
    "\n",
    "for idx_train, idx_test in kfold.split(X):\n",
    "    Xtrain = X[idx_train]\n",
    "    Xtest = X[idx_test]\n",
    "    y_train = y[idx_train]\n",
    "    y_test = y[idx_test]\n",
    "    model.fit(Xtrain,y_train)\n",
    "    y_pred = model.predict(Xtest)\n",
    "    acuracia = metrics.accuracy_score(y_test,y_pred)\n",
    "    precision = metrics.precision_score(y_test,y_pred)\n",
    "    recall = metrics.recall_score(y_test, y_pred)\n",
    "    f1 = metrics.f1_score(y_test, y_pred)\n",
    "    #Preenchimento de vetores\n",
    "    recalls = np.append(recalls,recall)\n",
    "    acuracias = np.append(acuracias,acuracia)\n",
    "    precisions = np.append(precisions,precision)\n",
    "    f1s = np.append(f1s,f1)\n",
    "    auc = metrics.roc_auc_score(y_test,y_pred)\n",
    "    aucs = np.append(aucs,auc)\n",
    "\n",
    "print(np.mean(recalls))\n",
    "print(np.mean(acuracias))\n",
    "print(np.mean(precisions))\n",
    "print(np.mean(f1s))\n",
    "print(np.mean(aucs))\n"
   ]
  },
  {
   "cell_type": "markdown",
   "metadata": {},
   "source": [
    "### SVM"
   ]
  },
  {
   "cell_type": "code",
   "execution_count": 13,
   "metadata": {},
   "outputs": [
    {
     "name": "stdout",
     "output_type": "stream",
     "text": [
      "0.9499018461907605\n",
      "0.9296848315478963\n",
      "0.9265098375113417\n",
      "0.9372205053092115\n",
      "0.9259112833668098\n"
     ]
    }
   ],
   "source": [
    "model = sklearn.svm.SVC()\n",
    "recalls = np.empty((1,0),dtype = float)\n",
    "acuracias = np.empty((1,0),dtype = float)\n",
    "precisions = np.empty((1,0),dtype = float)\n",
    "f1s = np.empty((1,0),dtype = float)\n",
    "aucs = np.empty((1,0),dtype = float)\n",
    "\n",
    "for idx_train, idx_test in kfold.split(X):\n",
    "    Xtrain = X[idx_train]\n",
    "    Xtest = X[idx_test]\n",
    "    y_train = y[idx_train]\n",
    "    y_test = y[idx_test]\n",
    "    model.fit(Xtrain,y_train)\n",
    "    y_pred = model.predict(Xtest)\n",
    "    acuracia = metrics.accuracy_score(y_test,y_pred)\n",
    "    precision = metrics.precision_score(y_test,y_pred)\n",
    "    recall = metrics.recall_score(y_test, y_pred)\n",
    "    f1 = metrics.f1_score(y_test, y_pred)\n",
    "    #Preenchimento de vetores\n",
    "    \n",
    "    recalls = np.append(recalls,recall)\n",
    "    acuracias = np.append(acuracias,acuracia)\n",
    "    precisions = np.append(precisions,precision)\n",
    "    f1s = np.append(f1s,f1)\n",
    "    auc = metrics.roc_auc_score(y_test,y_pred)\n",
    "    aucs = np.append(aucs,auc)\n",
    "\n",
    "print(np.mean(recalls))\n",
    "print(np.mean(acuracias))\n",
    "print(np.mean(precisions))\n",
    "print(np.mean(f1s))\n",
    "print(np.mean(aucs))\n"
   ]
  },
  {
   "cell_type": "code",
   "execution_count": null,
   "metadata": {},
   "outputs": [],
   "source": []
  }
 ],
 "metadata": {
  "kernelspec": {
   "display_name": "Python 3",
   "language": "python",
   "name": "python3"
  },
  "language_info": {
   "codemirror_mode": {
    "name": "ipython",
    "version": 3
   },
   "file_extension": ".py",
   "mimetype": "text/x-python",
   "name": "python",
   "nbconvert_exporter": "python",
   "pygments_lexer": "ipython3",
   "version": "3.6.4"
  }
 },
 "nbformat": 4,
 "nbformat_minor": 2
}
