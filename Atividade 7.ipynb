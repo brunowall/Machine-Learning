{
 "cells": [
  {
   "cell_type": "code",
   "execution_count": 1,
   "metadata": {},
   "outputs": [],
   "source": [
    "%matplotlib inline\n",
    "from matplotlib import pyplot as plt\n",
    "\n",
    "import sklearn\n",
    "from sklearn import datasets\n",
    "from sklearn import linear_model\n",
    "from sklearn import metrics\n",
    "import numpy as np\n",
    "from sklearn.model_selection import KFold\n",
    "from mylibs import transform\n",
    "from sklearn import neighbors\n",
    "from sklearn.naive_bayes import GaussianNB\n",
    "from sklearn import svm"
   ]
  },
  {
   "cell_type": "code",
   "execution_count": 2,
   "metadata": {},
   "outputs": [],
   "source": [
    "X,y = sklearn.datasets.load_boston(return_X_y=True)\n",
    "X = transform.standardize(X)\n",
    "kfold = KFold(n_splits=5)"
   ]
  },
  {
   "cell_type": "code",
   "execution_count": 3,
   "metadata": {
    "scrolled": true
   },
   "outputs": [
    {
     "name": "stdout",
     "output_type": "stream",
     "text": [
      "[3.53279637 5.10844425 5.75499399 8.99072043 5.79520109]\n",
      "[2.62469524 3.91244817 4.38945068 5.57366377 4.78261237]\n",
      "5.795201088167998\n",
      "4.782612366965594\n"
     ]
    }
   ],
   "source": [
    "erros_mse = np.empty((1,0),dtype = float)\n",
    "erros_mae = np.empty((1,0),dtype = float)\n",
    "\n",
    "\n",
    "for idx_train, idx_test in kfold.split(X):\n",
    "    Xtrain = X[idx_train]\n",
    "    Xtest = X[idx_test]\n",
    "    y_train = y[idx_train]\n",
    "    y_test = y[idx_test]\n",
    "    modelo = linear_model.LinearRegression()\n",
    "    modelo.fit(Xtrain,y_train)\n",
    "    y_pred = modelo.predict(Xtest)\n",
    "    erro_mse = np.sqrt(metrics.mean_squared_error(y_test,y_pred))\n",
    "    erro_mae = metrics.mean_absolute_error(y_test,y_pred)\n",
    "    erros_mse = np.append(erros_mse,erro_mse)\n",
    "    erros_mae = np.append(erros_mae,erro_mae)\n",
    "\n",
    "\n",
    "print(erros_mse)\n",
    "print(erros_mae)\n",
    "\n",
    "print(np.mean(erro_mse))\n",
    "print(np.mean(erro_mae))"
   ]
  },
  {
   "cell_type": "code",
   "execution_count": 4,
   "metadata": {
    "scrolled": true
   },
   "outputs": [
    {
     "name": "stdout",
     "output_type": "stream",
     "text": [
      "Aqui\n",
      "Aqui\n",
      "Aqui\n",
      "Aqui\n",
      "Aqui\n",
      "[3.12713369 6.25650956 5.92060226 8.68529473 7.61024062]\n",
      "[2.25236973 4.72268829 4.16940382 5.17932702 5.73482759]\n",
      "7.610240616998319\n",
      "5.734827593666171\n"
     ]
    },
    {
     "name": "stderr",
     "output_type": "stream",
     "text": [
      "/home/null/anaconda3/lib/python3.6/site-packages/sklearn/linear_model/stochastic_gradient.py:128: FutureWarning: max_iter and tol parameters have been added in <class 'sklearn.linear_model.stochastic_gradient.SGDRegressor'> in 0.19. If both are left unset, they default to max_iter=5 and tol=None. If tol is not None, max_iter defaults to max_iter=1000. From 0.21, default max_iter will be 1000, and default tol will be 1e-3.\n",
      "  \"and default tol will be 1e-3.\" % type(self), FutureWarning)\n"
     ]
    }
   ],
   "source": [
    "erros_mse = np.empty((1,0),dtype = float)\n",
    "erros_mae = np.empty((1,0),dtype = float)\n",
    "gradient = linear_model.SGDRegressor()\n",
    "\n",
    "for idx_train, idx_test in kfold.split(X):\n",
    "    print(\"Aqui\")\n",
    "    Xtrain = X[idx_train]\n",
    "    Xtest = X[idx_test]\n",
    "    y_train = y[idx_train]\n",
    "    y_test = y[idx_test]\n",
    "    gradient.fit(Xtrain,y_train)\n",
    "    y_pred = gradient.predict(Xtest)\n",
    "    erro_mse = np.sqrt(metrics.mean_squared_error(y_test,y_pred))\n",
    "    erro_mae = metrics.mean_absolute_error(y_test,y_pred)\n",
    "    erros_mse = np.append(erros_mse,erro_mse)\n",
    "    erros_mae = np.append(erros_mae,erro_mae)\n",
    "\n",
    "\n",
    "print(erros_mse)\n",
    "print(erros_mae)\n",
    "\n",
    "print(np.mean(erro_mse))\n",
    "print(np.mean(erro_mae))\n"
   ]
  },
  {
   "cell_type": "markdown",
   "metadata": {},
   "source": [
    "#### KNN"
   ]
  },
  {
   "cell_type": "code",
   "execution_count": 5,
   "metadata": {},
   "outputs": [
    {
     "name": "stdout",
     "output_type": "stream",
     "text": [
      "[3.76753937 5.80193925 5.61749953 6.80418508 4.7085286 ]\n",
      "[2.93764706 3.75623762 4.17465347 4.06851485 3.57425743]\n",
      "4.708528600758247\n",
      "3.574257425742574\n"
     ]
    }
   ],
   "source": [
    "erros_mse = np.empty((1,0),dtype = float)\n",
    "erros_mae = np.empty((1,0),dtype = float)\n",
    "knn = neighbors.KNeighborsRegressor()\n",
    "\n",
    "for idx_train, idx_test in kfold.split(X):\n",
    "    Xtrain = X[idx_train]\n",
    "    Xtest = X[idx_test]\n",
    "    y_train = y[idx_train]\n",
    "    y_test = y[idx_test]\n",
    "    knn.fit(Xtrain,y_train)\n",
    "    y_pred = knn.predict(Xtest)\n",
    "    erro_mse = np.sqrt(metrics.mean_squared_error(y_test,y_pred))\n",
    "    erro_mae = metrics.mean_absolute_error(y_test,y_pred)\n",
    "    erros_mse = np.append(erros_mse,erro_mse)\n",
    "    erros_mae = np.append(erros_mae,erro_mae)\n",
    "\n",
    "print(erros_mse)\n",
    "print(erros_mae)\n",
    "\n",
    "print(np.mean(erro_mse))\n",
    "print(np.mean(erro_mae))"
   ]
  },
  {
   "cell_type": "code",
   "execution_count": null,
   "metadata": {},
   "outputs": [],
   "source": []
  },
  {
   "cell_type": "code",
   "execution_count": 6,
   "metadata": {
    "scrolled": true
   },
   "outputs": [
    {
     "name": "stdout",
     "output_type": "stream",
     "text": [
      "[ 5.23636418  6.1821205   9.96697517 10.4351083   6.19088279]\n",
      "[4.07156863 4.63564356 6.88118812 7.10891089 4.44455446]\n",
      "6.190882788663528\n",
      "4.444554455445545\n"
     ]
    }
   ],
   "source": [
    "erros_mse = np.empty((1,0),dtype = float)\n",
    "erros_mae = np.empty((1,0),dtype = float)\n",
    "naivebayes = GaussianNB()\n",
    "\n",
    "for idx_train, idx_test in kfold.split(X):\n",
    "    Xtrain = X[idx_train]\n",
    "    Xtest = X[idx_test]\n",
    "    y_train = y[idx_train]\n",
    "    y_test = y[idx_test]\n",
    "    naivebayes.fit(Xtrain.astype(float),y_train.astype(int))\n",
    "    y_pred = naivebayes.predict(Xtest.astype(float))\n",
    "    erro_mse = np.sqrt(metrics.mean_squared_error(y_test,y_pred))\n",
    "    erro_mae = metrics.mean_absolute_error(y_test,y_pred)\n",
    "    erros_mse = np.append(erros_mse,erro_mse)\n",
    "    erros_mae = np.append(erros_mae,erro_mae)\n",
    "\n",
    "print(erros_mse)\n",
    "print(erros_mae)\n",
    "\n",
    "print(np.mean(erro_mse))\n",
    "print(np.mean(erro_mae))"
   ]
  },
  {
   "cell_type": "code",
   "execution_count": 7,
   "metadata": {
    "scrolled": true
   },
   "outputs": [
    {
     "name": "stdout",
     "output_type": "stream",
     "text": [
      "[2.89634311 6.85284779 8.85535558 7.57552989 5.70077567]\n",
      "[2.09855906 4.32743364 6.14518067 4.40433799 4.31927614]\n",
      "5.7007756662171065\n",
      "4.319276138322922\n"
     ]
    }
   ],
   "source": [
    "erros_mse = np.empty((1,0),dtype = float)\n",
    "erros_mae = np.empty((1,0),dtype = float)\n",
    "svm = svm.SVR()\n",
    "\n",
    "for idx_train, idx_test in kfold.split(X):\n",
    "    Xtrain = X[idx_train]\n",
    "    Xtest = X[idx_test]\n",
    "    y_train = y[idx_train]\n",
    "    y_test = y[idx_test]\n",
    "    svm.fit(Xtrain.astype(float),y_train.astype(int))\n",
    "    y_pred = svm.predict(Xtest.astype(float))\n",
    "    erro_mse = np.sqrt(metrics.mean_squared_error(y_test,y_pred))\n",
    "    erro_mae = metrics.mean_absolute_error(y_test,y_pred)\n",
    "    erros_mse = np.append(erros_mse,erro_mse)\n",
    "    erros_mae = np.append(erros_mae,erro_mae)\n",
    "\n",
    "print(erros_mse)\n",
    "print(erros_mae)\n",
    "\n",
    "print(np.mean(erro_mse))\n",
    "print(np.mean(erro_mae))"
   ]
  },
  {
   "cell_type": "markdown",
   "metadata": {},
   "source": [
    "#### Melhor modelo (KNN)"
   ]
  },
  {
   "cell_type": "code",
   "execution_count": 8,
   "metadata": {},
   "outputs": [
    {
     "name": "stdout",
     "output_type": "stream",
     "text": [
      "3.3672833022994464\n"
     ]
    }
   ],
   "source": [
    "knn = neighbors.KNeighborsRegressor()\n",
    "knn.fit(X,y)\n",
    "y_pred = knn.predict(X)\n",
    "\n",
    "print(np.sqrt(metrics.mean_squared_error(y,y_pred)))"
   ]
  },
  {
   "cell_type": "markdown",
   "metadata": {},
   "source": [
    "### Classificação"
   ]
  },
  {
   "cell_type": "code",
   "execution_count": 11,
   "metadata": {},
   "outputs": [],
   "source": [
    "X,y = sklearn.datasets.load_breast_cancer(return_X_y=True)\n",
    "X = transform.normalize(X)\n",
    "kfold = sklearn.model_selection.StratifiedKFold(n_splits=5)"
   ]
  },
  {
   "cell_type": "markdown",
   "metadata": {},
   "source": [
    "#### Logistic regression"
   ]
  },
  {
   "cell_type": "code",
   "execution_count": 13,
   "metadata": {},
   "outputs": [
    {
     "data": {
      "image/png": "[encoded data removed]",
      "text/plain": [
       "<matplotlib.figure.Figure at 0x7f2e8adb9630>"
      ]
     },
     "metadata": {},
     "output_type": "display_data"
    },
    {
     "name": "stdout",
     "output_type": "stream",
     "text": [
      "[[38  5]\n",
      " [ 1 71]]\n"
     ]
    },
    {
     "data": {
      "image/png": "[encoded data removed]",
      "text/plain": [
       "<matplotlib.figure.Figure at 0x7f2e8b099160>"
      ]
     },
     "metadata": {},
     "output_type": "display_data"
    },
    {
     "name": "stdout",
     "output_type": "stream",
     "text": [
      "[[39  4]\n",
      " [ 0 72]]\n"
     ]
    },
    {
     "data": {
      "image/png": "[encoded data removed]",
      "text/plain": [
       "<matplotlib.figure.Figure at 0x7f2e8affb2e8>"
      ]
     },
     "metadata": {},
     "output_type": "display_data"
    },
    {
     "name": "stdout",
     "output_type": "stream",
     "text": [
      "[[37  5]\n",
      " [ 0 71]]\n"
     ]
    },
    {
     "data": {
      "image/png": "[encoded data removed]",
      "text/plain": [
       "<matplotlib.figure.Figure at 0x7f2e8b02b4a8>"
      ]
     },
     "metadata": {},
     "output_type": "display_data"
    },
    {
     "name": "stdout",
     "output_type": "stream",
     "text": [
      "[[39  3]\n",
      " [ 1 70]]\n"
     ]
    },
    {
     "data": {
      "image/png": "[encoded data removed]",
      "text/plain": [
       "<matplotlib.figure.Figure at 0x7f2e8af3f0b8>"
      ]
     },
     "metadata": {},
     "output_type": "display_data"
    },
    {
     "name": "stdout",
     "output_type": "stream",
     "text": [
      "[[39  3]\n",
      " [ 1 70]]\n",
      "0.9915884194053209\n",
      "0.9595998460946518\n",
      "0.9467195385724585\n",
      "0.96857265428694\n",
      "0.9486735009540446\n"
     ]
    }
   ],
   "source": [
    "model = linear_model.LogisticRegression()\n",
    "recalls = np.empty((1,0),dtype = float)\n",
    "acuracias = np.empty((1,0),dtype = float)\n",
    "precisions = np.empty((1,0),dtype = float)\n",
    "f1s = np.empty((1,0),dtype = float)\n",
    "aucs = np.empty((1,0),dtype = float)\n",
    "\n",
    "for idx_train, idx_test in kfold.split(X,y):\n",
    "    Xtrain = X[idx_train]\n",
    "    Xtest = X[idx_test]\n",
    "    y_train = y[idx_train]\n",
    "    y_test = y[idx_test]\n",
    "    model.fit(Xtrain,y_train)\n",
    "    y_pred = model.predict(Xtest)\n",
    "    acuracia = metrics.accuracy_score(y_test,y_pred)\n",
    "    precision = metrics.precision_score(y_test,y_pred)\n",
    "    recall = metrics.recall_score(y_test, y_pred)\n",
    "    f1 = metrics.f1_score(y_test, y_pred)\n",
    "    recalls = np.append(recalls,recall)\n",
    "    acuracias = np.append(acuracias,acuracia)\n",
    "    precisions = np.append(precisions,precision)\n",
    "    f1s = np.append(f1s,f1)\n",
    "    auc = metrics.roc_auc_score(y_test,y_pred)\n",
    "    aucs = np.append(aucs,auc)\n",
    "    \n",
    "    \n",
    "    fpr, tpr, thr = metrics.roc_curve(y_test, y_pred)\n",
    "    roc = metrics.auc(fpr, tpr)\n",
    "    plt.figure();\n",
    "    plt.plot(fpr, tpr, color='darkorange',\n",
    "    lw=2, label='ROC curve (area = %0.2f)' % roc)\n",
    "    plt.plot([0, 1], [0, 1], color='navy', lw=2, linestyle='--')\n",
    "    plt.xlim([0.0, 1.0])\n",
    "    plt.ylim([0.0, 1.05])\n",
    "    plt.xlabel('False Positive Rate')\n",
    "    plt.ylabel('True Positive Rate')\n",
    "    plt.title('ROC Curve')\n",
    "    plt.legend(loc=\"lower right\")\n",
    "    plt.show()\n",
    "    print(metrics.confusion_matrix(y_test, y_pred, labels=np.unique(y_test)))\n",
    "\n",
    "print(np.mean(recalls))\n",
    "print(np.mean(acuracias))\n",
    "print(np.mean(precisions))\n",
    "print(np.mean(f1s))\n",
    "print(np.mean(aucs))\n",
    "\n"
   ]
  },
  {
   "cell_type": "markdown",
   "metadata": {},
   "source": [
    "### KNN"
   ]
  },
  {
   "cell_type": "code",
   "execution_count": null,
   "metadata": {},
   "outputs": [],
   "source": [
    "model = neighbors.KNeighborsClassifier()\n",
    "\n",
    "recalls = np.empty((1,0),dtype = float)\n",
    "acuracias = np.empty((1,0),dtype = float)\n",
    "precisions = np.empty((1,0),dtype = float)\n",
    "f1s = np.empty((1,0),dtype = float)\n",
    "aucs = np.empty((1,0),dtype = float)\n",
    "\n",
    "for idx_train, idx_test in kfold.split(X):\n",
    "    Xtrain = X[idx_train]\n",
    "    Xtest = X[idx_test]\n",
    "    y_train = y[idx_train]\n",
    "    y_test = y[idx_test]\n",
    "    model.fit(Xtrain,y_train)\n",
    "    y_pred = model.predict(Xtest)\n",
    "    acuracia = metrics.accuracy_score(y_test,y_pred)\n",
    "    precision = metrics.precision_score(y_test,y_pred)\n",
    "    recall = metrics.recall_score(y_test, y_pred)\n",
    "    f1 = metrics.f1_score(y_test, y_pred)\n",
    "    #Preenchimento de vetores\n",
    "    recalls = np.append(recalls,recall)\n",
    "    acuracias = np.append(acuracias,acuracia)\n",
    "    precisions = np.append(precisions,precision)\n",
    "    f1s = np.append(f1s,f1)\n",
    "    auc = metrics.roc_auc_score(y_test,y_pred)\n",
    "    aucs = np.append(aucs,auc)\n",
    "    \n",
    "    fpr, tpr, thr = metrics.roc_curve(y_test, y_pred)\n",
    "    roc = metrics.auc(fpr, tpr)\n",
    "    plt.figure();\n",
    "    plt.plot(fpr, tpr, color='darkorange',\n",
    "    lw=2, label='ROC curve (area = %0.2f)' % roc)\n",
    "    plt.plot([0, 1], [0, 1], color='navy', lw=2, linestyle='--')\n",
    "    plt.xlim([0.0, 1.0])\n",
    "    plt.ylim([0.0, 1.05])\n",
    "    plt.xlabel('False Positive Rate')\n",
    "    plt.ylabel('True Positive Rate')\n",
    "    plt.title('ROC Curve')\n",
    "    plt.legend(loc=\"lower right\")\n",
    "    plt.show()\n",
    "    print(metrics.confusion_matrix(y_test, y_pred, labels=np.unique(y_test)))\n",
    "    \n",
    "print(np.mean(recalls))\n",
    "print(np.mean(acuracias))\n",
    "print(np.mean(precisions))\n",
    "print(np.mean(f1s))\n",
    "print(np.mean(aucs))\n"
   ]
  },
  {
   "cell_type": "markdown",
   "metadata": {},
   "source": [
    "### Naive bayes"
   ]
  },
  {
   "cell_type": "code",
   "execution_count": null,
   "metadata": {},
   "outputs": [],
   "source": [
    "model = GaussianNB()\n",
    "recalls = np.empty((1,0),dtype = float)\n",
    "acuracias = np.empty((1,0),dtype = float)\n",
    "precisions = np.empty((1,0),dtype = float)\n",
    "f1s = np.empty((1,0),dtype = float)\n",
    "aucs = np.empty((1,0),dtype = float)\n",
    "\n",
    "for idx_train, idx_test in kfold.split(X):\n",
    "    Xtrain = X[idx_train]\n",
    "    Xtest = X[idx_test]\n",
    "    y_train = y[idx_train]\n",
    "    y_test = y[idx_test]\n",
    "    model.fit(Xtrain,y_train)\n",
    "    y_pred = model.predict(Xtest)\n",
    "    acuracia = metrics.accuracy_score(y_test,y_pred)\n",
    "    precision = metrics.precision_score(y_test,y_pred)\n",
    "    recall = metrics.recall_score(y_test, y_pred)\n",
    "    f1 = metrics.f1_score(y_test, y_pred)\n",
    "    #Preenchimento de vetores\n",
    "    recalls = np.append(recalls,recall)\n",
    "    acuracias = np.append(acuracias,acuracia)\n",
    "    precisions = np.append(precisions,precision)\n",
    "    f1s = np.append(f1s,f1)\n",
    "    auc = metrics.roc_auc_score(y_test,y_pred)\n",
    "    aucs = np.append(aucs,auc)\n",
    "\n",
    "    fpr, tpr, thr = metrics.roc_curve(y_test, y_pred)\n",
    "    roc = metrics.auc(fpr, tpr)\n",
    "    plt.figure();\n",
    "    plt.plot(fpr, tpr, color='darkorange',\n",
    "    lw=2, label='ROC curve (area = %0.2f)' % roc)\n",
    "    plt.plot([0, 1], [0, 1], color='navy', lw=2, linestyle='--')\n",
    "    plt.xlim([0.0, 1.0])\n",
    "    plt.ylim([0.0, 1.05])\n",
    "    plt.xlabel('False Positive Rate')\n",
    "    plt.ylabel('True Positive Rate')\n",
    "    plt.title('ROC Curve')\n",
    "    plt.legend(loc=\"lower right\")\n",
    "    plt.show()\n",
    "    print(metrics.confusion_matrix(y_test, y_pred, labels=np.unique(y_test)))\n",
    "\n",
    "print(np.mean(recalls))\n",
    "print(np.mean(acuracias))\n",
    "print(np.mean(precisions))\n",
    "print(np.mean(f1s))\n",
    "print(np.mean(aucs))\n"
   ]
  },
  {
   "cell_type": "markdown",
   "metadata": {},
   "source": [
    "### SVM"
   ]
  },
  {
   "cell_type": "code",
   "execution_count": 23,
   "metadata": {
    "scrolled": true
   },
   "outputs": [
    {
     "name": "stdout",
     "output_type": "stream",
     "text": [
      "[[37  6]\n",
      " [ 1 71]]\n",
      "[[35  8]\n",
      " [ 0 72]]\n",
      "[[37  5]\n",
      " [ 0 71]]\n",
      "[[37  5]\n",
      " [ 0 71]]\n",
      "[[39  3]\n",
      " [ 0 71]]\n",
      "0.6351052048726468\n"
     ]
    },
    {
     "data": {
      "image/png": "[encoded data removed]",
      "text/plain": [
       "<matplotlib.figure.Figure at 0x7f2e8a865dd8>"
      ]
     },
     "metadata": {},
     "output_type": "display_data"
    },
    {
     "name": "stdout",
     "output_type": "stream",
     "text": [
      "0.9972222222222221\n",
      "0.9509041939207388\n",
      "0.9299916868337921\n",
      "0.9623343378448105\n",
      "0.9351005906238464\n"
     ]
    }
   ],
   "source": [
    "model = sklearn.svm.SVC()\n",
    "recalls = np.empty((1,0),dtype = float)\n",
    "acuracias = np.empty((1,0),dtype = float)\n",
    "precisions = np.empty((1,0),dtype = float)\n",
    "f1s = np.empty((1,0),dtype = float)\n",
    "aucs = np.empty((1,0),dtype = float)\n",
    "fprs =  np.empty((1,0),dtype = float)\n",
    "tprs = np.empty((1,0),dtype = float)\n",
    "rocs = np.empty((1,0),dtype = float)\n",
    "for idx_train, idx_test in kfold.split(X,y):\n",
    "    Xtrain = X[idx_train]\n",
    "    Xtest = X[idx_test]\n",
    "    y_train = y[idx_train]\n",
    "    y_test = y[idx_test]\n",
    "    model.fit(Xtrain,y_train)\n",
    "    y_pred = model.predict(Xtest)\n",
    "    acuracia = metrics.accuracy_score(y_test,y_pred)\n",
    "    precision = metrics.precision_score(y_test,y_pred)\n",
    "    recall = metrics.recall_score(y_test, y_pred)\n",
    "    f1 = metrics.f1_score(y_test, y_pred)\n",
    "   \n",
    "    fpr, tpr, thr = metrics.roc_curve(y_test, y_pred)\n",
    "    fprs = np.append(fprs,fpr[1])\n",
    "    tprs= np.append(tprs,tpr[1])\n",
    "    roc = metrics.auc(fpr, tpr)\n",
    "    rocs = np.append(rocs,roc)\n",
    "    #Preenchimento de vetores\n",
    "    recalls = np.append(recalls,recall)\n",
    "    acuracias = np.append(acuracias,acuracia)\n",
    "    precisions = np.append(precisions,precision)\n",
    "    f1s = np.append(f1s,f1)\n",
    "    auc = metrics.roc_auc_score(y_test,y_pred)\n",
    "    aucs = np.append(aucs,auc)\n",
    "    \n",
    "    print(metrics.confusion_matrix(y_test, y_pred, labels=np.unique(y_test)))\n",
    "    \n",
    "    \n",
    "    \n",
    "plt.figure();\n",
    "print(np.sum(fprs))\n",
    "plt.plot([0,np.mean(fprs),1], [0,np.mean(tprs),1], color='darkorange',lw=2, label='ROC curve (area = %0.2f)' % np.mean(rocs))\n",
    "plt.plot([0, 1], [0, 1], color='navy', lw=2, linestyle='--')\n",
    "plt.xlim([0.0, 1.0])\n",
    "plt.ylim([0.0, 1.05])\n",
    "plt.xlabel('False Positive Rate')\n",
    "plt.ylabel('True Positive Rate')\n",
    "plt.title('ROC Curve')\n",
    "plt.legend(loc=\"lower right\")\n",
    "plt.show()\n",
    "    \n",
    "print(np.mean(recalls))\n",
    "print(np.mean(acuracias))\n",
    "print(np.mean(precisions))\n",
    "print(np.mean(f1s))\n",
    "print(np.mean(aucs))"
   ]
  },
  {
   "cell_type": "markdown",
   "metadata": {},
   "source": [
    "##### Melhor modelo"
   ]
  },
  {
   "cell_type": "code",
   "execution_count": null,
   "metadata": {
    "scrolled": true
   },
   "outputs": [],
   "source": [
    "model = neighbors.KNeighborsClassifier()\n",
    "model.fit(X,y)\n",
    "y_pred = model.predict(X)\n",
    "print(metrics.accuracy_score(y,y_pred))"
   ]
  }
 ],
 "metadata": {
  "kernelspec": {
   "display_name": "Python 3",
   "language": "python",
   "name": "python3"
  },
  "language_info": {
   "codemirror_mode": {
    "name": "ipython",
    "version": 3
   },
   "file_extension": ".py",
   "mimetype": "text/x-python",
   "name": "python",
   "nbconvert_exporter": "python",
   "pygments_lexer": "ipython3",
   "version": "3.6.4"
  }
 },
 "nbformat": 4,
 "nbformat_minor": 2
}
