{
 "cells": [
  {
   "cell_type": "markdown",
   "metadata": {},
   "source": [
    "## Atividade 02  - Aprendizado de máquina"
   ]
  },
  {
   "cell_type": "code",
   "execution_count": 199,
   "metadata": {},
   "outputs": [],
   "source": [
    "%matplotlib inline\n",
    "import numpy as np\n",
    "from matplotlib import pyplot as plt\n",
    "from sklearn import linear_model"
   ]
  },
  {
   "cell_type": "markdown",
   "metadata": {},
   "source": [
    "#### Questão 1"
   ]
  },
  {
   "cell_type": "code",
   "execution_count": 200,
   "metadata": {
    "scrolled": true
   },
   "outputs": [
    {
     "name": "stdout",
     "output_type": "stream",
     "text": [
      "3.0\n"
     ]
    },
    {
     "data": {
      "text/plain": [
       "2.0"
      ]
     },
     "execution_count": 200,
     "metadata": {},
     "output_type": "execute_result"
    }
   ],
   "source": [
    "X1 = np.array([3, 4, 1, 0, 1, 5, 5, 6, 1,4])\n",
    "print (np.mean(X1))\n",
    "\n",
    "np.std(X1)"
   ]
  },
  {
   "cell_type": "markdown",
   "metadata": {},
   "source": [
    "#### Questão 2"
   ]
  },
  {
   "cell_type": "code",
   "execution_count": 201,
   "metadata": {
    "scrolled": true
   },
   "outputs": [
    {
     "name": "stdout",
     "output_type": "stream",
     "text": [
      "10.07185471031815\n",
      "60.11340581131584\n"
     ]
    },
    {
     "data": {
      "text/plain": [
       "(array([ 1.,  0.,  0.,  0.,  0.,  0.,  0.,  0.,  0.,  0.,  0.,  0.,  0.,\n",
       "         0.,  0.,  0.,  0.,  0.,  0.,  0.,  0.,  1.,  0.,  0.,  1.,  0.,\n",
       "         1.,  0.,  0.,  1.,  0.,  0.,  1.,  2.,  0.,  1.,  0.,  1.,  3.,\n",
       "         0.,  0.,  0.,  1.,  0.,  1.,  2.,  0.,  0.,  2.,  0.,  1.,  0.,\n",
       "         0.,  1.,  0.,  0.,  0.,  2.,  1.,  3.,  1.,  0.,  1.,  0.,  0.,\n",
       "         1.,  2.,  1.,  1.,  1.,  2.,  2.,  2.,  4.,  2.,  3.,  1.,  1.,\n",
       "         1.,  3.,  0.,  3.,  3.,  2.,  3.,  0.,  3.,  2.,  1.,  4.,  2.,\n",
       "         1.,  7.,  2.,  4.,  4.,  4.,  4.,  0.,  3.,  2.,  1.,  3.,  5.,\n",
       "         2.,  2.,  3.,  4.,  5.,  3.,  3.,  2.,  2.,  5.,  6.,  2.,  2.,\n",
       "         6.,  4.,  6.,  5.,  6.,  4.,  3.,  3.,  4., 10.,  6.,  7.,  6.,\n",
       "         4.,  4.,  9.,  9., 11.,  6., 11.,  4.,  9., 19., 11., 13.,  3.,\n",
       "        11., 12., 13., 10.,  7., 12., 10., 15.,  7.,  8., 16., 20.,  8.,\n",
       "        16.,  7.,  8., 14., 15., 15., 17., 14., 11., 13., 10., 29., 17.,\n",
       "        16., 26., 10., 16., 20., 12., 15., 25., 12., 13., 24., 15., 21.,\n",
       "        16., 24., 26., 23., 23., 23., 13., 20., 18., 24., 27., 24., 24.,\n",
       "        21., 18., 18., 24., 22., 27., 32., 25., 35., 22., 29., 39., 31.,\n",
       "        29., 25., 17., 25., 24., 29., 26., 32., 21., 22., 25., 25., 23.,\n",
       "        36., 30., 35., 25., 26., 35., 26., 27., 31., 28., 25., 26., 27.,\n",
       "        33., 28., 16., 31., 25., 23., 31., 28., 28., 34., 36., 40., 23.,\n",
       "        18., 26., 34., 28., 19., 33., 25., 26., 33., 22., 35., 24., 30.,\n",
       "        29., 31., 32., 34., 24., 23., 34., 26., 37., 23., 26., 28., 27.,\n",
       "        28., 25., 23., 20., 31., 29., 22., 15., 27., 17., 26., 27., 25.,\n",
       "        24., 23., 22., 26., 24., 20., 27., 20., 13., 21., 17., 32., 22.,\n",
       "        16., 30., 20., 14., 23., 13., 16., 25., 21., 16., 17., 18., 16.,\n",
       "        18., 17., 16., 18., 14., 15., 17., 19., 21.,  8., 12., 22., 17.,\n",
       "        11., 17., 14., 12., 11., 15., 10., 19., 13., 10., 10., 11.,  7.,\n",
       "         7., 12., 12., 10.,  8., 13., 11., 12., 10.,  7.,  9.,  9., 12.,\n",
       "        12., 10.,  5.,  9.,  9.,  9.,  9.,  7.,  5.,  8.,  5.,  7.,  9.,\n",
       "         5.,  7.,  3.,  7., 13.,  8.,  3.,  4.,  5.,  3.,  6.,  3.,  6.,\n",
       "         7.,  6.,  2.,  3.,  2.,  4.,  2.,  2.,  5.,  5.,  1.,  0.,  4.,\n",
       "         2.,  3.,  1.,  1.,  3.,  3.,  5.,  2.,  6.,  2.,  0.,  2.,  3.,\n",
       "         6.,  2.,  2.,  1.,  4.,  3.,  3.,  2.,  3.,  1.,  2.,  0.,  0.,\n",
       "         2.,  1.,  0.,  3.,  0.,  2.,  1.,  0.,  1.,  0.,  0.,  1.,  1.,\n",
       "         1.,  1.,  2.,  0.,  0.,  0.,  0.,  1.,  0.,  2.,  0.,  0.,  1.,\n",
       "         0.,  0.,  1.,  0.,  0.,  0.,  0.,  1.,  0.,  0.,  1.,  0.,  0.,\n",
       "         0.,  0.,  0.,  0.,  0.,  0.,  0.,  0.,  0.,  0.,  0.,  0.,  1.,\n",
       "         0.,  0.,  0.,  0.,  0.,  0.,  0.,  0.,  0.,  0.,  0.,  0.,  0.,\n",
       "         0.,  1.,  0.,  0.,  0.,  1.,  0.,  0.,  0.,  0.,  0.,  0.,  0.,\n",
       "         0.,  0.,  0.,  0.,  0.,  1.]),\n",
       " array([24.50709846, 24.65308782, 24.79907718, 24.94506654, 25.0910559 ,\n",
       "        25.23704526, 25.38303462, 25.52902398, 25.67501334, 25.8210027 ,\n",
       "        25.96699205, 26.11298141, 26.25897077, 26.40496013, 26.55094949,\n",
       "        26.69693885, 26.84292821, 26.98891757, 27.13490693, 27.28089629,\n",
       "        27.42688565, 27.57287501, 27.71886437, 27.86485373, 28.01084309,\n",
       "        28.15683245, 28.30282181, 28.44881117, 28.59480053, 28.74078989,\n",
       "        28.88677925, 29.0327686 , 29.17875796, 29.32474732, 29.47073668,\n",
       "        29.61672604, 29.7627154 , 29.90870476, 30.05469412, 30.20068348,\n",
       "        30.34667284, 30.4926622 , 30.63865156, 30.78464092, 30.93063028,\n",
       "        31.07661964, 31.222609  , 31.36859836, 31.51458772, 31.66057708,\n",
       "        31.80656644, 31.9525558 , 32.09854515, 32.24453451, 32.39052387,\n",
       "        32.53651323, 32.68250259, 32.82849195, 32.97448131, 33.12047067,\n",
       "        33.26646003, 33.41244939, 33.55843875, 33.70442811, 33.85041747,\n",
       "        33.99640683, 34.14239619, 34.28838555, 34.43437491, 34.58036427,\n",
       "        34.72635363, 34.87234299, 35.01833235, 35.16432171, 35.31031106,\n",
       "        35.45630042, 35.60228978, 35.74827914, 35.8942685 , 36.04025786,\n",
       "        36.18624722, 36.33223658, 36.47822594, 36.6242153 , 36.77020466,\n",
       "        36.91619402, 37.06218338, 37.20817274, 37.3541621 , 37.50015146,\n",
       "        37.64614082, 37.79213018, 37.93811954, 38.0841089 , 38.23009826,\n",
       "        38.37608761, 38.52207697, 38.66806633, 38.81405569, 38.96004505,\n",
       "        39.10603441, 39.25202377, 39.39801313, 39.54400249, 39.68999185,\n",
       "        39.83598121, 39.98197057, 40.12795993, 40.27394929, 40.41993865,\n",
       "        40.56592801, 40.71191737, 40.85790673, 41.00389609, 41.14988545,\n",
       "        41.29587481, 41.44186416, 41.58785352, 41.73384288, 41.87983224,\n",
       "        42.0258216 , 42.17181096, 42.31780032, 42.46378968, 42.60977904,\n",
       "        42.7557684 , 42.90175776, 43.04774712, 43.19373648, 43.33972584,\n",
       "        43.4857152 , 43.63170456, 43.77769392, 43.92368328, 44.06967264,\n",
       "        44.215662  , 44.36165136, 44.50764071, 44.65363007, 44.79961943,\n",
       "        44.94560879, 45.09159815, 45.23758751, 45.38357687, 45.52956623,\n",
       "        45.67555559, 45.82154495, 45.96753431, 46.11352367, 46.25951303,\n",
       "        46.40550239, 46.55149175, 46.69748111, 46.84347047, 46.98945983,\n",
       "        47.13544919, 47.28143855, 47.42742791, 47.57341727, 47.71940662,\n",
       "        47.86539598, 48.01138534, 48.1573747 , 48.30336406, 48.44935342,\n",
       "        48.59534278, 48.74133214, 48.8873215 , 49.03331086, 49.17930022,\n",
       "        49.32528958, 49.47127894, 49.6172683 , 49.76325766, 49.90924702,\n",
       "        50.05523638, 50.20122574, 50.3472151 , 50.49320446, 50.63919382,\n",
       "        50.78518317, 50.93117253, 51.07716189, 51.22315125, 51.36914061,\n",
       "        51.51512997, 51.66111933, 51.80710869, 51.95309805, 52.09908741,\n",
       "        52.24507677, 52.39106613, 52.53705549, 52.68304485, 52.82903421,\n",
       "        52.97502357, 53.12101293, 53.26700229, 53.41299165, 53.55898101,\n",
       "        53.70497037, 53.85095972, 53.99694908, 54.14293844, 54.2889278 ,\n",
       "        54.43491716, 54.58090652, 54.72689588, 54.87288524, 55.0188746 ,\n",
       "        55.16486396, 55.31085332, 55.45684268, 55.60283204, 55.7488214 ,\n",
       "        55.89481076, 56.04080012, 56.18678948, 56.33277884, 56.4787682 ,\n",
       "        56.62475756, 56.77074692, 56.91673627, 57.06272563, 57.20871499,\n",
       "        57.35470435, 57.50069371, 57.64668307, 57.79267243, 57.93866179,\n",
       "        58.08465115, 58.23064051, 58.37662987, 58.52261923, 58.66860859,\n",
       "        58.81459795, 58.96058731, 59.10657667, 59.25256603, 59.39855539,\n",
       "        59.54454475, 59.69053411, 59.83652347, 59.98251283, 60.12850218,\n",
       "        60.27449154, 60.4204809 , 60.56647026, 60.71245962, 60.85844898,\n",
       "        61.00443834, 61.1504277 , 61.29641706, 61.44240642, 61.58839578,\n",
       "        61.73438514, 61.8803745 , 62.02636386, 62.17235322, 62.31834258,\n",
       "        62.46433194, 62.6103213 , 62.75631066, 62.90230002, 63.04828938,\n",
       "        63.19427873, 63.34026809, 63.48625745, 63.63224681, 63.77823617,\n",
       "        63.92422553, 64.07021489, 64.21620425, 64.36219361, 64.50818297,\n",
       "        64.65417233, 64.80016169, 64.94615105, 65.09214041, 65.23812977,\n",
       "        65.38411913, 65.53010849, 65.67609785, 65.82208721, 65.96807657,\n",
       "        66.11406593, 66.26005528, 66.40604464, 66.552034  , 66.69802336,\n",
       "        66.84401272, 66.99000208, 67.13599144, 67.2819808 , 67.42797016,\n",
       "        67.57395952, 67.71994888, 67.86593824, 68.0119276 , 68.15791696,\n",
       "        68.30390632, 68.44989568, 68.59588504, 68.7418744 , 68.88786376,\n",
       "        69.03385312, 69.17984248, 69.32583183, 69.47182119, 69.61781055,\n",
       "        69.76379991, 69.90978927, 70.05577863, 70.20176799, 70.34775735,\n",
       "        70.49374671, 70.63973607, 70.78572543, 70.93171479, 71.07770415,\n",
       "        71.22369351, 71.36968287, 71.51567223, 71.66166159, 71.80765095,\n",
       "        71.95364031, 72.09962967, 72.24561903, 72.39160838, 72.53759774,\n",
       "        72.6835871 , 72.82957646, 72.97556582, 73.12155518, 73.26754454,\n",
       "        73.4135339 , 73.55952326, 73.70551262, 73.85150198, 73.99749134,\n",
       "        74.1434807 , 74.28947006, 74.43545942, 74.58144878, 74.72743814,\n",
       "        74.8734275 , 75.01941686, 75.16540622, 75.31139558, 75.45738494,\n",
       "        75.60337429, 75.74936365, 75.89535301, 76.04134237, 76.18733173,\n",
       "        76.33332109, 76.47931045, 76.62529981, 76.77128917, 76.91727853,\n",
       "        77.06326789, 77.20925725, 77.35524661, 77.50123597, 77.64722533,\n",
       "        77.79321469, 77.93920405, 78.08519341, 78.23118277, 78.37717213,\n",
       "        78.52316149, 78.66915084, 78.8151402 , 78.96112956, 79.10711892,\n",
       "        79.25310828, 79.39909764, 79.545087  , 79.69107636, 79.83706572,\n",
       "        79.98305508, 80.12904444, 80.2750338 , 80.42102316, 80.56701252,\n",
       "        80.71300188, 80.85899124, 81.0049806 , 81.15096996, 81.29695932,\n",
       "        81.44294868, 81.58893804, 81.73492739, 81.88091675, 82.02690611,\n",
       "        82.17289547, 82.31888483, 82.46487419, 82.61086355, 82.75685291,\n",
       "        82.90284227, 83.04883163, 83.19482099, 83.34081035, 83.48679971,\n",
       "        83.63278907, 83.77877843, 83.92476779, 84.07075715, 84.21674651,\n",
       "        84.36273587, 84.50872523, 84.65471459, 84.80070394, 84.9466933 ,\n",
       "        85.09268266, 85.23867202, 85.38466138, 85.53065074, 85.6766401 ,\n",
       "        85.82262946, 85.96861882, 86.11460818, 86.26059754, 86.4065869 ,\n",
       "        86.55257626, 86.69856562, 86.84455498, 86.99054434, 87.1365337 ,\n",
       "        87.28252306, 87.42851242, 87.57450178, 87.72049114, 87.8664805 ,\n",
       "        88.01246985, 88.15845921, 88.30444857, 88.45043793, 88.59642729,\n",
       "        88.74241665, 88.88840601, 89.03439537, 89.18038473, 89.32637409,\n",
       "        89.47236345, 89.61835281, 89.76434217, 89.91033153, 90.05632089,\n",
       "        90.20231025, 90.34829961, 90.49428897, 90.64027833, 90.78626769,\n",
       "        90.93225705, 91.0782464 , 91.22423576, 91.37022512, 91.51621448,\n",
       "        91.66220384, 91.8081932 , 91.95418256, 92.10017192, 92.24616128,\n",
       "        92.39215064, 92.53814   , 92.68412936, 92.83011872, 92.97610808,\n",
       "        93.12209744, 93.2680868 , 93.41407616, 93.56006552, 93.70605488,\n",
       "        93.85204424, 93.9980336 , 94.14402295, 94.29001231, 94.43600167,\n",
       "        94.58199103, 94.72798039, 94.87396975, 95.01995911, 95.16594847,\n",
       "        95.31193783, 95.45792719, 95.60391655, 95.74990591, 95.89589527,\n",
       "        96.04188463, 96.18787399, 96.33386335, 96.47985271, 96.62584207,\n",
       "        96.77183143, 96.91782079, 97.06381015, 97.2097995 , 97.35578886,\n",
       "        97.50177822]),\n",
       " <a list of 500 Patch objects>)"
      ]
     },
     "execution_count": 201,
     "metadata": {},
     "output_type": "execute_result"
    },
    {
     "data": {
      "image/png": "[encoded data removed]",
      "text/plain": [
       "<matplotlib.figure.Figure at 0x7fd718cf2b00>"
      ]
     },
     "metadata": {},
     "output_type": "display_data"
    }
   ],
   "source": [
    "d = np.random.normal(size=5000,loc=60.0,scale = 10.0)\n",
    "print (np.std(d))\n",
    "print (np.mean(d))\n",
    "plt.hist(d,500)"
   ]
  },
  {
   "cell_type": "markdown",
   "metadata": {},
   "source": [
    "#### Questão 3"
   ]
  },
  {
   "cell_type": "markdown",
   "metadata": {},
   "source": [
    "#### distribuição uniforme"
   ]
  },
  {
   "cell_type": "code",
   "execution_count": 204,
   "metadata": {
    "scrolled": false
   },
   "outputs": [
    {
     "data": {
      "text/plain": [
       "(array([16., 10.,  7., 13., 11., 10., 12.,  7., 12., 12., 12., 15., 10.,\n",
       "         9.,  8.,  7., 11.,  5., 10., 10., 11., 13., 18., 10.,  9.,  8.,\n",
       "         2.,  7., 12., 12.,  7., 14., 11., 13., 10.,  7.,  6.,  7., 11.,\n",
       "         9., 11., 10., 15., 11., 10., 13., 13., 13.,  7., 11., 17.,  8.,\n",
       "         8.,  7., 10., 12., 11., 11.,  6., 11.,  9.,  9.,  6., 13., 11.,\n",
       "        13.,  8., 14.,  5.,  7., 14., 13.,  5., 11., 10., 11.,  9., 12.,\n",
       "         6., 10., 14.,  7., 12., 12.,  8., 15.,  7.,  4., 10., 11., 13.,\n",
       "        11., 11., 11., 11., 10., 11., 13., 10., 13., 10.,  4., 10., 13.,\n",
       "        15., 12., 10., 15.,  9., 15., 15.,  9.,  6., 12., 11., 10.,  6.,\n",
       "        11.,  6., 13., 13., 12.,  9.,  6., 14.,  9.,  7.,  9., 11.,  8.,\n",
       "        12., 10.,  4.,  9., 12., 11.,  6., 14.,  9.,  9.,  6.,  8., 10.,\n",
       "        11.,  7.,  4., 10.,  7.,  5., 14.,  9., 11., 12.,  7.,  8., 11.,\n",
       "         9.,  2.,  9.,  9., 12.,  8., 18.,  7.,  6., 11.,  8.,  7., 14.,\n",
       "         9.,  5.,  9., 13.,  8., 12., 16.,  7.,  8., 10.,  9., 12., 10.,\n",
       "         6., 10., 11.,  9., 11., 10.,  6., 14.,  4., 12.,  5., 10., 11.,\n",
       "        12., 12., 15.,  9.,  7., 12.,  5., 11., 12.,  4., 10.,  4.,  7.,\n",
       "        13.,  8.,  8.,  8.,  9., 12., 10., 12., 16., 13., 12.,  6., 12.,\n",
       "        12., 11., 16., 17., 13., 16., 10., 16., 11.,  4., 10., 14., 10.,\n",
       "        13.,  6., 12.,  8.,  4.,  6.,  8.,  9.,  7.,  8.,  9.,  8., 11.,\n",
       "         8., 14., 11.,  9.,  7., 11.,  9., 15.,  6.,  7., 15., 13., 11.,\n",
       "         8., 10., 10.,  5., 19.,  8.,  9., 10.,  8., 10., 10., 12., 14.,\n",
       "        13.,  8.,  7., 10., 12., 16.,  8., 13.,  7.,  7., 13., 10.,  2.,\n",
       "         8., 22., 13., 10., 13., 10., 11., 12.,  8., 10.,  9.,  9., 14.,\n",
       "        11.,  8., 11., 10., 11.,  7., 11., 10.,  5., 13., 12., 12.,  7.,\n",
       "         8., 11., 10., 12., 13., 11., 13., 14.,  9., 10., 13., 11., 12.,\n",
       "         8.,  4., 16., 10., 17., 11., 11.,  6., 13., 14., 10.,  6., 13.,\n",
       "         6., 10.,  9., 11.,  8.,  9.,  9., 12.,  7.,  6., 11.,  7.,  9.,\n",
       "        13., 13., 10.,  6.,  7.,  7., 14., 14.,  9., 13., 11., 14., 11.,\n",
       "        12.,  6., 11.,  7., 12.,  7.,  8., 10.,  9.,  8., 13., 13., 13.,\n",
       "         3.,  8., 13., 15.,  9.,  9., 13.,  9.,  8.,  5., 13.,  5., 12.,\n",
       "         8.,  5., 14., 14., 14.,  9.,  6., 10.,  6.,  9., 18.,  7., 16.,\n",
       "        12., 13., 12.,  6., 13., 12.,  8.,  4.,  8.,  6., 10., 11.,  7.,\n",
       "        14.,  6.,  8.,  5., 11.,  8.,  9.,  6., 15., 14.,  7., 10.,  8.,\n",
       "        11.,  9., 10.,  5.,  5., 11., 12.,  6., 12., 10.,  7.,  8., 10.,\n",
       "        13., 12.,  7.,  9.,  5., 11., 14., 13., 10.,  8.,  5.,  8., 11.,\n",
       "        19.,  7., 14.,  8.,  6.,  4.,  6.,  7., 12., 18.,  8., 13., 16.,\n",
       "        10., 12., 12.,  7.,  9.,  9., 10., 11.,  4., 11., 14.,  9.,  4.,\n",
       "        11.,  9.,  9., 11., 10.,  8.,  4., 11.,  9.,  8.,  8., 13.,  6.,\n",
       "        16.,  9., 16.,  6., 10., 10.]),\n",
       " array([2.73118166e-04, 2.27210834e-03, 4.27109851e-03, 6.27008869e-03,\n",
       "        8.26907886e-03, 1.02680690e-02, 1.22670592e-02, 1.42660494e-02,\n",
       "        1.62650396e-02, 1.82640297e-02, 2.02630199e-02, 2.22620101e-02,\n",
       "        2.42610003e-02, 2.62599904e-02, 2.82589806e-02, 3.02579708e-02,\n",
       "        3.22569610e-02, 3.42559511e-02, 3.62549413e-02, 3.82539315e-02,\n",
       "        4.02529217e-02, 4.22519118e-02, 4.42509020e-02, 4.62498922e-02,\n",
       "        4.82488824e-02, 5.02478725e-02, 5.22468627e-02, 5.42458529e-02,\n",
       "        5.62448431e-02, 5.82438332e-02, 6.02428234e-02, 6.22418136e-02,\n",
       "        6.42408038e-02, 6.62397939e-02, 6.82387841e-02, 7.02377743e-02,\n",
       "        7.22367645e-02, 7.42357546e-02, 7.62347448e-02, 7.82337350e-02,\n",
       "        8.02327252e-02, 8.22317153e-02, 8.42307055e-02, 8.62296957e-02,\n",
       "        8.82286858e-02, 9.02276760e-02, 9.22266662e-02, 9.42256564e-02,\n",
       "        9.62246465e-02, 9.82236367e-02, 1.00222627e-01, 1.02221617e-01,\n",
       "        1.04220607e-01, 1.06219597e-01, 1.08218588e-01, 1.10217578e-01,\n",
       "        1.12216568e-01, 1.14215558e-01, 1.16214548e-01, 1.18213538e-01,\n",
       "        1.20212529e-01, 1.22211519e-01, 1.24210509e-01, 1.26209499e-01,\n",
       "        1.28208489e-01, 1.30207480e-01, 1.32206470e-01, 1.34205460e-01,\n",
       "        1.36204450e-01, 1.38203440e-01, 1.40202430e-01, 1.42201421e-01,\n",
       "        1.44200411e-01, 1.46199401e-01, 1.48198391e-01, 1.50197381e-01,\n",
       "        1.52196371e-01, 1.54195362e-01, 1.56194352e-01, 1.58193342e-01,\n",
       "        1.60192332e-01, 1.62191322e-01, 1.64190312e-01, 1.66189303e-01,\n",
       "        1.68188293e-01, 1.70187283e-01, 1.72186273e-01, 1.74185263e-01,\n",
       "        1.76184254e-01, 1.78183244e-01, 1.80182234e-01, 1.82181224e-01,\n",
       "        1.84180214e-01, 1.86179204e-01, 1.88178195e-01, 1.90177185e-01,\n",
       "        1.92176175e-01, 1.94175165e-01, 1.96174155e-01, 1.98173145e-01,\n",
       "        2.00172136e-01, 2.02171126e-01, 2.04170116e-01, 2.06169106e-01,\n",
       "        2.08168096e-01, 2.10167087e-01, 2.12166077e-01, 2.14165067e-01,\n",
       "        2.16164057e-01, 2.18163047e-01, 2.20162037e-01, 2.22161028e-01,\n",
       "        2.24160018e-01, 2.26159008e-01, 2.28157998e-01, 2.30156988e-01,\n",
       "        2.32155978e-01, 2.34154969e-01, 2.36153959e-01, 2.38152949e-01,\n",
       "        2.40151939e-01, 2.42150929e-01, 2.44149919e-01, 2.46148910e-01,\n",
       "        2.48147900e-01, 2.50146890e-01, 2.52145880e-01, 2.54144870e-01,\n",
       "        2.56143861e-01, 2.58142851e-01, 2.60141841e-01, 2.62140831e-01,\n",
       "        2.64139821e-01, 2.66138811e-01, 2.68137802e-01, 2.70136792e-01,\n",
       "        2.72135782e-01, 2.74134772e-01, 2.76133762e-01, 2.78132752e-01,\n",
       "        2.80131743e-01, 2.82130733e-01, 2.84129723e-01, 2.86128713e-01,\n",
       "        2.88127703e-01, 2.90126693e-01, 2.92125684e-01, 2.94124674e-01,\n",
       "        2.96123664e-01, 2.98122654e-01, 3.00121644e-01, 3.02120635e-01,\n",
       "        3.04119625e-01, 3.06118615e-01, 3.08117605e-01, 3.10116595e-01,\n",
       "        3.12115585e-01, 3.14114576e-01, 3.16113566e-01, 3.18112556e-01,\n",
       "        3.20111546e-01, 3.22110536e-01, 3.24109526e-01, 3.26108517e-01,\n",
       "        3.28107507e-01, 3.30106497e-01, 3.32105487e-01, 3.34104477e-01,\n",
       "        3.36103468e-01, 3.38102458e-01, 3.40101448e-01, 3.42100438e-01,\n",
       "        3.44099428e-01, 3.46098418e-01, 3.48097409e-01, 3.50096399e-01,\n",
       "        3.52095389e-01, 3.54094379e-01, 3.56093369e-01, 3.58092359e-01,\n",
       "        3.60091350e-01, 3.62090340e-01, 3.64089330e-01, 3.66088320e-01,\n",
       "        3.68087310e-01, 3.70086300e-01, 3.72085291e-01, 3.74084281e-01,\n",
       "        3.76083271e-01, 3.78082261e-01, 3.80081251e-01, 3.82080242e-01,\n",
       "        3.84079232e-01, 3.86078222e-01, 3.88077212e-01, 3.90076202e-01,\n",
       "        3.92075192e-01, 3.94074183e-01, 3.96073173e-01, 3.98072163e-01,\n",
       "        4.00071153e-01, 4.02070143e-01, 4.04069133e-01, 4.06068124e-01,\n",
       "        4.08067114e-01, 4.10066104e-01, 4.12065094e-01, 4.14064084e-01,\n",
       "        4.16063074e-01, 4.18062065e-01, 4.20061055e-01, 4.22060045e-01,\n",
       "        4.24059035e-01, 4.26058025e-01, 4.28057016e-01, 4.30056006e-01,\n",
       "        4.32054996e-01, 4.34053986e-01, 4.36052976e-01, 4.38051966e-01,\n",
       "        4.40050957e-01, 4.42049947e-01, 4.44048937e-01, 4.46047927e-01,\n",
       "        4.48046917e-01, 4.50045907e-01, 4.52044898e-01, 4.54043888e-01,\n",
       "        4.56042878e-01, 4.58041868e-01, 4.60040858e-01, 4.62039849e-01,\n",
       "        4.64038839e-01, 4.66037829e-01, 4.68036819e-01, 4.70035809e-01,\n",
       "        4.72034799e-01, 4.74033790e-01, 4.76032780e-01, 4.78031770e-01,\n",
       "        4.80030760e-01, 4.82029750e-01, 4.84028740e-01, 4.86027731e-01,\n",
       "        4.88026721e-01, 4.90025711e-01, 4.92024701e-01, 4.94023691e-01,\n",
       "        4.96022681e-01, 4.98021672e-01, 5.00020662e-01, 5.02019652e-01,\n",
       "        5.04018642e-01, 5.06017632e-01, 5.08016623e-01, 5.10015613e-01,\n",
       "        5.12014603e-01, 5.14013593e-01, 5.16012583e-01, 5.18011573e-01,\n",
       "        5.20010564e-01, 5.22009554e-01, 5.24008544e-01, 5.26007534e-01,\n",
       "        5.28006524e-01, 5.30005514e-01, 5.32004505e-01, 5.34003495e-01,\n",
       "        5.36002485e-01, 5.38001475e-01, 5.40000465e-01, 5.41999455e-01,\n",
       "        5.43998446e-01, 5.45997436e-01, 5.47996426e-01, 5.49995416e-01,\n",
       "        5.51994406e-01, 5.53993397e-01, 5.55992387e-01, 5.57991377e-01,\n",
       "        5.59990367e-01, 5.61989357e-01, 5.63988347e-01, 5.65987338e-01,\n",
       "        5.67986328e-01, 5.69985318e-01, 5.71984308e-01, 5.73983298e-01,\n",
       "        5.75982288e-01, 5.77981279e-01, 5.79980269e-01, 5.81979259e-01,\n",
       "        5.83978249e-01, 5.85977239e-01, 5.87976230e-01, 5.89975220e-01,\n",
       "        5.91974210e-01, 5.93973200e-01, 5.95972190e-01, 5.97971180e-01,\n",
       "        5.99970171e-01, 6.01969161e-01, 6.03968151e-01, 6.05967141e-01,\n",
       "        6.07966131e-01, 6.09965121e-01, 6.11964112e-01, 6.13963102e-01,\n",
       "        6.15962092e-01, 6.17961082e-01, 6.19960072e-01, 6.21959062e-01,\n",
       "        6.23958053e-01, 6.25957043e-01, 6.27956033e-01, 6.29955023e-01,\n",
       "        6.31954013e-01, 6.33953004e-01, 6.35951994e-01, 6.37950984e-01,\n",
       "        6.39949974e-01, 6.41948964e-01, 6.43947954e-01, 6.45946945e-01,\n",
       "        6.47945935e-01, 6.49944925e-01, 6.51943915e-01, 6.53942905e-01,\n",
       "        6.55941895e-01, 6.57940886e-01, 6.59939876e-01, 6.61938866e-01,\n",
       "        6.63937856e-01, 6.65936846e-01, 6.67935836e-01, 6.69934827e-01,\n",
       "        6.71933817e-01, 6.73932807e-01, 6.75931797e-01, 6.77930787e-01,\n",
       "        6.79929778e-01, 6.81928768e-01, 6.83927758e-01, 6.85926748e-01,\n",
       "        6.87925738e-01, 6.89924728e-01, 6.91923719e-01, 6.93922709e-01,\n",
       "        6.95921699e-01, 6.97920689e-01, 6.99919679e-01, 7.01918669e-01,\n",
       "        7.03917660e-01, 7.05916650e-01, 7.07915640e-01, 7.09914630e-01,\n",
       "        7.11913620e-01, 7.13912611e-01, 7.15911601e-01, 7.17910591e-01,\n",
       "        7.19909581e-01, 7.21908571e-01, 7.23907561e-01, 7.25906552e-01,\n",
       "        7.27905542e-01, 7.29904532e-01, 7.31903522e-01, 7.33902512e-01,\n",
       "        7.35901502e-01, 7.37900493e-01, 7.39899483e-01, 7.41898473e-01,\n",
       "        7.43897463e-01, 7.45896453e-01, 7.47895443e-01, 7.49894434e-01,\n",
       "        7.51893424e-01, 7.53892414e-01, 7.55891404e-01, 7.57890394e-01,\n",
       "        7.59889385e-01, 7.61888375e-01, 7.63887365e-01, 7.65886355e-01,\n",
       "        7.67885345e-01, 7.69884335e-01, 7.71883326e-01, 7.73882316e-01,\n",
       "        7.75881306e-01, 7.77880296e-01, 7.79879286e-01, 7.81878276e-01,\n",
       "        7.83877267e-01, 7.85876257e-01, 7.87875247e-01, 7.89874237e-01,\n",
       "        7.91873227e-01, 7.93872217e-01, 7.95871208e-01, 7.97870198e-01,\n",
       "        7.99869188e-01, 8.01868178e-01, 8.03867168e-01, 8.05866159e-01,\n",
       "        8.07865149e-01, 8.09864139e-01, 8.11863129e-01, 8.13862119e-01,\n",
       "        8.15861109e-01, 8.17860100e-01, 8.19859090e-01, 8.21858080e-01,\n",
       "        8.23857070e-01, 8.25856060e-01, 8.27855050e-01, 8.29854041e-01,\n",
       "        8.31853031e-01, 8.33852021e-01, 8.35851011e-01, 8.37850001e-01,\n",
       "        8.39848992e-01, 8.41847982e-01, 8.43846972e-01, 8.45845962e-01,\n",
       "        8.47844952e-01, 8.49843942e-01, 8.51842933e-01, 8.53841923e-01,\n",
       "        8.55840913e-01, 8.57839903e-01, 8.59838893e-01, 8.61837883e-01,\n",
       "        8.63836874e-01, 8.65835864e-01, 8.67834854e-01, 8.69833844e-01,\n",
       "        8.71832834e-01, 8.73831824e-01, 8.75830815e-01, 8.77829805e-01,\n",
       "        8.79828795e-01, 8.81827785e-01, 8.83826775e-01, 8.85825766e-01,\n",
       "        8.87824756e-01, 8.89823746e-01, 8.91822736e-01, 8.93821726e-01,\n",
       "        8.95820716e-01, 8.97819707e-01, 8.99818697e-01, 9.01817687e-01,\n",
       "        9.03816677e-01, 9.05815667e-01, 9.07814657e-01, 9.09813648e-01,\n",
       "        9.11812638e-01, 9.13811628e-01, 9.15810618e-01, 9.17809608e-01,\n",
       "        9.19808599e-01, 9.21807589e-01, 9.23806579e-01, 9.25805569e-01,\n",
       "        9.27804559e-01, 9.29803549e-01, 9.31802540e-01, 9.33801530e-01,\n",
       "        9.35800520e-01, 9.37799510e-01, 9.39798500e-01, 9.41797490e-01,\n",
       "        9.43796481e-01, 9.45795471e-01, 9.47794461e-01, 9.49793451e-01,\n",
       "        9.51792441e-01, 9.53791431e-01, 9.55790422e-01, 9.57789412e-01,\n",
       "        9.59788402e-01, 9.61787392e-01, 9.63786382e-01, 9.65785373e-01,\n",
       "        9.67784363e-01, 9.69783353e-01, 9.71782343e-01, 9.73781333e-01,\n",
       "        9.75780323e-01, 9.77779314e-01, 9.79778304e-01, 9.81777294e-01,\n",
       "        9.83776284e-01, 9.85775274e-01, 9.87774264e-01, 9.89773255e-01,\n",
       "        9.91772245e-01, 9.93771235e-01, 9.95770225e-01, 9.97769215e-01,\n",
       "        9.99768205e-01]),\n",
       " <a list of 500 Patch objects>)"
      ]
     },
     "execution_count": 204,
     "metadata": {},
     "output_type": "execute_result"
    },
    {
     "data": {
      "image/png": "[encoded data removed]",
      "text/plain": [
       "<matplotlib.figure.Figure at 0x7fd71885f080>"
      ]
     },
     "metadata": {},
     "output_type": "display_data"
    }
   ],
   "source": [
    "d = np.random.uniform(size=5000)\n",
    "plt.hist(d,500)"
   ]
  },
  {
   "cell_type": "markdown",
   "metadata": {},
   "source": [
    "#### Distribuição Geometrica"
   ]
  },
  {
   "cell_type": "code",
   "execution_count": 205,
   "metadata": {
    "scrolled": true
   },
   "outputs": [
    {
     "data": {
      "text/plain": [
       "(array([3.493e+03, 1.039e+03, 3.280e+02, 1.050e+02, 0.000e+00, 2.100e+01,\n",
       "        1.100e+01, 2.000e+00, 0.000e+00, 1.000e+00]),\n",
       " array([1. , 1.8, 2.6, 3.4, 4.2, 5. , 5.8, 6.6, 7.4, 8.2, 9. ]),\n",
       " <a list of 10 Patch objects>)"
      ]
     },
     "execution_count": 205,
     "metadata": {},
     "output_type": "execute_result"
    },
    {
     "data": {
      "image/png": "[encoded data removed]",
      "text/plain": [
       "<matplotlib.figure.Figure at 0x7fd713f3f4e0>"
      ]
     },
     "metadata": {},
     "output_type": "display_data"
    }
   ],
   "source": [
    "d = np.random.geometric(0.70,size=5000)\n",
    "plt.hist(d)"
   ]
  },
  {
   "cell_type": "markdown",
   "metadata": {},
   "source": [
    "### Questão 4"
   ]
  },
  {
   "cell_type": "code",
   "execution_count": 206,
   "metadata": {},
   "outputs": [],
   "source": [
    "# y = b0 + b1 * x\n",
    "# b1 é a inclinação, b0 é y-intercept\n",
    "def compute_error_for_line_given_points(b0, b1, x, y):\n",
    "    totalError = np.sum((y - (b1 * x + b0)) ** 2)\n",
    "    return totalError / float(len(y))\n",
    "\n",
    "def step_gradient(b0_current, b1_current, x, y, learning_rate):\n",
    "    N = float(len(y))\n",
    "    b0_gradient = 2/N * np.sum(-(y - ((b1_current * x) + b0_current)))\n",
    "    b1_gradient = 2/N * np.sum(-x * (y - ((b1_current * x) + b0_current)))\n",
    "    new_b0 = b0_current - (learning_rate * b0_gradient)\n",
    "    new_b1 = b1_current - (learning_rate * b1_gradient)\n",
    "    return new_b0, new_b1\n",
    "\n",
    "def gradient_descent_runner(x, y, b0, b1, learning_rate, num_iterations):\n",
    "    for _ in range(num_iterations):\n",
    "        b0, b1 = step_gradient(b0, b1, x, y, learning_rate)\n",
    "    return b0, b1\n",
    "\n",
    "def run(x, y, initial_b0, initial_b1, learning_rate, num_iterations):\n",
    "    print(\"Inicia com b0 = {}, b1 = {}, error = {}\".format(initial_b0, initial_b1, compute_error_for_line_given_points(initial_b0, initial_b1, x, y)))  \n",
    "    print(\"Executando...\")\n",
    "    b0, b1 = gradient_descent_runner(x, y, initial_b0, initial_b1, learning_rate, num_iterations)\n",
    "    print(\"Após {} iterações, obtemos b0 = {}, b1 = {}, error = {}\".format(num_iterations, b0, b1, compute_error_for_line_given_points(b0, b1, x, y)))"
   ]
  },
  {
   "cell_type": "code",
   "execution_count": 207,
   "metadata": {},
   "outputs": [
    {
     "name": "stdout",
     "output_type": "stream",
     "text": [
      "Inicia com b0 = 0, b1 = 0, error = 5565.107834483214\n",
      "Executando...\n",
      "Após 1000000 iterações, obtemos b0 = 7.986822773189424, b1 = 1.3225135372757006, error = 110.25738413161345\n",
      "CPU times: user 3min 9s, sys: 64 ms, total: 3min 9s\n",
      "Wall time: 3min 15s\n"
     ]
    }
   ],
   "source": [
    "%%time\n",
    "points = np.genfromtxt(\"data.csv\", delimiter=\",\")\n",
    "\n",
    "x = points[:, 0]\n",
    "y = points[:, 1]\n",
    "learning_rate =  0.0001\n",
    "initial_b0 = 0 # y-intercept inicial\n",
    "initial_b1 = 0 # inclinação inicial\n",
    "num_iterations = 1000000\n",
    "run(x, y, initial_b0, initial_b1, learning_rate, num_iterations)\n",
    "b0, b1 = gradient_descent_runner(x, y, initial_b0, initial_b1, learning_rate, num_iterations)\n",
    "error = compute_error_for_line_given_points(b0, b1, x, y)\n",
    "\n"
   ]
  },
  {
   "cell_type": "code",
   "execution_count": 127,
   "metadata": {
    "scrolled": true
   },
   "outputs": [
    {
     "name": "stdout",
     "output_type": "stream",
     "text": [
      "CPU times: user 8 ms, sys: 0 ns, total: 8 ms\n",
      "Wall time: 6.51 ms\n"
     ]
    }
   ],
   "source": [
    "%%time\n",
    "model = linear_model.LinearRegression()\n",
    "X = [ [i] for i in x ] \n",
    "model.fit(X, y)\n",
    "b0, b1 = model.intercept_, model.coef_\n",
    "y_pred = model.predict(X)\n",
    "\n",
    "error2 = compute_error_for_line_given_points(b0, b1, x, y)\n"
   ]
  },
  {
   "cell_type": "code",
   "execution_count": 128,
   "metadata": {
    "scrolled": false
   },
   "outputs": [
    {
     "name": "stdout",
     "output_type": "stream",
     "text": [
      "6.654002930872593e-07\n"
     ]
    }
   ],
   "source": [
    "print(error-error2)"
   ]
  },
  {
   "cell_type": "markdown",
   "metadata": {},
   "source": [
    "##### 4.1 Acontece um warning de overflow\n"
   ]
  },
  {
   "cell_type": "code",
   "execution_count": 230,
   "metadata": {
    "scrolled": true
   },
   "outputs": [
    {
     "name": "stdout",
     "output_type": "stream",
     "text": [
      "Inicia com b0 = 0, b1 = 0, error = 5565.107834483214\n",
      "Executando...\n"
     ]
    },
    {
     "name": "stderr",
     "output_type": "stream",
     "text": [
      "/home/darkbyte/anaconda3/lib/python3.6/site-packages/numpy/core/_methods.py:32: RuntimeWarning: overflow encountered in reduce\n",
      "  return umr_sum(a, axis, dtype, out, keepdims)\n",
      "/home/darkbyte/anaconda3/lib/python3.6/site-packages/ipykernel_launcher.py:12: RuntimeWarning: invalid value encountered in double_scalars\n",
      "  if sys.path[0] == '':\n"
     ]
    },
    {
     "name": "stdout",
     "output_type": "stream",
     "text": [
      "Após 1000000 iterações, obtemos b0 = nan, b1 = nan, error = nan\n",
      "nan\n",
      "CPU times: user 3min 9s, sys: 344 ms, total: 3min 9s\n",
      "Wall time: 3min 19s\n"
     ]
    }
   ],
   "source": [
    "%%time\n",
    "points = np.genfromtxt(\"data.csv\", delimiter=\",\")\n",
    "\n",
    "x = points[:, 0]\n",
    "y = points[:, 1]\n",
    "learning_rate = 0.01\n",
    "initial_b0 = 0 # y-intercept inicial\n",
    "initial_b1 = 0 # inclinação inicial\n",
    "num_iterations = 1000000\n",
    "run(x, y, initial_b0, initial_b1, learning_rate, num_iterations)\n",
    "b0, b1 = gradient_descent_runner(x, y, initial_b0, initial_b1, learning_rate, num_iterations)\n",
    "error = compute_error_for_line_given_points(b0, b1, x, y)\n",
    "\n",
    "\n",
    "print(error-error2)"
   ]
  },
  {
   "cell_type": "markdown",
   "metadata": {},
   "source": [
    "#### 4.2  Pode aumentar o valor de learning _rate ate 0,0004 e aumentar o numero de iteraçoes"
   ]
  },
  {
   "cell_type": "code",
   "execution_count": 231,
   "metadata": {
    "scrolled": true
   },
   "outputs": [
    {
     "name": "stdout",
     "output_type": "stream",
     "text": [
      "Inicia com b0 = 0, b1 = 0, error = 5565.107834483214\n",
      "Executando...\n",
      "Após 10000 iterações, obtemos b0 = 2.1039412730424405, b1 = 1.4381397807156377, error = 111.5658260987543\n",
      "CPU times: user 1.93 s, sys: 0 ns, total: 1.93 s\n",
      "Wall time: 2.09 s\n"
     ]
    }
   ],
   "source": [
    "%%time\n",
    "points = np.genfromtxt(\"data.csv\", delimiter=\",\")\n",
    "\n",
    "x = points[:, 0]\n",
    "y = points[:, 1]\n",
    "learning_rate =  0.0004\n",
    "initial_b0 = 0 # y-intercept inicial\n",
    "initial_b1 = 0 # inclinação inicial\n",
    "num_iterations = 10000\n",
    "run(x, y, initial_b0, initial_b1, learning_rate, num_iterations)\n",
    "b0, b1 = gradient_descent_runner(x, y, initial_b0, initial_b1, learning_rate, num_iterations)\n",
    "error = compute_error_for_line_given_points(b0, b1, x, y)\n"
   ]
  },
  {
   "cell_type": "markdown",
   "metadata": {},
   "source": [
    "### Questão 5"
   ]
  },
  {
   "cell_type": "code",
   "execution_count": 232,
   "metadata": {},
   "outputs": [],
   "source": [
    "X = np.array([[1400],[1600],[1700],[1875],[1100],[1550],[2350],[2450],[1425],[1700]])\n",
    "y = np.array([245000, 312000, 279000, 308000,199000,219000, 405000,324000,319000,255000])"
   ]
  },
  {
   "cell_type": "markdown",
   "metadata": {},
   "source": [
    "#### 5.1"
   ]
  },
  {
   "cell_type": "code",
   "execution_count": 246,
   "metadata": {
    "scrolled": true
   },
   "outputs": [
    {
     "name": "stdout",
     "output_type": "stream",
     "text": [
      "Inicia com b0 = 0, b1 = 0, error = 853423000000.0\n",
      "Executando...\n",
      "Após 15 iterações, obtemos b0 = 6.694856876488277e+70, b1 = 1.2095146842638727e+74, error = 4.532695414568647e+155\n"
     ]
    }
   ],
   "source": [
    "learning_rate =  0.001\n",
    "initial_b0 = 0 # y-intercept inicial\n",
    "initial_b1 = 0 # inclinação inicial\n",
    "num_iterations = 15\n",
    "run(X, y, initial_b0, initial_b1, learning_rate, num_iterations)\n",
    "b0, b1 = gradient_descent_runner(X, y, initial_b0, initial_b1, learning_rate, num_iterations)"
   ]
  },
  {
   "cell_type": "markdown",
   "metadata": {},
   "source": [
    "#### 5.2"
   ]
  },
  {
   "cell_type": "code",
   "execution_count": 247,
   "metadata": {},
   "outputs": [
    {
     "name": "stdout",
     "output_type": "stream",
     "text": [
      "1.30192227562732e+77\n"
     ]
    }
   ],
   "source": [
    "value = 100 * 10.764 # metros para pes\n",
    "print (value*b1 + b0)"
   ]
  },
  {
   "cell_type": "code",
   "execution_count": null,
   "metadata": {},
   "outputs": [],
   "source": []
  },
  {
   "cell_type": "code",
   "execution_count": null,
   "metadata": {},
   "outputs": [],
   "source": []
  }
 ],
 "metadata": {
  "kernelspec": {
   "display_name": "Python 3",
   "language": "python",
   "name": "python3"
  },
  "language_info": {
   "codemirror_mode": {
    "name": "ipython",
    "version": 3
   },
   "file_extension": ".py",
   "mimetype": "text/x-python",
   "name": "python",
   "nbconvert_exporter": "python",
   "pygments_lexer": "ipython3",
   "version": "3.6.4"
  }
 },
 "nbformat": 4,
 "nbformat_minor": 2
}
