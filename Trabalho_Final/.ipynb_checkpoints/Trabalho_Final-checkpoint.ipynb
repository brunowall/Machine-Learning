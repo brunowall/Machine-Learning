{
 "cells": [
  {
   "cell_type": "code",
   "execution_count": 35,
   "metadata": {},
   "outputs": [],
   "source": [
    "import numpy as np\n",
    "import pandas as pd\n",
    "import sklearn\n",
    "from sklearn.model_selection import StratifiedKFold\n",
    "from sklearn import neighbors\n",
    "from sklearn import metrics\n",
    "from sklearn import svm"
   ]
  },
  {
   "cell_type": "code",
   "execution_count": 16,
   "metadata": {
    "scrolled": true
   },
   "outputs": [],
   "source": [
    "def load_data():\n",
    "    primeiro = pd.read_csv('BlogFeedback/blogData_train.csv',header=None)\n",
    "    concat= primeiro\n",
    "    mes = 2\n",
    "    var = 0\n",
    "    inirange = 1\n",
    "    for i in range(inirange,31):\n",
    "        if i < 10:\n",
    "                primeiro = pd.read_csv('BlogFeedback/blogData_test-2012.0'+str(mes)+'.0'+ str(i) + '.0'+str(var)+'_00.csv',header=None)\n",
    "        else:\n",
    "\n",
    "            primeiro = pd.read_csv('BlogFeedback/blogData_test-2012.0'+str(mes)+'.'+ str(i) + '.0'+str(var)+'_00.csv',header=None)\n",
    "\n",
    "        if i == 29 and mes == 2:\n",
    "            mes = 3\n",
    "            var = 1\n",
    "            inirange = 1\n",
    "            i = inirange\n",
    "\n",
    "        concat = pd.concat([concat,primeiro], axis=0)\n",
    "    \n",
    "    return concat.values[:,0:279],concat.values[:,280]\n",
    "\n",
    "\n"
   ]
  },
  {
   "cell_type": "code",
   "execution_count": 17,
   "metadata": {},
   "outputs": [],
   "source": [
    "X,y = load_data()"
   ]
  },
  {
   "cell_type": "code",
   "execution_count": 6,
   "metadata": {},
   "outputs": [],
   "source": [
    "stf = StratifiedKFold(n_splits=10,random_state=42)"
   ]
  },
  {
   "cell_type": "code",
   "execution_count": null,
   "metadata": {},
   "outputs": [],
   "source": []
  },
  {
   "cell_type": "code",
   "execution_count": 30,
   "metadata": {},
   "outputs": [
    {
     "name": "stderr",
     "output_type": "stream",
     "text": [
      "/home/null/anaconda/lib/python3.6/site-packages/sklearn/model_selection/_split.py:605: Warning: The least populated class in y has only 1 members, which is too few. The minimum number of members in any class cannot be less than n_splits=10.\n",
      "  % (min_groups, self.n_splits)), Warning)\n"
     ]
    },
    {
     "name": "stdout",
     "output_type": "stream",
     "text": [
      "desempenho KNN 997.0247483515514\n"
     ]
    }
   ],
   "source": [
    "errosKnn = np.empty((1,0))\n",
    "\n",
    "for idx_train,idx_test in stf.split(X,y):\n",
    "    knn = neighbors.KNeighborsRegressor(n_neighbors=10,n_jobs=2)\n",
    "    x_train = X[idx_train]\n",
    "    x_test = X[idx_test]\n",
    "    y_train = y[idx_train]\n",
    "    y_test = y[idx_test]\n",
    "    knn.fit(x_train,y_train)\n",
    "    y_pred = knn.predict(x_test)\n",
    "    mse = metrics.mean_squared_error(y_test,y_pred)\n",
    "    errosKnn = np.append(errosKnn,mse)\n",
    "\n",
    "print(\"desempenho KNN\",np.mean(errosKnn))\n"
   ]
  },
  {
   "cell_type": "code",
   "execution_count": null,
   "metadata": {},
   "outputs": [
    {
     "name": "stderr",
     "output_type": "stream",
     "text": [
      "/home/null/anaconda/lib/python3.6/site-packages/sklearn/model_selection/_split.py:605: Warning: The least populated class in y has only 1 members, which is too few. The minimum number of members in any class cannot be less than n_splits=10.\n",
      "  % (min_groups, self.n_splits)), Warning)\n"
     ]
    }
   ],
   "source": [
    "errosSVR = np.empty((1,0))\n",
    "\n",
    "for idx_train,idx_test in stf.split(X,y):\n",
    "    svr = svm.SVR()\n",
    "    x_train = X[idx_train]\n",
    "    x_test = X[idx_test]\n",
    "    y_train = y[idx_train]\n",
    "    y_test = y[idx_test]\n",
    "    svr.fit(x_train,y_train)\n",
    "    y_pred = knn.predict(x_test)\n",
    "    mse = metrics.mean_squared_error(y_test,y_pred)\n",
    "    errosSVR = np.append(errosSVR,mse)\n",
    "\n",
    "print(\"desempenho SVC\",np.mean(errosSVC))\n"
   ]
  },
  {
   "cell_type": "code",
   "execution_count": null,
   "metadata": {},
   "outputs": [],
   "source": []
  },
  {
   "cell_type": "code",
   "execution_count": null,
   "metadata": {},
   "outputs": [],
   "source": []
  }
 ],
 "metadata": {
  "kernelspec": {
   "display_name": "Python 3",
   "language": "python",
   "name": "python3"
  },
  "language_info": {
   "codemirror_mode": {
    "name": "ipython",
    "version": 3
   },
   "file_extension": ".py",
   "mimetype": "text/x-python",
   "name": "python",
   "nbconvert_exporter": "python",
   "pygments_lexer": "ipython3",
   "version": "3.6.4"
  }
 },
 "nbformat": 4,
 "nbformat_minor": 2
}
