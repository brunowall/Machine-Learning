{
 "cells": [
  {
   "cell_type": "code",
   "execution_count": 8,
   "metadata": {
    "colab": {
     "autoexec": {
      "startup": false,
      "wait_interval": 0
     }
    },
    "colab_type": "code",
    "id": "urRpW6jWrVxh"
   },
   "outputs": [],
   "source": [
    "import numpy as np\n",
    "import pandas as pd\n",
    "import sklearn\n",
    "from sklearn.model_selection import KFold\n",
    "from sklearn import neighbors\n",
    "from sklearn import metrics\n",
    "from sklearn import svm\n",
    "from sklearn.linear_model import SGDRegressor\n",
    "from sklearn.preprocessing import StandardScaler\n",
    "from sklearn.preprocessing import MinMaxScaler\n"
   ]
  },
  {
   "cell_type": "code",
   "execution_count": 2,
   "metadata": {
    "colab": {
     "autoexec": {
      "startup": false,
      "wait_interval": 0
     }
    },
    "colab_type": "code",
    "id": "2STMRvK4rVxu"
   },
   "outputs": [],
   "source": [
    "def load_data():\n",
    "    primeiro = pd.read_csv('https://raw.githubusercontent.com/brunowall/Machine-Learning/master/Trabalho_Final/BlogFeedback/blogData_train.csv',header=None)\n",
    "    concat= primeiro\n",
    "    mes = 2\n",
    "    var = 0\n",
    "    inirange = 1\n",
    "    for i in range(inirange,31):\n",
    "        if i < 10:\n",
    "                primeiro = pd.read_csv('https://raw.githubusercontent.com/brunowall/Machine-Learning/master/Trabalho_Final/BlogFeedback/blogData_test-2012.0'+str(mes)+'.0'+ str(i) + '.0'+str(var)+'_00.csv',header=None)\n",
    "        else:\n",
    "\n",
    "            primeiro = pd.read_csv('https://raw.githubusercontent.com/brunowall/Machine-Learning/master/Trabalho_Final/BlogFeedback/blogData_test-2012.0'+str(mes)+'.'+ str(i) + '.0'+str(var)+'_00.csv',header=None)\n",
    "\n",
    "        if i == 29 and mes == 2:\n",
    "            mes = 3\n",
    "            var = 1\n",
    "            inirange = 1\n",
    "            i = inirange\n",
    "\n",
    "        concat = pd.concat([concat,primeiro], axis=0)\n",
    "    \n",
    "    return concat.values[:,0:279],concat.values[:,280]\n",
    "\n",
    "\n"
   ]
  },
  {
   "cell_type": "code",
   "execution_count": 3,
   "metadata": {
    "colab": {
     "autoexec": {
      "startup": false,
      "wait_interval": 0
     }
    },
    "colab_type": "code",
    "id": "A8nExrtxrVx5"
   },
   "outputs": [],
   "source": [
    "X,y = load_data()"
   ]
  },
  {
   "cell_type": "code",
   "execution_count": 5,
   "metadata": {
    "colab": {
     "autoexec": {
      "startup": false,
      "wait_interval": 0
     }
    },
    "colab_type": "code",
    "id": "W7kobH6ZrVyF"
   },
   "outputs": [],
   "source": [
    "stf = KFold(n_splits=10,random_state=42)"
   ]
  },
  {
   "cell_type": "code",
   "execution_count": 0,
   "metadata": {
    "colab": {
     "autoexec": {
      "startup": false,
      "wait_interval": 0
     }
    },
    "colab_type": "code",
    "id": "9HknHqPVrVyZ"
   },
   "outputs": [],
   "source": []
  },
  {
   "cell_type": "code",
   "execution_count": null,
   "metadata": {
    "colab": {
     "autoexec": {
      "startup": false,
      "wait_interval": 0
     },
     "base_uri": "https://localhost:8080/",
     "height": 35
    },
    "colab_type": "code",
    "executionInfo": {
     "elapsed": 45873,
     "status": "ok",
     "timestamp": 1527375360760,
     "user": {
      "displayName": "Bruno Fernandes",
      "photoUrl": "//lh4.googleusercontent.com/-EzvXOIZ4BhQ/AAAAAAAAAAI/AAAAAAAAZCQ/rDw3jJYPKew/s50-c-k-no/photo.jpg",
      "userId": "112119257213391503668"
     },
     "user_tz": 180
    },
    "id": "yipImrJ6rVyk",
    "outputId": "a8b9d805-f9d1-40f5-b08b-7cfdab17c25f"
   },
   "outputs": [],
   "source": [
    "errosKnn = np.empty((1,0))\n",
    "\n",
    "for idx_train,idx_test in stf.split(X,y):\n",
    "    knn = neighbors.KNeighborsRegressor(n_neighbors=15,n_jobs=-1)\n",
    "    scaler = MinMaxScaler()\n",
    "    x_train = X[idx_train]\n",
    "    x_test = X[idx_test]\n",
    "    y_train = y[idx_train]\n",
    "    y_test = y[idx_test]\n",
    "    scaler.fit(x_train)\n",
    "    \n",
    "    x_train_std = scaler.transform(x_train)\n",
    "    x_test_std = scaler.transform(x_test)\n",
    "    \n",
    "    knn.fit(x_train_std,y_train)\n",
    "    y_pred = knn.predict(x_test_std)\n",
    "    mse = metrics.mean_squared_error(y_test,y_pred)\n",
    "    errosKnn = np.append(errosKnn,mse)\n",
    "\n",
    "print(\"desempenho KNN\",np.mean(errosKnn))\n"
   ]
  },
  {
   "cell_type": "code",
   "execution_count": null,
   "metadata": {
    "colab": {
     "autoexec": {
      "startup": false,
      "wait_interval": 0
     },
     "base_uri": "https://localhost:8080/",
     "height": 498
    },
    "colab_type": "code",
    "executionInfo": {
     "elapsed": 17159646,
     "status": "error",
     "timestamp": 1527392532440,
     "user": {
      "displayName": "Bruno Fernandes",
      "photoUrl": "//lh4.googleusercontent.com/-EzvXOIZ4BhQ/AAAAAAAAAAI/AAAAAAAAZCQ/rDw3jJYPKew/s50-c-k-no/photo.jpg",
      "userId": "112119257213391503668"
     },
     "user_tz": 180
    },
    "id": "0sWE1i8urVy2",
    "outputId": "afc03c0f-0c6a-41b3-af5d-0c2b525339e7"
   },
   "outputs": [],
   "source": [
    "errosSVR = np.empty((1,0))\n",
    "\n",
    "for idx_train,idx_test in stf.split(X,y):\n",
    "    svr = svm.SVR()\n",
    "    x_train = X[idx_train]\n",
    "    x_test = X[idx_test]\n",
    "    y_train = y[idx_train]\n",
    "    y_test = y[idx_test]\n",
    "    svr.fit(x_train,y_train)\n",
    "    y_pred = knn.predict(x_test)\n",
    "    mse = metrics.mean_squared_error(y_test,y_pred)\n",
    "    errosSVR = np.append(errosSVR,mse)\n",
    "\n",
    "print(\"desempenho SVC\",np.mean(errosSVC))\n"
   ]
  },
  {
   "cell_type": "code",
   "execution_count": null,
   "metadata": {
    "colab": {
     "autoexec": {
      "startup": false,
      "wait_interval": 0
     }
    },
    "colab_type": "code",
    "id": "-1goiQeGrVzO"
   },
   "outputs": [],
   "source": [
    "errosSGD = np.empty((1,0))\n",
    "\n",
    "for idx_train,idx_test in stf.split(X,y):\n",
    "    sgd = SGDRegressor(max_iter=1000)\n",
    "    x_train = X[idx_train]\n",
    "    x_test = X[idx_test]\n",
    "    y_train = y[idx_train]\n",
    "    y_test = y[idx_test]\n",
    "    sgd.fit(x_train,y_train)\n",
    "    y_pred = sgd.predict(x_test)\n",
    "    mse = metrics.mean_squared_error(y_test,y_pred)\n",
    "    errosSGD = np.append(errosSGD,mse)\n",
    "\n",
    "print(\"desempenho SVC\",np.mean(errosSGD))\n"
   ]
  },
  {
   "cell_type": "code",
   "execution_count": 0,
   "metadata": {
    "colab": {
     "autoexec": {
      "startup": false,
      "wait_interval": 0
     }
    },
    "colab_type": "code",
    "id": "0T0UkXQXrVzX"
   },
   "outputs": [],
   "source": []
  }
 ],
 "metadata": {
  "colab": {
   "collapsed_sections": [],
   "default_view": {},
   "name": "Trabalho_Final.ipynb",
   "provenance": [],
   "version": "0.3.2",
   "views": {}
  },
  "kernelspec": {
   "display_name": "Python 3",
   "language": "python",
   "name": "python3"
  },
  "language_info": {
   "codemirror_mode": {
    "name": "ipython",
    "version": 3
   },
   "file_extension": ".py",
   "mimetype": "text/x-python",
   "name": "python",
   "nbconvert_exporter": "python",
   "pygments_lexer": "ipython3",
   "version": "3.6.4"
  }
 },
 "nbformat": 4,
 "nbformat_minor": 1
}
