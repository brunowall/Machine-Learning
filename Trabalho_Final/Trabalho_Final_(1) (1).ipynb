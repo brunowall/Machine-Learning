{
  "nbformat": 4,
  "nbformat_minor": 0,
  "metadata": {
    "colab": {
      "name": "Trabalho_Final (1).ipynb",
      "version": "0.3.2",
      "views": {},
      "default_view": {},
      "provenance": [],
      "collapsed_sections": []
    },
    "kernelspec": {
      "display_name": "Python 3",
      "language": "python",
      "name": "python3"
    }
  },
  "cells": [
    {
      "metadata": {
        "id": "urRpW6jWrVxh",
        "colab_type": "code",
        "colab": {
          "autoexec": {
            "startup": false,
            "wait_interval": 0
          }
        }
      },
      "cell_type": "code",
      "source": [
        "import numpy as np\n",
        "import pandas as pd\n",
        "import sklearn\n",
        "from sklearn.model_selection import KFold\n",
        "from sklearn import neighbors\n",
        "from sklearn import metrics\n",
        "from sklearn import svm\n",
        "from sklearn.linear_model import SGDRegressor\n",
        "from sklearn.linear_model import LinearRegression\n",
        "from sklearn.preprocessing import StandardScaler\n",
        "from sklearn.preprocessing import MinMaxScaler\n",
        "from sklearn.model_selection import cross_validate\n",
        "from sklearn.ensemble import RandomForestRegressor"
      ],
      "execution_count": 0,
      "outputs": []
    },
    {
      "metadata": {
        "id": "2STMRvK4rVxu",
        "colab_type": "code",
        "colab": {
          "autoexec": {
            "startup": false,
            "wait_interval": 0
          }
        }
      },
      "cell_type": "code",
      "source": [
        "def load_data():\n",
        "    primeiro = pd.read_csv('https://raw.githubusercontent.com/brunowall/Machine-Learning/master/Trabalho_Final/BlogFeedback/blogData_train.csv',header=None)\n",
        "    concat= primeiro\n",
        "    mes = 2\n",
        "    var = 0\n",
        "    inirange = 1\n",
        "    for i in range(inirange,31):\n",
        "        if i < 10:\n",
        "                primeiro = pd.read_csv('https://raw.githubusercontent.com/brunowall/Machine-Learning/master/Trabalho_Final/BlogFeedback/blogData_test-2012.0'+str(mes)+'.0'+ str(i) + '.0'+str(var)+'_00.csv',header=None)\n",
        "        else:\n",
        "\n",
        "            primeiro = pd.read_csv('https://raw.githubusercontent.com/brunowall/Machine-Learning/master/Trabalho_Final/BlogFeedback/blogData_test-2012.0'+str(mes)+'.'+ str(i) + '.0'+str(var)+'_00.csv',header=None)\n",
        "\n",
        "        if i == 29 and mes == 2:\n",
        "            mes = 3\n",
        "            var = 1\n",
        "            inirange = 1\n",
        "            i = inirange\n",
        "\n",
        "        concat = pd.concat([concat,primeiro], axis=0)\n",
        "    \n",
        "    return concat.values[:,0:279],concat.values[:,280]\n",
        "\n",
        "\n"
      ],
      "execution_count": 0,
      "outputs": []
    },
    {
      "metadata": {
        "id": "A8nExrtxrVx5",
        "colab_type": "code",
        "colab": {
          "autoexec": {
            "startup": false,
            "wait_interval": 0
          }
        }
      },
      "cell_type": "code",
      "source": [
        "X,y = load_data()"
      ],
      "execution_count": 0,
      "outputs": []
    },
    {
      "metadata": {
        "id": "W7kobH6ZrVyF",
        "colab_type": "code",
        "colab": {
          "autoexec": {
            "startup": false,
            "wait_interval": 0
          }
        }
      },
      "cell_type": "code",
      "source": [
        "stf = KFold(n_splits=10,random_state=42)"
      ],
      "execution_count": 0,
      "outputs": []
    },
    {
      "metadata": {
        "id": "9HknHqPVrVyZ",
        "colab_type": "code",
        "colab": {
          "autoexec": {
            "startup": false,
            "wait_interval": 0
          }
        }
      },
      "cell_type": "code",
      "source": [
        ""
      ],
      "execution_count": 0,
      "outputs": []
    },
    {
      "metadata": {
        "id": "yipImrJ6rVyk",
        "colab_type": "code",
        "colab": {
          "autoexec": {
            "startup": false,
            "wait_interval": 0
          },
          "base_uri": "https://localhost:8080/",
          "height": 35
        },
        "outputId": "040daad5-897f-4004-9ec9-adda03b055be",
        "executionInfo": {
          "status": "ok",
          "timestamp": 1527439769854,
          "user_tz": 180,
          "elapsed": 779090,
          "user": {
            "displayName": "BRUNO WALLISON FERNANDES NUNES alu.ufc.br",
            "photoUrl": "https://lh3.googleusercontent.com/a/default-user=s128",
            "userId": "111551746341239642421"
          }
        }
      },
      "cell_type": "code",
      "source": [
        "errosKnn = np.empty((1,0))\n",
        "\n",
        "for idx_train,idx_test in stf.split(X,y):\n",
        "    knn = neighbors.KNeighborsRegressor(n_neighbors=15,n_jobs=-1)\n",
        "    scaler = StandardScaler()\n",
        "    x_train = X[idx_train]\n",
        "    x_test = X[idx_test]\n",
        "    y_train = y[idx_train]\n",
        "    y_test = y[idx_test]\n",
        "    scaler.fit(x_train)\n",
        "    \n",
        "    x_train_std = scaler.transform(x_train)\n",
        "    x_test_std = scaler.transform(x_test)\n",
        "    \n",
        "    knn.fit(x_train_std,y_train)\n",
        "    y_pred = knn.predict(x_test_std)\n",
        "    mse = metrics.mean_squared_error(y_test,y_pred)\n",
        "    errosKnn = np.append(errosKnn,mse)\n",
        "\n",
        "print(\"desempenho KNN\",np.mean(errosKnn))\n"
      ],
      "execution_count": 6,
      "outputs": [
        {
          "output_type": "stream",
          "text": [
            "desempenho KNN 1053.2670712775684\n"
          ],
          "name": "stdout"
        }
      ]
    },
    {
      "metadata": {
        "id": "0ElICu8qjo8N",
        "colab_type": "code",
        "colab": {
          "autoexec": {
            "startup": false,
            "wait_interval": 0
          },
          "base_uri": "https://localhost:8080/",
          "height": 35
        },
        "outputId": "d10ee9c6-b91e-420b-8fb3-c9cac4d31d95",
        "executionInfo": {
          "status": "ok",
          "timestamp": 1527440706458,
          "user_tz": 180,
          "elapsed": 41441,
          "user": {
            "displayName": "BRUNO WALLISON FERNANDES NUNES alu.ufc.br",
            "photoUrl": "https://lh3.googleusercontent.com/a/default-user=s128",
            "userId": "111551746341239642421"
          }
        }
      },
      "cell_type": "code",
      "source": [
        ""
      ],
      "execution_count": 7,
      "outputs": [
        {
          "output_type": "stream",
          "text": [
            "desempenho KNN 1162.5617857993059\n"
          ],
          "name": "stdout"
        }
      ]
    },
    {
      "metadata": {
        "id": "0sWE1i8urVy2",
        "colab_type": "code",
        "colab": {
          "autoexec": {
            "startup": false,
            "wait_interval": 0
          }
        }
      },
      "cell_type": "code",
      "source": [
        "errosSVR = np.empty((1,0))\n",
        "\n",
        "for idx_train,idx_test in stf.split(X,y):\n",
        "    svr = svm.SVR()\n",
        "    x_train = X[idx_train]\n",
        "    x_test = X[idx_test]\n",
        "    y_train = y[idx_train]\n",
        "    y_test = y[idx_test]\n",
        "    svr.fit(x_train,y_train)\n",
        "    y_pred = knn.predict(x_test)\n",
        "    mse = metrics.mean_squared_error(y_test,y_pred)\n",
        "    errosSVR = np.append(errosSVR,mse)\n",
        "\n",
        "print(\"desempenho SVC\",np.mean(errosSVC))\n"
      ],
      "execution_count": 0,
      "outputs": []
    },
    {
      "metadata": {
        "id": "2Dy1t4Xleske",
        "colab_type": "text"
      },
      "cell_type": "markdown",
      "source": [
        "Gradiente descendente estocastico"
      ]
    },
    {
      "metadata": {
        "id": "-1goiQeGrVzO",
        "colab_type": "code",
        "colab": {
          "autoexec": {
            "startup": false,
            "wait_interval": 0
          },
          "base_uri": "https://localhost:8080/",
          "height": 35
        },
        "outputId": "cb920432-961e-4ed0-ba25-bf46435b48d6",
        "executionInfo": {
          "status": "ok",
          "timestamp": 1527456035501,
          "user_tz": 180,
          "elapsed": 1369582,
          "user": {
            "displayName": "BRUNO WALLISON FERNANDES NUNES alu.ufc.br",
            "photoUrl": "https://lh3.googleusercontent.com/a/default-user=s128",
            "userId": "111551746341239642421"
          }
        }
      },
      "cell_type": "code",
      "source": [
        "errosSGD = np.empty((1,0))\n",
        "\n",
        "for idx_train,idx_test in stf.split(X,y):\n",
        "    sgd = SGDRegressor(max_iter=2000)\n",
        "    x_train = X[idx_train]\n",
        "    x_test = X[idx_test]\n",
        "    y_train = y[idx_train]\n",
        "    y_test = y[idx_test]\n",
        "    sgd.fit(x_train,y_train)\n",
        "    y_pred = sgd.predict(x_test)\n",
        "    mse = metrics.mean_squared_error(y_test,y_pred)\n",
        "    errosSGD = np.append(errosSGD,mse)\n",
        "\n",
        "print(\"desempenho SGD\",np.mean(errosSGD))\n"
      ],
      "execution_count": 28,
      "outputs": [
        {
          "output_type": "stream",
          "text": [
            "desempenho SGD 4.248308326387872e+30\n"
          ],
          "name": "stdout"
        }
      ]
    },
    {
      "metadata": {
        "id": "1YZeunMSelSA",
        "colab_type": "code",
        "colab": {
          "autoexec": {
            "startup": false,
            "wait_interval": 0
          },
          "base_uri": "https://localhost:8080/",
          "height": 35
        },
        "outputId": "af350f79-bcf0-4b10-a186-1e8507d01884",
        "executionInfo": {
          "status": "ok",
          "timestamp": 1527457452178,
          "user_tz": 180,
          "elapsed": 1146599,
          "user": {
            "displayName": "BRUNO WALLISON FERNANDES NUNES alu.ufc.br",
            "photoUrl": "https://lh3.googleusercontent.com/a/default-user=s128",
            "userId": "111551746341239642421"
          }
        }
      },
      "cell_type": "code",
      "source": [
        "errosSGD = np.empty((1,0))\n",
        "\n",
        "for idx_train,idx_test in stf.split(X,y):\n",
        "    sgd = SGDRegressor(max_iter=1000, penalty='l1')\n",
        "    x_train = X[idx_train]\n",
        "    x_test = X[idx_test]\n",
        "    y_train = y[idx_train]\n",
        "    y_test = y[idx_test]\n",
        "    sgd.fit(x_train,y_train)\n",
        "    y_pred = sgd.predict(x_test)\n",
        "    mse = metrics.mean_squared_error(y_test,y_pred)\n",
        "    errosSGD = np.append(errosSGD,mse)\n",
        "\n",
        "print(\"desempenho SGD\",np.mean(errosSGD))"
      ],
      "execution_count": 29,
      "outputs": [
        {
          "output_type": "stream",
          "text": [
            "desempenho SGD 9.407229528039464e+30\n"
          ],
          "name": "stdout"
        }
      ]
    },
    {
      "metadata": {
        "id": "0T0UkXQXrVzX",
        "colab_type": "code",
        "colab": {
          "autoexec": {
            "startup": false,
            "wait_interval": 0
          }
        }
      },
      "cell_type": "code",
      "source": [
        "\n",
        "for idx_train,idx_test in stf.split(X,y):\n",
        "    sgd = SGDRegressor(max_iter=1000,penalty='l2',alpha=0.1)\n",
        "    x_train = X[idx_train]\n",
        "    x_test = X[idx_test]\n",
        "    \n",
        "    y_train = y[idx_train]\n",
        "    y_test = y[idx_test]\n",
        "    scaler = StandardScaler()\n",
        "    scaler.fit(x_train)\n",
        "    x_train_std = scaler.transform(x_train)\n",
        "    x_test_std = scaler.transform(x_test)\n",
        "    \n",
        "    sgd.fit(x_train_std,y_train)\n",
        "    y_pred = sgd.predict(x_test_std)\n",
        "    mse = metrics.mean_squared_error(y_test,y_pred)\n",
        "    errosSGD = np.append(errosSGD,mse)\n",
        "\n",
        "print(\"desempenho SGD\",np.mean(errosSGD))"
      ],
      "execution_count": 0,
      "outputs": []
    },
    {
      "metadata": {
        "id": "hQRo5O1Je0ts",
        "colab_type": "text"
      },
      "cell_type": "markdown",
      "source": [
        "Regressão linear"
      ]
    },
    {
      "metadata": {
        "id": "rFbxYKFUEf4s",
        "colab_type": "code",
        "colab": {
          "autoexec": {
            "startup": false,
            "wait_interval": 0
          },
          "base_uri": "https://localhost:8080/",
          "height": 35
        },
        "outputId": "959334b3-8c7d-4981-fb64-53571fd9f05b",
        "executionInfo": {
          "status": "ok",
          "timestamp": 1527453446068,
          "user_tz": 180,
          "elapsed": 16681,
          "user": {
            "displayName": "BRUNO WALLISON FERNANDES NUNES alu.ufc.br",
            "photoUrl": "https://lh3.googleusercontent.com/a/default-user=s128",
            "userId": "111551746341239642421"
          }
        }
      },
      "cell_type": "code",
      "source": [
        "\n",
        "for idx_train,idx_test in stf.split(X,y):\n",
        "    lr = LinearRegression()\n",
        "    x_train = X[idx_train]\n",
        "    x_test = X[idx_test]\n",
        "    \n",
        "    y_train = y[idx_train]\n",
        "    y_test = y[idx_test]\n",
        "    scaler = StandardScaler()\n",
        "    scaler.fit(x_train)\n",
        "    x_train_std = scaler.transform(x_train)\n",
        "    x_test_std = scaler.transform(x_test)\n",
        "    \n",
        "    lr.fit(x_train_std,y_train)\n",
        "    y_pred = lr.predict(x_test_std)\n",
        "    mse = metrics.mean_squared_error(y_test,y_pred)\n",
        "    errosSGD = np.append(errosSGD,mse)\n",
        "\n",
        "print(\"desempenho LR\",np.mean(errosSGD))"
      ],
      "execution_count": 26,
      "outputs": [
        {
          "output_type": "stream",
          "text": [
            "desempenho LR 5.794344947981491e+29\n"
          ],
          "name": "stdout"
        }
      ]
    },
    {
      "metadata": {
        "id": "Fgeab7V1Upa1",
        "colab_type": "code",
        "colab": {
          "autoexec": {
            "startup": false,
            "wait_interval": 0
          },
          "base_uri": "https://localhost:8080/",
          "height": 35
        },
        "outputId": "1b2afe99-240d-4b05-b19e-1d2591fe5eec",
        "executionInfo": {
          "status": "ok",
          "timestamp": 1527470643079,
          "user_tz": 180,
          "elapsed": 13909,
          "user": {
            "displayName": "BRUNO WALLISON FERNANDES NUNES alu.ufc.br",
            "photoUrl": "https://lh3.googleusercontent.com/a/default-user=s128",
            "userId": "111551746341239642421"
          }
        }
      },
      "cell_type": "code",
      "source": [
        "for idx_train,idx_test in stf.split(X,y):\n",
        "    lr = LinearRegression()\n",
        "    x_train = X[idx_train]\n",
        "    x_test = X[idx_test]\n",
        "    \n",
        "    y_train = y[idx_train]\n",
        "    y_test = y[idx_test]\n",
        "    \n",
        "    \n",
        "    lr.fit(x_train,y_train)\n",
        "    y_pred = lr.predict(x_test)\n",
        "    mse = metrics.mean_squared_error(y_test,y_pred)\n",
        "    errosSGD = np.append(errosSGD,mse)\n",
        "\n",
        "print(\"desempenho LR\",np.mean(errosSGD))"
      ],
      "execution_count": 44,
      "outputs": [
        {
          "output_type": "stream",
          "text": [
            "desempenho LR 4.7036147640197314e+30\n"
          ],
          "name": "stdout"
        }
      ]
    },
    {
      "metadata": {
        "id": "S4MZo_l4ykWt",
        "colab_type": "text"
      },
      "cell_type": "markdown",
      "source": [
        "Random Forest"
      ]
    },
    {
      "metadata": {
        "id": "0FjEGLEJkcsT",
        "colab_type": "code",
        "colab": {
          "autoexec": {
            "startup": false,
            "wait_interval": 0
          },
          "base_uri": "https://localhost:8080/",
          "height": 35
        },
        "outputId": "560ff0bb-e0d8-441c-ea38-164405e2ca45",
        "executionInfo": {
          "status": "ok",
          "timestamp": 1527459096857,
          "user_tz": 180,
          "elapsed": 259165,
          "user": {
            "displayName": "BRUNO WALLISON FERNANDES NUNES alu.ufc.br",
            "photoUrl": "https://lh3.googleusercontent.com/a/default-user=s128",
            "userId": "111551746341239642421"
          }
        }
      },
      "cell_type": "code",
      "source": [
        "rf = np.empty((1,0))\n",
        "for idx_train,idx_test in stf.split(X,y):\n",
        "    randomf = RandomForestRegressor()\n",
        "    x_train = X[idx_train]\n",
        "    x_test = X[idx_test]\n",
        "    \n",
        "    y_train = y[idx_train]\n",
        "    y_test = y[idx_test]\n",
        "\n",
        "    \n",
        "    randomf.fit(x_train,y_train)\n",
        "    y_pred = randomf.predict(x_test)\n",
        "    mse = metrics.mean_squared_error(y_test,y_pred)\n",
        "    rf = np.append(rf,mse)\n",
        "\n",
        "print(\"desempenho RF\",np.mean(rf))"
      ],
      "execution_count": 32,
      "outputs": [
        {
          "output_type": "stream",
          "text": [
            "desempenho RF 1092.4002944327249\n"
          ],
          "name": "stdout"
        }
      ]
    },
    {
      "metadata": {
        "id": "0Jf9Qo_pqivH",
        "colab_type": "code",
        "colab": {
          "autoexec": {
            "startup": false,
            "wait_interval": 0
          },
          "base_uri": "https://localhost:8080/",
          "height": 35
        },
        "outputId": "b36c65f6-7931-4d1f-d944-8175344680c6",
        "executionInfo": {
          "status": "ok",
          "timestamp": 1527461213411,
          "user_tz": 180,
          "elapsed": 257392,
          "user": {
            "displayName": "BRUNO WALLISON FERNANDES NUNES alu.ufc.br",
            "photoUrl": "https://lh3.googleusercontent.com/a/default-user=s128",
            "userId": "111551746341239642421"
          }
        }
      },
      "cell_type": "code",
      "source": [
        "rf = np.empty((1,0))\n",
        "for idx_train,idx_test in stf.split(X,y):\n",
        "    randomf = RandomForestRegressor()\n",
        "    x_train = X[idx_train]\n",
        "    x_test = X[idx_test]\n",
        "    \n",
        "    y_train = y[idx_train]\n",
        "    y_test = y[idx_test]\n",
        "    scaler = MinMaxScaler()\n",
        "    scaler.fit(x_train)\n",
        "    x_train_std = scaler.transform(x_train)\n",
        "    x_test_std = scaler.transform(x_test)\n",
        "    \n",
        "    randomf.fit(x_train_std,y_train)\n",
        "    y_pred = randomf.predict(x_test_std)\n",
        "    mse = metrics.mean_squared_error(y_test,y_pred)\n",
        "    rf = np.append(rf,mse)\n",
        "\n",
        "print(\"desempenho RF\",np.mean(rf))\n"
      ],
      "execution_count": 37,
      "outputs": [
        {
          "output_type": "stream",
          "text": [
            "desempenho RF 905.8910661006694\n"
          ],
          "name": "stdout"
        }
      ]
    }
  ]
}