{
 "cells": [
  {
   "cell_type": "code",
   "execution_count": 1,
   "metadata": {},
   "outputs": [],
   "source": [
    "import numpy as np\n",
    "import pandas as pd\n"
   ]
  },
  {
   "cell_type": "code",
   "execution_count": 52,
   "metadata": {
    "scrolled": true
   },
   "outputs": [],
   "source": [
    "def load_data():\n",
    "    primeiro = pd.read_csv('BlogFeedback/blogData_test-2012.02.01.00_00.csv',header=None)\n",
    "    concat= primeiro\n",
    "    mes = 2\n",
    "    var = 0\n",
    "    inirange = 2\n",
    "    for i in range(inirange,31):\n",
    "        if i < 10:\n",
    "                primeiro = pd.read_csv('BlogFeedback/blogData_test-2012.0'+str(mes)+'.0'+ str(i) + '.0'+str(var)+'_00.csv',header=None)\n",
    "        else:\n",
    "\n",
    "            primeiro = pd.read_csv('BlogFeedback/blogData_test-2012.0'+str(mes)+'.'+ str(i) + '.0'+str(var)+'_00.csv',header=None)\n",
    "\n",
    "        if i == 29 and mes == 2:\n",
    "            mes = 3\n",
    "            var = 1\n",
    "            inirange = 1\n",
    "            i = inirange\n",
    "\n",
    "        concat = pd.concat([concat,primeiro], axis=0)\n",
    "        \n",
    "    test = pd.read_csv('BlogFeedback/blogData_train.csv',header=None)\n",
    "    concat = pd.concat([concat,test], axis=0)\n",
    "    \n",
    "    return concat.values[:,0:279],concat.values[:,280]\n",
    "load_data()\n",
    "\n",
    "X,y = load_data()"
   ]
  },
  {
   "cell_type": "code",
   "execution_count": null,
   "metadata": {},
   "outputs": [],
   "source": []
  }
 ],
 "metadata": {
  "kernelspec": {
   "display_name": "Python 3",
   "language": "python",
   "name": "python3"
  },
  "language_info": {
   "codemirror_mode": {
    "name": "ipython",
    "version": 3
   },
   "file_extension": ".py",
   "mimetype": "text/x-python",
   "name": "python",
   "nbconvert_exporter": "python",
   "pygments_lexer": "ipython3",
   "version": "3.6.4"
  }
 },
 "nbformat": 4,
 "nbformat_minor": 2
}
